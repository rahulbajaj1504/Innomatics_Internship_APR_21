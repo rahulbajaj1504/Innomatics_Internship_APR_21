{
 "cells": [
  {
   "cell_type": "code",
   "execution_count": 1,
   "metadata": {},
   "outputs": [],
   "source": [
    "import pandas as pd\n",
    "import numpy as np\n",
    "import matplotlib.pyplot as plt\n",
    "import seaborn as sns"
   ]
  },
  {
   "cell_type": "markdown",
   "metadata": {},
   "source": [
    "We will be performing eda on this dataset to understand the salary and the jobs of the engineers are offered after completing there graduate program. "
   ]
  },
  {
   "cell_type": "code",
   "execution_count": 2,
   "metadata": {},
   "outputs": [
    {
     "data": {
      "text/html": [
       "<div>\n",
       "<style scoped>\n",
       "    .dataframe tbody tr th:only-of-type {\n",
       "        vertical-align: middle;\n",
       "    }\n",
       "\n",
       "    .dataframe tbody tr th {\n",
       "        vertical-align: top;\n",
       "    }\n",
       "\n",
       "    .dataframe thead th {\n",
       "        text-align: right;\n",
       "    }\n",
       "</style>\n",
       "<table border=\"1\" class=\"dataframe\">\n",
       "  <thead>\n",
       "    <tr style=\"text-align: right;\">\n",
       "      <th></th>\n",
       "      <th>Unnamed: 0</th>\n",
       "      <th>ID</th>\n",
       "      <th>Salary</th>\n",
       "      <th>DOJ</th>\n",
       "      <th>DOL</th>\n",
       "      <th>Designation</th>\n",
       "      <th>JobCity</th>\n",
       "      <th>Gender</th>\n",
       "      <th>DOB</th>\n",
       "      <th>10percentage</th>\n",
       "      <th>...</th>\n",
       "      <th>ComputerScience</th>\n",
       "      <th>MechanicalEngg</th>\n",
       "      <th>ElectricalEngg</th>\n",
       "      <th>TelecomEngg</th>\n",
       "      <th>CivilEngg</th>\n",
       "      <th>conscientiousness</th>\n",
       "      <th>agreeableness</th>\n",
       "      <th>extraversion</th>\n",
       "      <th>nueroticism</th>\n",
       "      <th>openess_to_experience</th>\n",
       "    </tr>\n",
       "  </thead>\n",
       "  <tbody>\n",
       "    <tr>\n",
       "      <th>0</th>\n",
       "      <td>train</td>\n",
       "      <td>203097</td>\n",
       "      <td>420000</td>\n",
       "      <td>2012-06-01</td>\n",
       "      <td>present</td>\n",
       "      <td>senior quality engineer</td>\n",
       "      <td>Bangalore</td>\n",
       "      <td>f</td>\n",
       "      <td>1990-02-19</td>\n",
       "      <td>84.3</td>\n",
       "      <td>...</td>\n",
       "      <td>-1</td>\n",
       "      <td>-1</td>\n",
       "      <td>-1</td>\n",
       "      <td>-1</td>\n",
       "      <td>-1</td>\n",
       "      <td>0.9737</td>\n",
       "      <td>0.8128</td>\n",
       "      <td>0.5269</td>\n",
       "      <td>1.35490</td>\n",
       "      <td>-0.4455</td>\n",
       "    </tr>\n",
       "    <tr>\n",
       "      <th>1</th>\n",
       "      <td>train</td>\n",
       "      <td>579905</td>\n",
       "      <td>500000</td>\n",
       "      <td>2013-09-01</td>\n",
       "      <td>present</td>\n",
       "      <td>assistant manager</td>\n",
       "      <td>Indore</td>\n",
       "      <td>m</td>\n",
       "      <td>1989-10-04</td>\n",
       "      <td>85.4</td>\n",
       "      <td>...</td>\n",
       "      <td>-1</td>\n",
       "      <td>-1</td>\n",
       "      <td>-1</td>\n",
       "      <td>-1</td>\n",
       "      <td>-1</td>\n",
       "      <td>-0.7335</td>\n",
       "      <td>0.3789</td>\n",
       "      <td>1.2396</td>\n",
       "      <td>-0.10760</td>\n",
       "      <td>0.8637</td>\n",
       "    </tr>\n",
       "    <tr>\n",
       "      <th>2</th>\n",
       "      <td>train</td>\n",
       "      <td>810601</td>\n",
       "      <td>325000</td>\n",
       "      <td>2014-06-01</td>\n",
       "      <td>present</td>\n",
       "      <td>systems engineer</td>\n",
       "      <td>Chennai</td>\n",
       "      <td>f</td>\n",
       "      <td>1992-08-03</td>\n",
       "      <td>85.0</td>\n",
       "      <td>...</td>\n",
       "      <td>-1</td>\n",
       "      <td>-1</td>\n",
       "      <td>-1</td>\n",
       "      <td>-1</td>\n",
       "      <td>-1</td>\n",
       "      <td>0.2718</td>\n",
       "      <td>1.7109</td>\n",
       "      <td>0.1637</td>\n",
       "      <td>-0.86820</td>\n",
       "      <td>0.6721</td>\n",
       "    </tr>\n",
       "    <tr>\n",
       "      <th>3</th>\n",
       "      <td>train</td>\n",
       "      <td>267447</td>\n",
       "      <td>1100000</td>\n",
       "      <td>2011-07-01</td>\n",
       "      <td>present</td>\n",
       "      <td>senior software engineer</td>\n",
       "      <td>Gurgaon</td>\n",
       "      <td>m</td>\n",
       "      <td>1989-12-05</td>\n",
       "      <td>85.6</td>\n",
       "      <td>...</td>\n",
       "      <td>-1</td>\n",
       "      <td>-1</td>\n",
       "      <td>-1</td>\n",
       "      <td>-1</td>\n",
       "      <td>-1</td>\n",
       "      <td>0.0464</td>\n",
       "      <td>0.3448</td>\n",
       "      <td>-0.3440</td>\n",
       "      <td>-0.40780</td>\n",
       "      <td>-0.9194</td>\n",
       "    </tr>\n",
       "    <tr>\n",
       "      <th>4</th>\n",
       "      <td>train</td>\n",
       "      <td>343523</td>\n",
       "      <td>200000</td>\n",
       "      <td>2014-03-01</td>\n",
       "      <td>2015-03-01 00:00:00</td>\n",
       "      <td>get</td>\n",
       "      <td>Manesar</td>\n",
       "      <td>m</td>\n",
       "      <td>1991-02-27</td>\n",
       "      <td>78.0</td>\n",
       "      <td>...</td>\n",
       "      <td>-1</td>\n",
       "      <td>-1</td>\n",
       "      <td>-1</td>\n",
       "      <td>-1</td>\n",
       "      <td>-1</td>\n",
       "      <td>-0.8810</td>\n",
       "      <td>-0.2793</td>\n",
       "      <td>-1.0697</td>\n",
       "      <td>0.09163</td>\n",
       "      <td>-0.1295</td>\n",
       "    </tr>\n",
       "  </tbody>\n",
       "</table>\n",
       "<p>5 rows × 39 columns</p>\n",
       "</div>"
      ],
      "text/plain": [
       "  Unnamed: 0      ID   Salary        DOJ                  DOL  \\\n",
       "0      train  203097   420000 2012-06-01              present   \n",
       "1      train  579905   500000 2013-09-01              present   \n",
       "2      train  810601   325000 2014-06-01              present   \n",
       "3      train  267447  1100000 2011-07-01              present   \n",
       "4      train  343523   200000 2014-03-01  2015-03-01 00:00:00   \n",
       "\n",
       "                Designation    JobCity Gender        DOB  10percentage  ...  \\\n",
       "0   senior quality engineer  Bangalore      f 1990-02-19          84.3  ...   \n",
       "1         assistant manager     Indore      m 1989-10-04          85.4  ...   \n",
       "2          systems engineer    Chennai      f 1992-08-03          85.0  ...   \n",
       "3  senior software engineer    Gurgaon      m 1989-12-05          85.6  ...   \n",
       "4                       get    Manesar      m 1991-02-27          78.0  ...   \n",
       "\n",
       "  ComputerScience  MechanicalEngg  ElectricalEngg TelecomEngg  CivilEngg  \\\n",
       "0              -1              -1              -1          -1         -1   \n",
       "1              -1              -1              -1          -1         -1   \n",
       "2              -1              -1              -1          -1         -1   \n",
       "3              -1              -1              -1          -1         -1   \n",
       "4              -1              -1              -1          -1         -1   \n",
       "\n",
       "   conscientiousness agreeableness extraversion  nueroticism  \\\n",
       "0             0.9737        0.8128       0.5269      1.35490   \n",
       "1            -0.7335        0.3789       1.2396     -0.10760   \n",
       "2             0.2718        1.7109       0.1637     -0.86820   \n",
       "3             0.0464        0.3448      -0.3440     -0.40780   \n",
       "4            -0.8810       -0.2793      -1.0697      0.09163   \n",
       "\n",
       "   openess_to_experience  \n",
       "0                -0.4455  \n",
       "1                 0.8637  \n",
       "2                 0.6721  \n",
       "3                -0.9194  \n",
       "4                -0.1295  \n",
       "\n",
       "[5 rows x 39 columns]"
      ]
     },
     "execution_count": 2,
     "metadata": {},
     "output_type": "execute_result"
    }
   ],
   "source": [
    "df=pd.read_excel('aspiring_minds_employability_outcomes_2015.xlsx')\n",
    "df.head()"
   ]
  },
  {
   "cell_type": "code",
   "execution_count": 6,
   "metadata": {},
   "outputs": [
    {
     "data": {
      "text/html": [
       "<div>\n",
       "<style scoped>\n",
       "    .dataframe tbody tr th:only-of-type {\n",
       "        vertical-align: middle;\n",
       "    }\n",
       "\n",
       "    .dataframe tbody tr th {\n",
       "        vertical-align: top;\n",
       "    }\n",
       "\n",
       "    .dataframe thead th {\n",
       "        text-align: right;\n",
       "    }\n",
       "</style>\n",
       "<table border=\"1\" class=\"dataframe\">\n",
       "  <thead>\n",
       "    <tr style=\"text-align: right;\">\n",
       "      <th></th>\n",
       "      <th>ID</th>\n",
       "      <th>Salary</th>\n",
       "      <th>DOJ</th>\n",
       "      <th>DOL</th>\n",
       "      <th>Designation</th>\n",
       "      <th>JobCity</th>\n",
       "      <th>Gender</th>\n",
       "      <th>DOB</th>\n",
       "      <th>10percentage</th>\n",
       "      <th>10board</th>\n",
       "      <th>...</th>\n",
       "      <th>ComputerScience</th>\n",
       "      <th>MechanicalEngg</th>\n",
       "      <th>ElectricalEngg</th>\n",
       "      <th>TelecomEngg</th>\n",
       "      <th>CivilEngg</th>\n",
       "      <th>conscientiousness</th>\n",
       "      <th>agreeableness</th>\n",
       "      <th>extraversion</th>\n",
       "      <th>nueroticism</th>\n",
       "      <th>openess_to_experience</th>\n",
       "    </tr>\n",
       "  </thead>\n",
       "  <tbody>\n",
       "    <tr>\n",
       "      <th>0</th>\n",
       "      <td>203097</td>\n",
       "      <td>420000</td>\n",
       "      <td>2012-06-01</td>\n",
       "      <td>present</td>\n",
       "      <td>senior quality engineer</td>\n",
       "      <td>Bangalore</td>\n",
       "      <td>f</td>\n",
       "      <td>1990-02-19</td>\n",
       "      <td>84.3</td>\n",
       "      <td>board ofsecondary education,ap</td>\n",
       "      <td>...</td>\n",
       "      <td>-1</td>\n",
       "      <td>-1</td>\n",
       "      <td>-1</td>\n",
       "      <td>-1</td>\n",
       "      <td>-1</td>\n",
       "      <td>0.9737</td>\n",
       "      <td>0.8128</td>\n",
       "      <td>0.5269</td>\n",
       "      <td>1.35490</td>\n",
       "      <td>-0.4455</td>\n",
       "    </tr>\n",
       "    <tr>\n",
       "      <th>1</th>\n",
       "      <td>579905</td>\n",
       "      <td>500000</td>\n",
       "      <td>2013-09-01</td>\n",
       "      <td>present</td>\n",
       "      <td>assistant manager</td>\n",
       "      <td>Indore</td>\n",
       "      <td>m</td>\n",
       "      <td>1989-10-04</td>\n",
       "      <td>85.4</td>\n",
       "      <td>cbse</td>\n",
       "      <td>...</td>\n",
       "      <td>-1</td>\n",
       "      <td>-1</td>\n",
       "      <td>-1</td>\n",
       "      <td>-1</td>\n",
       "      <td>-1</td>\n",
       "      <td>-0.7335</td>\n",
       "      <td>0.3789</td>\n",
       "      <td>1.2396</td>\n",
       "      <td>-0.10760</td>\n",
       "      <td>0.8637</td>\n",
       "    </tr>\n",
       "    <tr>\n",
       "      <th>2</th>\n",
       "      <td>810601</td>\n",
       "      <td>325000</td>\n",
       "      <td>2014-06-01</td>\n",
       "      <td>present</td>\n",
       "      <td>systems engineer</td>\n",
       "      <td>Chennai</td>\n",
       "      <td>f</td>\n",
       "      <td>1992-08-03</td>\n",
       "      <td>85.0</td>\n",
       "      <td>cbse</td>\n",
       "      <td>...</td>\n",
       "      <td>-1</td>\n",
       "      <td>-1</td>\n",
       "      <td>-1</td>\n",
       "      <td>-1</td>\n",
       "      <td>-1</td>\n",
       "      <td>0.2718</td>\n",
       "      <td>1.7109</td>\n",
       "      <td>0.1637</td>\n",
       "      <td>-0.86820</td>\n",
       "      <td>0.6721</td>\n",
       "    </tr>\n",
       "    <tr>\n",
       "      <th>3</th>\n",
       "      <td>267447</td>\n",
       "      <td>1100000</td>\n",
       "      <td>2011-07-01</td>\n",
       "      <td>present</td>\n",
       "      <td>senior software engineer</td>\n",
       "      <td>Gurgaon</td>\n",
       "      <td>m</td>\n",
       "      <td>1989-12-05</td>\n",
       "      <td>85.6</td>\n",
       "      <td>cbse</td>\n",
       "      <td>...</td>\n",
       "      <td>-1</td>\n",
       "      <td>-1</td>\n",
       "      <td>-1</td>\n",
       "      <td>-1</td>\n",
       "      <td>-1</td>\n",
       "      <td>0.0464</td>\n",
       "      <td>0.3448</td>\n",
       "      <td>-0.3440</td>\n",
       "      <td>-0.40780</td>\n",
       "      <td>-0.9194</td>\n",
       "    </tr>\n",
       "    <tr>\n",
       "      <th>4</th>\n",
       "      <td>343523</td>\n",
       "      <td>200000</td>\n",
       "      <td>2014-03-01</td>\n",
       "      <td>2015-03-01 00:00:00</td>\n",
       "      <td>get</td>\n",
       "      <td>Manesar</td>\n",
       "      <td>m</td>\n",
       "      <td>1991-02-27</td>\n",
       "      <td>78.0</td>\n",
       "      <td>cbse</td>\n",
       "      <td>...</td>\n",
       "      <td>-1</td>\n",
       "      <td>-1</td>\n",
       "      <td>-1</td>\n",
       "      <td>-1</td>\n",
       "      <td>-1</td>\n",
       "      <td>-0.8810</td>\n",
       "      <td>-0.2793</td>\n",
       "      <td>-1.0697</td>\n",
       "      <td>0.09163</td>\n",
       "      <td>-0.1295</td>\n",
       "    </tr>\n",
       "  </tbody>\n",
       "</table>\n",
       "<p>5 rows × 38 columns</p>\n",
       "</div>"
      ],
      "text/plain": [
       "       ID   Salary        DOJ                  DOL               Designation  \\\n",
       "0  203097   420000 2012-06-01              present   senior quality engineer   \n",
       "1  579905   500000 2013-09-01              present         assistant manager   \n",
       "2  810601   325000 2014-06-01              present          systems engineer   \n",
       "3  267447  1100000 2011-07-01              present  senior software engineer   \n",
       "4  343523   200000 2014-03-01  2015-03-01 00:00:00                       get   \n",
       "\n",
       "     JobCity Gender        DOB  10percentage                         10board  \\\n",
       "0  Bangalore      f 1990-02-19          84.3  board ofsecondary education,ap   \n",
       "1     Indore      m 1989-10-04          85.4                            cbse   \n",
       "2    Chennai      f 1992-08-03          85.0                            cbse   \n",
       "3    Gurgaon      m 1989-12-05          85.6                            cbse   \n",
       "4    Manesar      m 1991-02-27          78.0                            cbse   \n",
       "\n",
       "   ...  ComputerScience  MechanicalEngg ElectricalEngg  TelecomEngg  \\\n",
       "0  ...               -1              -1             -1           -1   \n",
       "1  ...               -1              -1             -1           -1   \n",
       "2  ...               -1              -1             -1           -1   \n",
       "3  ...               -1              -1             -1           -1   \n",
       "4  ...               -1              -1             -1           -1   \n",
       "\n",
       "   CivilEngg conscientiousness agreeableness  extraversion  nueroticism  \\\n",
       "0         -1            0.9737        0.8128        0.5269      1.35490   \n",
       "1         -1           -0.7335        0.3789        1.2396     -0.10760   \n",
       "2         -1            0.2718        1.7109        0.1637     -0.86820   \n",
       "3         -1            0.0464        0.3448       -0.3440     -0.40780   \n",
       "4         -1           -0.8810       -0.2793       -1.0697      0.09163   \n",
       "\n",
       "   openess_to_experience  \n",
       "0                -0.4455  \n",
       "1                 0.8637  \n",
       "2                 0.6721  \n",
       "3                -0.9194  \n",
       "4                -0.1295  \n",
       "\n",
       "[5 rows x 38 columns]"
      ]
     },
     "execution_count": 6,
     "metadata": {},
     "output_type": "execute_result"
    }
   ],
   "source": [
    "df.drop('Unnamed: 0',axis=1,inplace=True)\n",
    "df.head()"
   ]
  },
  {
   "cell_type": "code",
   "execution_count": 7,
   "metadata": {},
   "outputs": [
    {
     "data": {
      "text/plain": [
       "(3998, 38)"
      ]
     },
     "execution_count": 7,
     "metadata": {},
     "output_type": "execute_result"
    }
   ],
   "source": [
    "df.shape"
   ]
  },
  {
   "cell_type": "code",
   "execution_count": 8,
   "metadata": {},
   "outputs": [
    {
     "data": {
      "text/plain": [
       "Index(['ID', 'Salary', 'DOJ', 'DOL', 'Designation', 'JobCity', 'Gender', 'DOB',\n",
       "       '10percentage', '10board', '12graduation', '12percentage', '12board',\n",
       "       'CollegeID', 'CollegeTier', 'Degree', 'Specialization', 'collegeGPA',\n",
       "       'CollegeCityID', 'CollegeCityTier', 'CollegeState', 'GraduationYear',\n",
       "       'English', 'Logical', 'Quant', 'Domain', 'ComputerProgramming',\n",
       "       'ElectronicsAndSemicon', 'ComputerScience', 'MechanicalEngg',\n",
       "       'ElectricalEngg', 'TelecomEngg', 'CivilEngg', 'conscientiousness',\n",
       "       'agreeableness', 'extraversion', 'nueroticism',\n",
       "       'openess_to_experience'],\n",
       "      dtype='object')"
      ]
     },
     "execution_count": 8,
     "metadata": {},
     "output_type": "execute_result"
    }
   ],
   "source": [
    "df.columns"
   ]
  },
  {
   "cell_type": "code",
   "execution_count": 9,
   "metadata": {},
   "outputs": [
    {
     "data": {
      "text/plain": [
       "ID                                int64\n",
       "Salary                            int64\n",
       "DOJ                      datetime64[ns]\n",
       "DOL                              object\n",
       "Designation                      object\n",
       "JobCity                          object\n",
       "Gender                           object\n",
       "DOB                      datetime64[ns]\n",
       "10percentage                    float64\n",
       "10board                          object\n",
       "12graduation                      int64\n",
       "12percentage                    float64\n",
       "12board                          object\n",
       "CollegeID                         int64\n",
       "CollegeTier                       int64\n",
       "Degree                           object\n",
       "Specialization                   object\n",
       "collegeGPA                      float64\n",
       "CollegeCityID                     int64\n",
       "CollegeCityTier                   int64\n",
       "CollegeState                     object\n",
       "GraduationYear                    int64\n",
       "English                           int64\n",
       "Logical                           int64\n",
       "Quant                             int64\n",
       "Domain                          float64\n",
       "ComputerProgramming               int64\n",
       "ElectronicsAndSemicon             int64\n",
       "ComputerScience                   int64\n",
       "MechanicalEngg                    int64\n",
       "ElectricalEngg                    int64\n",
       "TelecomEngg                       int64\n",
       "CivilEngg                         int64\n",
       "conscientiousness               float64\n",
       "agreeableness                   float64\n",
       "extraversion                    float64\n",
       "nueroticism                     float64\n",
       "openess_to_experience           float64\n",
       "dtype: object"
      ]
     },
     "execution_count": 9,
     "metadata": {},
     "output_type": "execute_result"
    }
   ],
   "source": [
    "df.dtypes"
   ]
  },
  {
   "cell_type": "code",
   "execution_count": 10,
   "metadata": {},
   "outputs": [
    {
     "data": {
      "text/html": [
       "<div>\n",
       "<style scoped>\n",
       "    .dataframe tbody tr th:only-of-type {\n",
       "        vertical-align: middle;\n",
       "    }\n",
       "\n",
       "    .dataframe tbody tr th {\n",
       "        vertical-align: top;\n",
       "    }\n",
       "\n",
       "    .dataframe thead th {\n",
       "        text-align: right;\n",
       "    }\n",
       "</style>\n",
       "<table border=\"1\" class=\"dataframe\">\n",
       "  <thead>\n",
       "    <tr style=\"text-align: right;\">\n",
       "      <th></th>\n",
       "      <th>ID</th>\n",
       "      <th>Salary</th>\n",
       "      <th>10percentage</th>\n",
       "      <th>12graduation</th>\n",
       "      <th>12percentage</th>\n",
       "      <th>CollegeID</th>\n",
       "      <th>CollegeTier</th>\n",
       "      <th>collegeGPA</th>\n",
       "      <th>CollegeCityID</th>\n",
       "      <th>CollegeCityTier</th>\n",
       "      <th>...</th>\n",
       "      <th>ComputerScience</th>\n",
       "      <th>MechanicalEngg</th>\n",
       "      <th>ElectricalEngg</th>\n",
       "      <th>TelecomEngg</th>\n",
       "      <th>CivilEngg</th>\n",
       "      <th>conscientiousness</th>\n",
       "      <th>agreeableness</th>\n",
       "      <th>extraversion</th>\n",
       "      <th>nueroticism</th>\n",
       "      <th>openess_to_experience</th>\n",
       "    </tr>\n",
       "  </thead>\n",
       "  <tbody>\n",
       "    <tr>\n",
       "      <th>count</th>\n",
       "      <td>3.998000e+03</td>\n",
       "      <td>3.998000e+03</td>\n",
       "      <td>3998.000000</td>\n",
       "      <td>3998.000000</td>\n",
       "      <td>3998.000000</td>\n",
       "      <td>3998.000000</td>\n",
       "      <td>3998.000000</td>\n",
       "      <td>3998.000000</td>\n",
       "      <td>3998.000000</td>\n",
       "      <td>3998.000000</td>\n",
       "      <td>...</td>\n",
       "      <td>3998.000000</td>\n",
       "      <td>3998.000000</td>\n",
       "      <td>3998.000000</td>\n",
       "      <td>3998.000000</td>\n",
       "      <td>3998.000000</td>\n",
       "      <td>3998.000000</td>\n",
       "      <td>3998.000000</td>\n",
       "      <td>3998.000000</td>\n",
       "      <td>3998.000000</td>\n",
       "      <td>3998.000000</td>\n",
       "    </tr>\n",
       "    <tr>\n",
       "      <th>mean</th>\n",
       "      <td>6.637945e+05</td>\n",
       "      <td>3.076998e+05</td>\n",
       "      <td>77.925443</td>\n",
       "      <td>2008.087544</td>\n",
       "      <td>74.466366</td>\n",
       "      <td>5156.851426</td>\n",
       "      <td>1.925713</td>\n",
       "      <td>71.486171</td>\n",
       "      <td>5156.851426</td>\n",
       "      <td>0.300400</td>\n",
       "      <td>...</td>\n",
       "      <td>90.742371</td>\n",
       "      <td>22.974737</td>\n",
       "      <td>16.478739</td>\n",
       "      <td>31.851176</td>\n",
       "      <td>2.683842</td>\n",
       "      <td>-0.037831</td>\n",
       "      <td>0.146496</td>\n",
       "      <td>0.002763</td>\n",
       "      <td>-0.169033</td>\n",
       "      <td>-0.138110</td>\n",
       "    </tr>\n",
       "    <tr>\n",
       "      <th>std</th>\n",
       "      <td>3.632182e+05</td>\n",
       "      <td>2.127375e+05</td>\n",
       "      <td>9.850162</td>\n",
       "      <td>1.653599</td>\n",
       "      <td>10.999933</td>\n",
       "      <td>4802.261482</td>\n",
       "      <td>0.262270</td>\n",
       "      <td>8.167338</td>\n",
       "      <td>4802.261482</td>\n",
       "      <td>0.458489</td>\n",
       "      <td>...</td>\n",
       "      <td>175.273083</td>\n",
       "      <td>98.123311</td>\n",
       "      <td>87.585634</td>\n",
       "      <td>104.852845</td>\n",
       "      <td>36.658505</td>\n",
       "      <td>1.028666</td>\n",
       "      <td>0.941782</td>\n",
       "      <td>0.951471</td>\n",
       "      <td>1.007580</td>\n",
       "      <td>1.008075</td>\n",
       "    </tr>\n",
       "    <tr>\n",
       "      <th>min</th>\n",
       "      <td>1.124400e+04</td>\n",
       "      <td>3.500000e+04</td>\n",
       "      <td>43.000000</td>\n",
       "      <td>1995.000000</td>\n",
       "      <td>40.000000</td>\n",
       "      <td>2.000000</td>\n",
       "      <td>1.000000</td>\n",
       "      <td>6.450000</td>\n",
       "      <td>2.000000</td>\n",
       "      <td>0.000000</td>\n",
       "      <td>...</td>\n",
       "      <td>-1.000000</td>\n",
       "      <td>-1.000000</td>\n",
       "      <td>-1.000000</td>\n",
       "      <td>-1.000000</td>\n",
       "      <td>-1.000000</td>\n",
       "      <td>-4.126700</td>\n",
       "      <td>-5.781600</td>\n",
       "      <td>-4.600900</td>\n",
       "      <td>-2.643000</td>\n",
       "      <td>-7.375700</td>\n",
       "    </tr>\n",
       "    <tr>\n",
       "      <th>25%</th>\n",
       "      <td>3.342842e+05</td>\n",
       "      <td>1.800000e+05</td>\n",
       "      <td>71.680000</td>\n",
       "      <td>2007.000000</td>\n",
       "      <td>66.000000</td>\n",
       "      <td>494.000000</td>\n",
       "      <td>2.000000</td>\n",
       "      <td>66.407500</td>\n",
       "      <td>494.000000</td>\n",
       "      <td>0.000000</td>\n",
       "      <td>...</td>\n",
       "      <td>-1.000000</td>\n",
       "      <td>-1.000000</td>\n",
       "      <td>-1.000000</td>\n",
       "      <td>-1.000000</td>\n",
       "      <td>-1.000000</td>\n",
       "      <td>-0.713525</td>\n",
       "      <td>-0.287100</td>\n",
       "      <td>-0.604800</td>\n",
       "      <td>-0.868200</td>\n",
       "      <td>-0.669200</td>\n",
       "    </tr>\n",
       "    <tr>\n",
       "      <th>50%</th>\n",
       "      <td>6.396000e+05</td>\n",
       "      <td>3.000000e+05</td>\n",
       "      <td>79.150000</td>\n",
       "      <td>2008.000000</td>\n",
       "      <td>74.400000</td>\n",
       "      <td>3879.000000</td>\n",
       "      <td>2.000000</td>\n",
       "      <td>71.720000</td>\n",
       "      <td>3879.000000</td>\n",
       "      <td>0.000000</td>\n",
       "      <td>...</td>\n",
       "      <td>-1.000000</td>\n",
       "      <td>-1.000000</td>\n",
       "      <td>-1.000000</td>\n",
       "      <td>-1.000000</td>\n",
       "      <td>-1.000000</td>\n",
       "      <td>0.046400</td>\n",
       "      <td>0.212400</td>\n",
       "      <td>0.091400</td>\n",
       "      <td>-0.234400</td>\n",
       "      <td>-0.094300</td>\n",
       "    </tr>\n",
       "    <tr>\n",
       "      <th>75%</th>\n",
       "      <td>9.904800e+05</td>\n",
       "      <td>3.700000e+05</td>\n",
       "      <td>85.670000</td>\n",
       "      <td>2009.000000</td>\n",
       "      <td>82.600000</td>\n",
       "      <td>8818.000000</td>\n",
       "      <td>2.000000</td>\n",
       "      <td>76.327500</td>\n",
       "      <td>8818.000000</td>\n",
       "      <td>1.000000</td>\n",
       "      <td>...</td>\n",
       "      <td>-1.000000</td>\n",
       "      <td>-1.000000</td>\n",
       "      <td>-1.000000</td>\n",
       "      <td>-1.000000</td>\n",
       "      <td>-1.000000</td>\n",
       "      <td>0.702700</td>\n",
       "      <td>0.812800</td>\n",
       "      <td>0.672000</td>\n",
       "      <td>0.526200</td>\n",
       "      <td>0.502400</td>\n",
       "    </tr>\n",
       "    <tr>\n",
       "      <th>max</th>\n",
       "      <td>1.298275e+06</td>\n",
       "      <td>4.000000e+06</td>\n",
       "      <td>97.760000</td>\n",
       "      <td>2013.000000</td>\n",
       "      <td>98.700000</td>\n",
       "      <td>18409.000000</td>\n",
       "      <td>2.000000</td>\n",
       "      <td>99.930000</td>\n",
       "      <td>18409.000000</td>\n",
       "      <td>1.000000</td>\n",
       "      <td>...</td>\n",
       "      <td>715.000000</td>\n",
       "      <td>623.000000</td>\n",
       "      <td>676.000000</td>\n",
       "      <td>548.000000</td>\n",
       "      <td>516.000000</td>\n",
       "      <td>1.995300</td>\n",
       "      <td>1.904800</td>\n",
       "      <td>2.535400</td>\n",
       "      <td>3.352500</td>\n",
       "      <td>1.822400</td>\n",
       "    </tr>\n",
       "  </tbody>\n",
       "</table>\n",
       "<p>8 rows × 27 columns</p>\n",
       "</div>"
      ],
      "text/plain": [
       "                 ID        Salary  10percentage  12graduation  12percentage  \\\n",
       "count  3.998000e+03  3.998000e+03   3998.000000   3998.000000   3998.000000   \n",
       "mean   6.637945e+05  3.076998e+05     77.925443   2008.087544     74.466366   \n",
       "std    3.632182e+05  2.127375e+05      9.850162      1.653599     10.999933   \n",
       "min    1.124400e+04  3.500000e+04     43.000000   1995.000000     40.000000   \n",
       "25%    3.342842e+05  1.800000e+05     71.680000   2007.000000     66.000000   \n",
       "50%    6.396000e+05  3.000000e+05     79.150000   2008.000000     74.400000   \n",
       "75%    9.904800e+05  3.700000e+05     85.670000   2009.000000     82.600000   \n",
       "max    1.298275e+06  4.000000e+06     97.760000   2013.000000     98.700000   \n",
       "\n",
       "          CollegeID  CollegeTier   collegeGPA  CollegeCityID  CollegeCityTier  \\\n",
       "count   3998.000000  3998.000000  3998.000000    3998.000000      3998.000000   \n",
       "mean    5156.851426     1.925713    71.486171    5156.851426         0.300400   \n",
       "std     4802.261482     0.262270     8.167338    4802.261482         0.458489   \n",
       "min        2.000000     1.000000     6.450000       2.000000         0.000000   \n",
       "25%      494.000000     2.000000    66.407500     494.000000         0.000000   \n",
       "50%     3879.000000     2.000000    71.720000    3879.000000         0.000000   \n",
       "75%     8818.000000     2.000000    76.327500    8818.000000         1.000000   \n",
       "max    18409.000000     2.000000    99.930000   18409.000000         1.000000   \n",
       "\n",
       "       ...  ComputerScience  MechanicalEngg  ElectricalEngg  TelecomEngg  \\\n",
       "count  ...      3998.000000     3998.000000     3998.000000  3998.000000   \n",
       "mean   ...        90.742371       22.974737       16.478739    31.851176   \n",
       "std    ...       175.273083       98.123311       87.585634   104.852845   \n",
       "min    ...        -1.000000       -1.000000       -1.000000    -1.000000   \n",
       "25%    ...        -1.000000       -1.000000       -1.000000    -1.000000   \n",
       "50%    ...        -1.000000       -1.000000       -1.000000    -1.000000   \n",
       "75%    ...        -1.000000       -1.000000       -1.000000    -1.000000   \n",
       "max    ...       715.000000      623.000000      676.000000   548.000000   \n",
       "\n",
       "         CivilEngg  conscientiousness  agreeableness  extraversion  \\\n",
       "count  3998.000000        3998.000000    3998.000000   3998.000000   \n",
       "mean      2.683842          -0.037831       0.146496      0.002763   \n",
       "std      36.658505           1.028666       0.941782      0.951471   \n",
       "min      -1.000000          -4.126700      -5.781600     -4.600900   \n",
       "25%      -1.000000          -0.713525      -0.287100     -0.604800   \n",
       "50%      -1.000000           0.046400       0.212400      0.091400   \n",
       "75%      -1.000000           0.702700       0.812800      0.672000   \n",
       "max     516.000000           1.995300       1.904800      2.535400   \n",
       "\n",
       "       nueroticism  openess_to_experience  \n",
       "count  3998.000000            3998.000000  \n",
       "mean     -0.169033              -0.138110  \n",
       "std       1.007580               1.008075  \n",
       "min      -2.643000              -7.375700  \n",
       "25%      -0.868200              -0.669200  \n",
       "50%      -0.234400              -0.094300  \n",
       "75%       0.526200               0.502400  \n",
       "max       3.352500               1.822400  \n",
       "\n",
       "[8 rows x 27 columns]"
      ]
     },
     "execution_count": 10,
     "metadata": {},
     "output_type": "execute_result"
    }
   ],
   "source": [
    "df.describe()"
   ]
  },
  {
   "cell_type": "markdown",
   "metadata": {},
   "source": [
    "### Univariate Analysis"
   ]
  },
  {
   "cell_type": "code",
   "execution_count": 17,
   "metadata": {},
   "outputs": [
    {
     "data": {
      "text/plain": [
       "array([[<matplotlib.axes._subplots.AxesSubplot object at 0x000001B99F49A3C8>,\n",
       "        <matplotlib.axes._subplots.AxesSubplot object at 0x000001B9A07619C8>,\n",
       "        <matplotlib.axes._subplots.AxesSubplot object at 0x000001B9A11F6E88>,\n",
       "        <matplotlib.axes._subplots.AxesSubplot object at 0x000001B9A13160C8>,\n",
       "        <matplotlib.axes._subplots.AxesSubplot object at 0x000001B9A12CAA08>],\n",
       "       [<matplotlib.axes._subplots.AxesSubplot object at 0x000001B9A133B408>,\n",
       "        <matplotlib.axes._subplots.AxesSubplot object at 0x000001B9A160DF88>,\n",
       "        <matplotlib.axes._subplots.AxesSubplot object at 0x000001B9A09E9108>,\n",
       "        <matplotlib.axes._subplots.AxesSubplot object at 0x000001B9A09ECCC8>,\n",
       "        <matplotlib.axes._subplots.AxesSubplot object at 0x000001B9A0A04E88>],\n",
       "       [<matplotlib.axes._subplots.AxesSubplot object at 0x000001B9A0A30448>,\n",
       "        <matplotlib.axes._subplots.AxesSubplot object at 0x000001B9A0A474C8>,\n",
       "        <matplotlib.axes._subplots.AxesSubplot object at 0x000001B9A0A5D5C8>,\n",
       "        <matplotlib.axes._subplots.AxesSubplot object at 0x000001B9A0A80708>,\n",
       "        <matplotlib.axes._subplots.AxesSubplot object at 0x000001B9A0AAD808>],\n",
       "       [<matplotlib.axes._subplots.AxesSubplot object at 0x000001B9A0AE5908>,\n",
       "        <matplotlib.axes._subplots.AxesSubplot object at 0x000001B9A0B1E9C8>,\n",
       "        <matplotlib.axes._subplots.AxesSubplot object at 0x000001B9A0B57AC8>,\n",
       "        <matplotlib.axes._subplots.AxesSubplot object at 0x000001B9A0B90BC8>,\n",
       "        <matplotlib.axes._subplots.AxesSubplot object at 0x000001B9A0BC8D08>],\n",
       "       [<matplotlib.axes._subplots.AxesSubplot object at 0x000001B9A0C01E08>,\n",
       "        <matplotlib.axes._subplots.AxesSubplot object at 0x000001B9A0C3AEC8>,\n",
       "        <matplotlib.axes._subplots.AxesSubplot object at 0x000001B9A0C78048>,\n",
       "        <matplotlib.axes._subplots.AxesSubplot object at 0x000001B9A0CAD188>,\n",
       "        <matplotlib.axes._subplots.AxesSubplot object at 0x000001B9A0CE6288>],\n",
       "       [<matplotlib.axes._subplots.AxesSubplot object at 0x000001B9A0D1F388>,\n",
       "        <matplotlib.axes._subplots.AxesSubplot object at 0x000001B9A0D574C8>,\n",
       "        <matplotlib.axes._subplots.AxesSubplot object at 0x000001B9A0D91508>,\n",
       "        <matplotlib.axes._subplots.AxesSubplot object at 0x000001B9A0DCB6C8>,\n",
       "        <matplotlib.axes._subplots.AxesSubplot object at 0x000001B9A0E038C8>]],\n",
       "      dtype=object)"
      ]
     },
     "execution_count": 17,
     "metadata": {},
     "output_type": "execute_result"
    },
    {
     "data": {
      "image/png": "[encoded data removed]",
      "text/plain": [
       "<Figure size 1440x1440 with 30 Axes>"
      ]
     },
     "metadata": {
      "needs_background": "light"
     },
     "output_type": "display_data"
    }
   ],
   "source": [
    "df.hist(bins=60,figsize=(20,20))"
   ]
  },
  {
   "cell_type": "markdown",
   "metadata": {},
   "source": [
    "### Salary"
   ]
  },
  {
   "cell_type": "code",
   "execution_count": 24,
   "metadata": {},
   "outputs": [
    {
     "data": {
      "text/plain": [
       "(array([3.398e+03, 5.500e+02, 2.700e+01, 6.000e+00, 8.000e+00, 3.000e+00,\n",
       "        2.000e+00, 1.000e+00, 1.000e+00, 2.000e+00]),\n",
       " array([  35000.,  431500.,  828000., 1224500., 1621000., 2017500.,\n",
       "        2414000., 2810500., 3207000., 3603500., 4000000.]),\n",
       " <a list of 10 Patch objects>)"
      ]
     },
     "execution_count": 24,
     "metadata": {},
     "output_type": "execute_result"
    },
    {
     "data": {
      "image/png": "[encoded data removed]",
      "text/plain": [
       "<Figure size 432x288 with 1 Axes>"
      ]
     },
     "metadata": {
      "needs_background": "light"
     },
     "output_type": "display_data"
    }
   ],
   "source": [
    "plt.hist(x=df.Salary)"
   ]
  },
  {
   "cell_type": "code",
   "execution_count": 18,
   "metadata": {},
   "outputs": [
    {
     "data": {
      "text/plain": [
       "<matplotlib.axes._subplots.AxesSubplot at 0x1b9a1ff6588>"
      ]
     },
     "execution_count": 18,
     "metadata": {},
     "output_type": "execute_result"
    },
    {
     "data": {
      "image/png": "[encoded data removed]",
      "text/plain": [
       "<Figure size 432x288 with 1 Axes>"
      ]
     },
     "metadata": {
      "needs_background": "light"
     },
     "output_type": "display_data"
    }
   ],
   "source": [
    "sns.boxplot(x=df.Salary)"
   ]
  },
  {
   "cell_type": "markdown",
   "metadata": {},
   "source": [
    "We have outlier in our data and if we want we can remove it"
   ]
  },
  {
   "cell_type": "code",
   "execution_count": 33,
   "metadata": {},
   "outputs": [],
   "source": [
    "outlier=df[(df.Salary > df.Salary.mean() - 2*df.Salary.std()) & (df.Salary < df.Salary.mean() + 2*df.Salary.std())]"
   ]
  },
  {
   "cell_type": "code",
   "execution_count": 34,
   "metadata": {},
   "outputs": [
    {
     "name": "stdout",
     "output_type": "stream",
     "text": [
      "(3998, 38)\n",
      "(3927, 38)\n"
     ]
    }
   ],
   "source": [
    "print(df.shape)\n",
    "print(outlier.shape)"
   ]
  },
  {
   "cell_type": "markdown",
   "metadata": {},
   "source": [
    "In ouliers there will be few points missing"
   ]
  },
  {
   "cell_type": "code",
   "execution_count": 35,
   "metadata": {},
   "outputs": [
    {
     "data": {
      "text/plain": [
       "<matplotlib.axes._subplots.AxesSubplot at 0x1b9a4c22d08>"
      ]
     },
     "execution_count": 35,
     "metadata": {},
     "output_type": "execute_result"
    },
    {
     "data": {
      "image/png": "[encoded data removed]",
      "text/plain": [
       "<Figure size 432x288 with 1 Axes>"
      ]
     },
     "metadata": {
      "needs_background": "light"
     },
     "output_type": "display_data"
    }
   ],
   "source": [
    "sns.boxplot(x=outlier.Salary)"
   ]
  },
  {
   "cell_type": "markdown",
   "metadata": {},
   "source": [
    "The average salary is between 2 to 4 LPA, but still we have outlier, we can decrease standard deviation to remove them."
   ]
  },
  {
   "cell_type": "code",
   "execution_count": 36,
   "metadata": {},
   "outputs": [
    {
     "data": {
      "text/plain": [
       "(array([226., 533., 888., 613., 809., 443., 214.,  81.,  84.,  36.]),\n",
       " array([ 35000., 104500., 174000., 243500., 313000., 382500., 452000.,\n",
       "        521500., 591000., 660500., 730000.]),\n",
       " <a list of 10 Patch objects>)"
      ]
     },
     "execution_count": 36,
     "metadata": {},
     "output_type": "execute_result"
    },
    {
     "data": {
      "image/png": "[encoded data removed]",
      "text/plain": [
       "<Figure size 432x288 with 1 Axes>"
      ]
     },
     "metadata": {
      "needs_background": "light"
     },
     "output_type": "display_data"
    }
   ],
   "source": [
    "plt.hist(x=outlier.Salary)"
   ]
  },
  {
   "cell_type": "markdown",
   "metadata": {},
   "source": [
    "### Gender"
   ]
  },
  {
   "cell_type": "code",
   "execution_count": 37,
   "metadata": {},
   "outputs": [
    {
     "data": {
      "text/plain": [
       "<matplotlib.axes._subplots.AxesSubplot at 0x1b9a4d03f88>"
      ]
     },
     "execution_count": 37,
     "metadata": {},
     "output_type": "execute_result"
    },
    {
     "data": {
      "image/png": "[encoded data removed]",
      "text/plain": [
       "<Figure size 432x288 with 1 Axes>"
      ]
     },
     "metadata": {
      "needs_background": "light"
     },
     "output_type": "display_data"
    }
   ],
   "source": [
    "sns.countplot(data=df,x='Gender')"
   ]
  },
  {
   "cell_type": "code",
   "execution_count": 38,
   "metadata": {},
   "outputs": [
    {
     "data": {
      "text/plain": [
       "m    3041\n",
       "f     957\n",
       "Name: Gender, dtype: int64"
      ]
     },
     "execution_count": 38,
     "metadata": {},
     "output_type": "execute_result"
    }
   ],
   "source": [
    "df['Gender'].value_counts()"
   ]
  },
  {
   "cell_type": "markdown",
   "metadata": {},
   "source": [
    "A huge hap between gender of male and female"
   ]
  },
  {
   "cell_type": "markdown",
   "metadata": {},
   "source": [
    "### 10th percentage"
   ]
  },
  {
   "cell_type": "code",
   "execution_count": 44,
   "metadata": {},
   "outputs": [
    {
     "data": {
      "text/plain": [
       "<matplotlib.axes._subplots.AxesSubplot at 0x1b9a4f41a48>"
      ]
     },
     "execution_count": 44,
     "metadata": {},
     "output_type": "execute_result"
    },
    {
     "data": {
      "image/png": "[encoded data removed]",
      "text/plain": [
       "<Figure size 432x288 with 1 Axes>"
      ]
     },
     "metadata": {
      "needs_background": "light"
     },
     "output_type": "display_data"
    }
   ],
   "source": [
    "sns.distplot(df['10percentage'])"
   ]
  },
  {
   "cell_type": "markdown",
   "metadata": {},
   "source": [
    "From above we can see average is near 80 and the graph is left skewed"
   ]
  },
  {
   "cell_type": "code",
   "execution_count": 45,
   "metadata": {},
   "outputs": [
    {
     "data": {
      "text/plain": [
       "77.9254427213606"
      ]
     },
     "execution_count": 45,
     "metadata": {},
     "output_type": "execute_result"
    }
   ],
   "source": [
    "df['10percentage'].mean()"
   ]
  },
  {
   "cell_type": "markdown",
   "metadata": {},
   "source": [
    "lets check for outlier which are clearly visible on left side"
   ]
  },
  {
   "cell_type": "code",
   "execution_count": 46,
   "metadata": {},
   "outputs": [
    {
     "data": {
      "text/plain": [
       "<matplotlib.axes._subplots.AxesSubplot at 0x1b9a4fecf08>"
      ]
     },
     "execution_count": 46,
     "metadata": {},
     "output_type": "execute_result"
    },
    {
     "data": {
      "image/png": "[encoded data removed]",
      "text/plain": [
       "<Figure size 432x288 with 1 Axes>"
      ]
     },
     "metadata": {
      "needs_background": "light"
     },
     "output_type": "display_data"
    }
   ],
   "source": [
    "sns.boxplot(x=df['10percentage'])"
   ]
  },
  {
   "cell_type": "markdown",
   "metadata": {},
   "source": [
    "we will remove outlier by using mean and standard deviation"
   ]
  },
  {
   "cell_type": "code",
   "execution_count": 50,
   "metadata": {},
   "outputs": [],
   "source": [
    "outlier=df[(df['10percentage']>df['10percentage'].mean() - 3*df['10percentage'].std())\n",
    "           & (df['10percentage']<df['10percentage'].mean() + 3*df['10percentage'].std())]"
   ]
  },
  {
   "cell_type": "code",
   "execution_count": 51,
   "metadata": {},
   "outputs": [
    {
     "data": {
      "text/plain": [
       "<matplotlib.axes._subplots.AxesSubplot at 0x1b9a4ffaa48>"
      ]
     },
     "execution_count": 51,
     "metadata": {},
     "output_type": "execute_result"
    },
    {
     "data": {
      "image/png": "[encoded data removed]",
      "text/plain": [
       "<Figure size 432x288 with 1 Axes>"
      ]
     },
     "metadata": {
      "needs_background": "light"
     },
     "output_type": "display_data"
    }
   ],
   "source": [
    "sns.boxplot(x=outlier['10percentage'])"
   ]
  },
  {
   "cell_type": "code",
   "execution_count": 52,
   "metadata": {},
   "outputs": [],
   "source": [
    "outlier=df[(df['10percentage']>df['10percentage'].mean() - 2*df['10percentage'].std())\n",
    "           & (df['10percentage']<df['10percentage'].mean() + 2*df['10percentage'].std())]"
   ]
  },
  {
   "cell_type": "code",
   "execution_count": 53,
   "metadata": {},
   "outputs": [
    {
     "data": {
      "text/plain": [
       "<matplotlib.axes._subplots.AxesSubplot at 0x1b9a611db08>"
      ]
     },
     "execution_count": 53,
     "metadata": {},
     "output_type": "execute_result"
    },
    {
     "data": {
      "image/png": "[encoded data removed]",
      "text/plain": [
       "<Figure size 432x288 with 1 Axes>"
      ]
     },
     "metadata": {
      "needs_background": "light"
     },
     "output_type": "display_data"
    }
   ],
   "source": [
    "sns.boxplot(x=outlier['10percentage'])"
   ]
  },
  {
   "cell_type": "markdown",
   "metadata": {},
   "source": [
    "we have removed all the outlier"
   ]
  },
  {
   "cell_type": "markdown",
   "metadata": {},
   "source": [
    "### Id"
   ]
  },
  {
   "cell_type": "markdown",
   "metadata": {},
   "source": [
    "Id will be unique for everyone"
   ]
  },
  {
   "cell_type": "code",
   "execution_count": 57,
   "metadata": {},
   "outputs": [
    {
     "data": {
      "text/plain": [
       "(array([307., 329., 648., 276., 516., 263., 412., 372., 482., 393.]),\n",
       " array([  11244. ,  139947.1,  268650.2,  397353.3,  526056.4,  654759.5,\n",
       "         783462.6,  912165.7, 1040868.8, 1169571.9, 1298275. ]),\n",
       " <a list of 10 Patch objects>)"
      ]
     },
     "execution_count": 57,
     "metadata": {},
     "output_type": "execute_result"
    },
    {
     "data": {
      "image/png": "[encoded data removed]",
      "text/plain": [
       "<Figure size 432x288 with 1 Axes>"
      ]
     },
     "metadata": {
      "needs_background": "light"
     },
     "output_type": "display_data"
    }
   ],
   "source": [
    "plt.hist(x=df['ID'])"
   ]
  },
  {
   "cell_type": "code",
   "execution_count": 58,
   "metadata": {},
   "outputs": [
    {
     "data": {
      "text/plain": [
       "[<matplotlib.lines.Line2D at 0x1b9a623a488>]"
      ]
     },
     "execution_count": 58,
     "metadata": {},
     "output_type": "execute_result"
    },
    {
     "data": {
      "image/png": "[encoded data removed]",
      "text/plain": [
       "<Figure size 432x288 with 1 Axes>"
      ]
     },
     "metadata": {
      "needs_background": "light"
     },
     "output_type": "display_data"
    }
   ],
   "source": [
    "plt.plot(df['ID'])"
   ]
  },
  {
   "cell_type": "markdown",
   "metadata": {},
   "source": [
    "### DOJ"
   ]
  },
  {
   "cell_type": "code",
   "execution_count": 59,
   "metadata": {},
   "outputs": [
    {
     "data": {
      "text/plain": [
       "2014-07-01    199\n",
       "2014-06-01    180\n",
       "2014-08-01    178\n",
       "2014-09-01    142\n",
       "2014-01-01    142\n",
       "             ... \n",
       "2004-08-01      1\n",
       "2015-11-01      1\n",
       "2006-01-01      1\n",
       "2007-09-01      1\n",
       "2015-12-01      1\n",
       "Name: DOJ, Length: 81, dtype: int64"
      ]
     },
     "execution_count": 59,
     "metadata": {},
     "output_type": "execute_result"
    }
   ],
   "source": [
    "df['DOJ'].value_counts()"
   ]
  },
  {
   "cell_type": "code",
   "execution_count": 61,
   "metadata": {},
   "outputs": [
    {
     "data": {
      "text/plain": [
       "2014    1596\n",
       "2013    1004\n",
       "2012     590\n",
       "2011     381\n",
       "2015     248\n",
       "2010     166\n",
       "2009       5\n",
       "2007       4\n",
       "1991       1\n",
       "2008       1\n",
       "2006       1\n",
       "2004       1\n",
       "Name: DOJ, dtype: int64"
      ]
     },
     "execution_count": 61,
     "metadata": {},
     "output_type": "execute_result"
    }
   ],
   "source": [
    "df['DOJ'].dt.year.value_counts()"
   ]
  },
  {
   "cell_type": "code",
   "execution_count": 63,
   "metadata": {},
   "outputs": [
    {
     "data": {
      "text/plain": [
       "(array([1.000e+00, 0.000e+00, 0.000e+00, 0.000e+00, 0.000e+00, 2.000e+00,\n",
       "        4.000e+00, 2.020e+02, 1.365e+03, 2.424e+03]),\n",
       " array([726984. , 727878.9, 728773.8, 729668.7, 730563.6, 731458.5,\n",
       "        732353.4, 733248.3, 734143.2, 735038.1, 735933. ]),\n",
       " <a list of 10 Patch objects>)"
      ]
     },
     "execution_count": 63,
     "metadata": {},
     "output_type": "execute_result"
    },
    {
     "data": {
      "image/png": "[encoded data removed]",
      "text/plain": [
       "<Figure size 432x288 with 1 Axes>"
      ]
     },
     "metadata": {
      "needs_background": "light"
     },
     "output_type": "display_data"
    }
   ],
   "source": [
    "plt.hist(df['DOJ'])"
   ]
  },
  {
   "cell_type": "code",
   "execution_count": 64,
   "metadata": {},
   "outputs": [
    {
     "data": {
      "text/plain": [
       "[<matplotlib.lines.Line2D at 0x1b9a638b0c8>]"
      ]
     },
     "execution_count": 64,
     "metadata": {},
     "output_type": "execute_result"
    },
    {
     "data": {
      "image/png": "[encoded data removed]",
      "text/plain": [
       "<Figure size 432x288 with 1 Axes>"
      ]
     },
     "metadata": {
      "needs_background": "light"
     },
     "output_type": "display_data"
    }
   ],
   "source": [
    "plt.plot(df['DOJ'])"
   ]
  },
  {
   "cell_type": "markdown",
   "metadata": {},
   "source": [
    "We can say huge amount of employee have joined recently and few are from a long time"
   ]
  },
  {
   "cell_type": "markdown",
   "metadata": {},
   "source": [
    "### DOL "
   ]
  },
  {
   "cell_type": "code",
   "execution_count": 65,
   "metadata": {},
   "outputs": [
    {
     "data": {
      "text/plain": [
       "present                1875\n",
       "2015-04-01 00:00:00     573\n",
       "2015-03-01 00:00:00     124\n",
       "2015-05-01 00:00:00     112\n",
       "2015-01-01 00:00:00      99\n",
       "                       ... \n",
       "2011-08-01 00:00:00       1\n",
       "2011-02-01 00:00:00       1\n",
       "2005-03-01 00:00:00       1\n",
       "2008-03-01 00:00:00       1\n",
       "2015-10-01 00:00:00       1\n",
       "Name: DOL, Length: 67, dtype: int64"
      ]
     },
     "execution_count": 65,
     "metadata": {},
     "output_type": "execute_result"
    }
   ],
   "source": [
    "df['DOL'].value_counts()"
   ]
  },
  {
   "cell_type": "markdown",
   "metadata": {},
   "source": [
    "### Designation"
   ]
  },
  {
   "cell_type": "code",
   "execution_count": 69,
   "metadata": {},
   "outputs": [
    {
     "data": {
      "text/plain": [
       "software engineer                    539\n",
       "software developer                   265\n",
       "system engineer                      205\n",
       "programmer analyst                   139\n",
       "systems engineer                     118\n",
       "                                    ... \n",
       "it developer                           1\n",
       "bss engineer                           1\n",
       "lecturer & electrical maintenance      1\n",
       "ruby on rails developer                1\n",
       "senior research fellow                 1\n",
       "Name: Designation, Length: 419, dtype: int64"
      ]
     },
     "execution_count": 69,
     "metadata": {},
     "output_type": "execute_result"
    }
   ],
   "source": [
    "df.Designation.value_counts(ascending=False)"
   ]
  },
  {
   "cell_type": "code",
   "execution_count": 70,
   "metadata": {},
   "outputs": [
    {
     "data": {
      "text/plain": [
       "(array([2107.,  906.,  289.,  207.,  126.,  102.,   79.,   77.,   58.,\n",
       "          47.]),\n",
       " array([  0. ,  41.8,  83.6, 125.4, 167.2, 209. , 250.8, 292.6, 334.4,\n",
       "        376.2, 418. ]),\n",
       " <a list of 10 Patch objects>)"
      ]
     },
     "execution_count": 70,
     "metadata": {},
     "output_type": "execute_result"
    },
    {
     "data": {
      "image/png": "[encoded data removed]",
      "text/plain": [
       "<Figure size 432x288 with 1 Axes>"
      ]
     },
     "metadata": {
      "needs_background": "light"
     },
     "output_type": "display_data"
    }
   ],
   "source": [
    "plt.hist(df['Designation'])"
   ]
  },
  {
   "cell_type": "markdown",
   "metadata": {},
   "source": [
    "many employee are into engineering role"
   ]
  },
  {
   "cell_type": "markdown",
   "metadata": {},
   "source": [
    "### job city"
   ]
  },
  {
   "cell_type": "code",
   "execution_count": 74,
   "metadata": {},
   "outputs": [
    {
     "data": {
      "text/plain": [
       "Bangalore        627\n",
       "-1               461\n",
       "Noida            368\n",
       "Hyderabad        335\n",
       "Pune             290\n",
       "Chennai          272\n",
       "Gurgaon          198\n",
       "New Delhi        196\n",
       "Mumbai           108\n",
       "Kolkata           98\n",
       "Jaipur            46\n",
       "Mysore            36\n",
       "Lucknow           36\n",
       "Navi Mumbai       32\n",
       "chennai           27\n",
       "Greater Noida     26\n",
       "pune              26\n",
       "Chandigarh        26\n",
       "Indore            24\n",
       "Bhubaneswar       22\n",
       "Name: JobCity, dtype: int64"
      ]
     },
     "execution_count": 74,
     "metadata": {},
     "output_type": "execute_result"
    }
   ],
   "source": [
    "df['JobCity'].value_counts(ascending=False).head(20)"
   ]
  },
  {
   "cell_type": "markdown",
   "metadata": {},
   "source": [
    "Many people are in cities which are more relevant to IT industry"
   ]
  },
  {
   "cell_type": "markdown",
   "metadata": {},
   "source": [
    "### DOB"
   ]
  },
  {
   "cell_type": "code",
   "execution_count": 78,
   "metadata": {},
   "outputs": [
    {
     "data": {
      "text/plain": [
       "1991    979\n",
       "1992    855\n",
       "1990    774\n",
       "1989    522\n",
       "1988    308\n",
       "1993    299\n",
       "1987    116\n",
       "1986     62\n",
       "1994     31\n",
       "1985     28\n",
       "1984     13\n",
       "1983      4\n",
       "1982      2\n",
       "1995      2\n",
       "1997      1\n",
       "1977      1\n",
       "1981      1\n",
       "Name: DOB, dtype: int64"
      ]
     },
     "execution_count": 78,
     "metadata": {},
     "output_type": "execute_result"
    }
   ],
   "source": [
    "df['DOB'].dt.year.value_counts()"
   ]
  },
  {
   "cell_type": "code",
   "execution_count": 81,
   "metadata": {},
   "outputs": [
    {
     "data": {
      "text/plain": [
       "[<matplotlib.lines.Line2D at 0x1b9a8121608>]"
      ]
     },
     "execution_count": 81,
     "metadata": {},
     "output_type": "execute_result"
    },
    {
     "data": {
      "image/png": "[encoded data removed]",
      "text/plain": [
       "<Figure size 432x288 with 1 Axes>"
      ]
     },
     "metadata": {
      "needs_background": "light"
     },
     "output_type": "display_data"
    }
   ],
   "source": [
    "plt.plot(df['DOB'])"
   ]
  },
  {
   "cell_type": "code",
   "execution_count": 82,
   "metadata": {},
   "outputs": [
    {
     "data": {
      "text/plain": [
       "(array([1.000e+00, 1.000e+00, 5.000e+00, 3.200e+01, 1.270e+02, 6.530e+02,\n",
       "        1.518e+03, 1.529e+03, 1.300e+02, 2.000e+00]),\n",
       " array([722022. , 722736.9, 723451.8, 724166.7, 724881.6, 725596.5,\n",
       "        726311.4, 727026.3, 727741.2, 728456.1, 729171. ]),\n",
       " <a list of 10 Patch objects>)"
      ]
     },
     "execution_count": 82,
     "metadata": {},
     "output_type": "execute_result"
    },
    {
     "data": {
      "image/png": "[encoded data removed]",
      "text/plain": [
       "<Figure size 432x288 with 1 Axes>"
      ]
     },
     "metadata": {
      "needs_background": "light"
     },
     "output_type": "display_data"
    }
   ],
   "source": [
    "plt.hist(df['DOB'])"
   ]
  },
  {
   "cell_type": "markdown",
   "metadata": {},
   "source": [
    "Many people were born in 1988 to 1992"
   ]
  },
  {
   "cell_type": "markdown",
   "metadata": {},
   "source": [
    "### 10th board"
   ]
  },
  {
   "cell_type": "code",
   "execution_count": 83,
   "metadata": {},
   "outputs": [
    {
     "data": {
      "text/plain": [
       "cbse                              1395\n",
       "state board                       1164\n",
       "0                                  350\n",
       "icse                               281\n",
       "ssc                                122\n",
       "                                  ... \n",
       "jharkhand secondary board            1\n",
       "andhra pradesh board ssc             1\n",
       "bright way college, (up board)       1\n",
       "kerala university                    1\n",
       "stmary higher secondary              1\n",
       "Name: 10board, Length: 275, dtype: int64"
      ]
     },
     "execution_count": 83,
     "metadata": {},
     "output_type": "execute_result"
    }
   ],
   "source": [
    "df['10board'].value_counts()"
   ]
  },
  {
   "cell_type": "markdown",
   "metadata": {},
   "source": [
    "Majority is with cbse and state board"
   ]
  },
  {
   "cell_type": "markdown",
   "metadata": {},
   "source": [
    "### 12th graduation"
   ]
  },
  {
   "cell_type": "code",
   "execution_count": 91,
   "metadata": {},
   "outputs": [
    {
     "data": {
      "text/plain": [
       "2009    1052\n",
       "2008     935\n",
       "2010     742\n",
       "2007     528\n",
       "2006     407\n",
       "2005     160\n",
       "2004      73\n",
       "2011      46\n",
       "2003      25\n",
       "2002      14\n",
       "2012      10\n",
       "2001       2\n",
       "2013       1\n",
       "1999       1\n",
       "1995       1\n",
       "1998       1\n",
       "Name: 12graduation, dtype: int64"
      ]
     },
     "execution_count": 91,
     "metadata": {},
     "output_type": "execute_result"
    }
   ],
   "source": [
    "df['12graduation'].value_counts()"
   ]
  },
  {
   "cell_type": "code",
   "execution_count": 94,
   "metadata": {},
   "outputs": [
    {
     "data": {
      "text/plain": [
       "(array([1.000e+00, 1.000e+00, 1.000e+00, 1.600e+01, 2.500e+01, 2.330e+02,\n",
       "        9.350e+02, 1.987e+03, 7.880e+02, 1.100e+01]),\n",
       " array([1995. , 1996.8, 1998.6, 2000.4, 2002.2, 2004. , 2005.8, 2007.6,\n",
       "        2009.4, 2011.2, 2013. ]),\n",
       " <a list of 10 Patch objects>)"
      ]
     },
     "execution_count": 94,
     "metadata": {},
     "output_type": "execute_result"
    },
    {
     "data": {
      "image/png": "[encoded data removed]",
      "text/plain": [
       "<Figure size 432x288 with 1 Axes>"
      ]
     },
     "metadata": {
      "needs_background": "light"
     },
     "output_type": "display_data"
    }
   ],
   "source": [
    "plt.hist(df['12graduation'])"
   ]
  },
  {
   "cell_type": "markdown",
   "metadata": {},
   "source": [
    "Majority of people graduated from 2005 to 2010"
   ]
  },
  {
   "cell_type": "markdown",
   "metadata": {},
   "source": [
    "### 12 percentage"
   ]
  },
  {
   "cell_type": "code",
   "execution_count": 95,
   "metadata": {},
   "outputs": [
    {
     "data": {
      "text/plain": [
       "70.00    72\n",
       "72.00    68\n",
       "74.00    63\n",
       "68.00    58\n",
       "62.00    58\n",
       "         ..\n",
       "87.14     1\n",
       "77.54     1\n",
       "83.16     1\n",
       "72.90     1\n",
       "56.22     1\n",
       "Name: 12percentage, Length: 801, dtype: int64"
      ]
     },
     "execution_count": 95,
     "metadata": {},
     "output_type": "execute_result"
    }
   ],
   "source": [
    "df['12percentage'].value_counts()"
   ]
  },
  {
   "cell_type": "code",
   "execution_count": 96,
   "metadata": {},
   "outputs": [
    {
     "data": {
      "text/plain": [
       "74.46636568284127"
      ]
     },
     "execution_count": 96,
     "metadata": {},
     "output_type": "execute_result"
    }
   ],
   "source": [
    "df['12percentage'].mean()"
   ]
  },
  {
   "cell_type": "code",
   "execution_count": 97,
   "metadata": {},
   "outputs": [
    {
     "data": {
      "text/plain": [
       "<matplotlib.axes._subplots.AxesSubplot at 0x1b9a99bd248>"
      ]
     },
     "execution_count": 97,
     "metadata": {},
     "output_type": "execute_result"
    },
    {
     "data": {
      "image/png": "[encoded data removed]",
      "text/plain": [
       "<Figure size 432x288 with 1 Axes>"
      ]
     },
     "metadata": {
      "needs_background": "light"
     },
     "output_type": "display_data"
    }
   ],
   "source": [
    "sns.distplot(df['12percentage'])"
   ]
  },
  {
   "cell_type": "markdown",
   "metadata": {},
   "source": [
    "majoity of people scored between 70 to 80 percent"
   ]
  },
  {
   "cell_type": "code",
   "execution_count": 98,
   "metadata": {},
   "outputs": [
    {
     "data": {
      "text/plain": [
       "<matplotlib.axes._subplots.AxesSubplot at 0x1b9a9a51fc8>"
      ]
     },
     "execution_count": 98,
     "metadata": {},
     "output_type": "execute_result"
    },
    {
     "data": {
      "image/png": "[encoded data removed]",
      "text/plain": [
       "<Figure size 432x288 with 1 Axes>"
      ]
     },
     "metadata": {
      "needs_background": "light"
     },
     "output_type": "display_data"
    }
   ],
   "source": [
    "sns.boxplot(df['12percentage'])"
   ]
  },
  {
   "cell_type": "markdown",
   "metadata": {},
   "source": [
    "A very few outlier, so no need to worry"
   ]
  },
  {
   "cell_type": "markdown",
   "metadata": {},
   "source": [
    "### 12 board"
   ]
  },
  {
   "cell_type": "code",
   "execution_count": 99,
   "metadata": {},
   "outputs": [
    {
     "data": {
      "text/plain": [
       "cbse                                            1400\n",
       "state board                                     1254\n",
       "0                                                359\n",
       "icse                                             129\n",
       "up board                                          87\n",
       "                                                ... \n",
       "scte vt orissa                                     1\n",
       "secondary board of rajasthan                       1\n",
       "government polytechnic mumbai , mumbai board       1\n",
       "msbshse,pune                                       1\n",
       "mbose                                              1\n",
       "Name: 12board, Length: 340, dtype: int64"
      ]
     },
     "execution_count": 99,
     "metadata": {},
     "output_type": "execute_result"
    }
   ],
   "source": [
    "df['12board'].value_counts()"
   ]
  },
  {
   "cell_type": "markdown",
   "metadata": {},
   "source": [
    "Majority is with cbse and stateboard"
   ]
  },
  {
   "cell_type": "markdown",
   "metadata": {},
   "source": [
    "### college id"
   ]
  },
  {
   "cell_type": "code",
   "execution_count": 105,
   "metadata": {},
   "outputs": [
    {
     "data": {
      "text/plain": [
       "272      94\n",
       "64       38\n",
       "11759    35\n",
       "44       35\n",
       "47       33\n",
       "         ..\n",
       "5653      1\n",
       "7547      1\n",
       "13209     1\n",
       "15735     1\n",
       "6143      1\n",
       "Name: CollegeID, Length: 1350, dtype: int64"
      ]
     },
     "execution_count": 105,
     "metadata": {},
     "output_type": "execute_result"
    }
   ],
   "source": [
    "df['CollegeID'].value_counts(ascending=False)"
   ]
  },
  {
   "cell_type": "code",
   "execution_count": 106,
   "metadata": {},
   "outputs": [
    {
     "data": {
      "text/plain": [
       "(array([1499.,  439.,  412.,  346.,  421.,  207.,  326.,  221.,   88.,\n",
       "          39.]),\n",
       " array([2.00000e+00, 1.84270e+03, 3.68340e+03, 5.52410e+03, 7.36480e+03,\n",
       "        9.20550e+03, 1.10462e+04, 1.28869e+04, 1.47276e+04, 1.65683e+04,\n",
       "        1.84090e+04]),\n",
       " <a list of 10 Patch objects>)"
      ]
     },
     "execution_count": 106,
     "metadata": {},
     "output_type": "execute_result"
    },
    {
     "data": {
      "image/png": "[encoded data removed]",
      "text/plain": [
       "<Figure size 432x288 with 1 Axes>"
      ]
     },
     "metadata": {
      "needs_background": "light"
     },
     "output_type": "display_data"
    }
   ],
   "source": [
    "plt.hist(df['CollegeID'])"
   ]
  },
  {
   "cell_type": "markdown",
   "metadata": {},
   "source": [
    "there are many people from few colleges"
   ]
  },
  {
   "cell_type": "markdown",
   "metadata": {},
   "source": [
    "### College GPA"
   ]
  },
  {
   "cell_type": "code",
   "execution_count": 108,
   "metadata": {},
   "outputs": [
    {
     "data": {
      "text/plain": [
       "70.00    112\n",
       "72.00     99\n",
       "75.00     83\n",
       "65.00     79\n",
       "71.00     75\n",
       "        ... \n",
       "99.00      1\n",
       "51.00      1\n",
       "87.40      1\n",
       "71.59      1\n",
       "60.85      1\n",
       "Name: collegeGPA, Length: 1282, dtype: int64"
      ]
     },
     "execution_count": 108,
     "metadata": {},
     "output_type": "execute_result"
    }
   ],
   "source": [
    "df.collegeGPA.value_counts()"
   ]
  },
  {
   "cell_type": "code",
   "execution_count": 109,
   "metadata": {},
   "outputs": [
    {
     "data": {
      "text/plain": [
       "71.48617058529268"
      ]
     },
     "execution_count": 109,
     "metadata": {},
     "output_type": "execute_result"
    }
   ],
   "source": [
    "df.collegeGPA.mean()"
   ]
  },
  {
   "cell_type": "code",
   "execution_count": 110,
   "metadata": {},
   "outputs": [
    {
     "data": {
      "text/plain": [
       "<matplotlib.axes._subplots.AxesSubplot at 0x1b9a6679fc8>"
      ]
     },
     "execution_count": 110,
     "metadata": {},
     "output_type": "execute_result"
    },
    {
     "data": {
      "image/png": "[encoded data removed]",
      "text/plain": [
       "<Figure size 432x288 with 1 Axes>"
      ]
     },
     "metadata": {
      "needs_background": "light"
     },
     "output_type": "display_data"
    }
   ],
   "source": [
    "sns.distplot(df['collegeGPA'])"
   ]
  },
  {
   "cell_type": "markdown",
   "metadata": {},
   "source": [
    "many students scored between 70 to 80 percent and we can see some outlier who got less marks"
   ]
  },
  {
   "cell_type": "markdown",
   "metadata": {},
   "source": [
    "### college state"
   ]
  },
  {
   "cell_type": "code",
   "execution_count": 113,
   "metadata": {},
   "outputs": [
    {
     "data": {
      "text/plain": [
       "Uttar Pradesh        915\n",
       "Karnataka            370\n",
       "Tamil Nadu           367\n",
       "Telangana            319\n",
       "Maharashtra          262\n",
       "Andhra Pradesh       225\n",
       "West Bengal          196\n",
       "Punjab               193\n",
       "Madhya Pradesh       189\n",
       "Haryana              180\n",
       "Rajasthan            174\n",
       "Orissa               172\n",
       "Delhi                162\n",
       "Uttarakhand          113\n",
       "Kerala                33\n",
       "Jharkhand             28\n",
       "Chhattisgarh          27\n",
       "Gujarat               24\n",
       "Himachal Pradesh      16\n",
       "Bihar                 10\n",
       "Jammu and Kashmir      7\n",
       "Assam                  5\n",
       "Union Territory        5\n",
       "Sikkim                 3\n",
       "Meghalaya              2\n",
       "Goa                    1\n",
       "Name: CollegeState, dtype: int64"
      ]
     },
     "execution_count": 113,
     "metadata": {},
     "output_type": "execute_result"
    }
   ],
   "source": [
    "df.CollegeState.value_counts()"
   ]
  },
  {
   "cell_type": "code",
   "execution_count": 114,
   "metadata": {},
   "outputs": [
    {
     "data": {
      "text/plain": [
       "(array([1329.,  532.,  825.,  499.,  398.,  198.,  147.,   44.,   16.,\n",
       "          10.]),\n",
       " array([ 0. ,  2.5,  5. ,  7.5, 10. , 12.5, 15. , 17.5, 20. , 22.5, 25. ]),\n",
       " <a list of 10 Patch objects>)"
      ]
     },
     "execution_count": 114,
     "metadata": {},
     "output_type": "execute_result"
    },
    {
     "data": {
      "image/png": "[encoded data removed]",
      "text/plain": [
       "<Figure size 432x288 with 1 Axes>"
      ]
     },
     "metadata": {
      "needs_background": "light"
     },
     "output_type": "display_data"
    }
   ],
   "source": [
    "plt.hist(df['CollegeState'])"
   ]
  },
  {
   "cell_type": "markdown",
   "metadata": {},
   "source": [
    "Many students are from Uttar Pradesh"
   ]
  },
  {
   "cell_type": "markdown",
   "metadata": {},
   "source": [
    "### Specialization"
   ]
  },
  {
   "cell_type": "code",
   "execution_count": 116,
   "metadata": {},
   "outputs": [
    {
     "data": {
      "text/plain": [
       "electronics and communication engineering      880\n",
       "computer science & engineering                 744\n",
       "information technology                         660\n",
       "computer engineering                           600\n",
       "computer application                           244\n",
       "mechanical engineering                         201\n",
       "electronics and electrical engineering         196\n",
       "electronics & telecommunications               121\n",
       "electrical engineering                          82\n",
       "electronics & instrumentation eng               32\n",
       "civil engineering                               29\n",
       "information science engineering                 27\n",
       "electronics and instrumentation engineering     27\n",
       "instrumentation and control engineering         20\n",
       "electronics engineering                         19\n",
       "biotechnology                                   15\n",
       "other                                           13\n",
       "industrial & production engineering             10\n",
       "chemical engineering                             9\n",
       "applied electronics and instrumentation          9\n",
       "computer science and technology                  6\n",
       "telecommunication engineering                    6\n",
       "automobile/automotive engineering                5\n",
       "mechanical and automation                        5\n",
       "mechatronics                                     4\n",
       "instrumentation engineering                      4\n",
       "electronics and computer engineering             3\n",
       "aeronautical engineering                         3\n",
       "computer science                                 2\n",
       "metallurgical engineering                        2\n",
       "electrical and power engineering                 2\n",
       "biomedical engineering                           2\n",
       "industrial engineering                           2\n",
       "information & communication technology           2\n",
       "information science                              1\n",
       "computer and communication engineering           1\n",
       "mechanical & production engineering              1\n",
       "embedded systems technology                      1\n",
       "internal combustion engine                       1\n",
       "ceramic engineering                              1\n",
       "power systems and automation                     1\n",
       "computer networking                              1\n",
       "electronics                                      1\n",
       "polymer technology                               1\n",
       "control and instrumentation engineering          1\n",
       "industrial & management engineering              1\n",
       "Name: Specialization, dtype: int64"
      ]
     },
     "execution_count": 116,
     "metadata": {},
     "output_type": "execute_result"
    }
   ],
   "source": [
    "df.Specialization.value_counts()"
   ]
  },
  {
   "cell_type": "markdown",
   "metadata": {},
   "source": [
    "many students are from computer science and electronics "
   ]
  },
  {
   "cell_type": "markdown",
   "metadata": {},
   "source": [
    "### ComputerScience"
   ]
  },
  {
   "cell_type": "code",
   "execution_count": 118,
   "metadata": {},
   "outputs": [
    {
     "data": {
      "text/plain": [
       "-1      3096\n",
       " 407     128\n",
       " 376     123\n",
       " 346     118\n",
       " 438     111\n",
       " 469      80\n",
       " 315      77\n",
       " 500      64\n",
       " 284      50\n",
       " 530      45\n",
       " 253      30\n",
       " 561      22\n",
       " 592      14\n",
       " 223      14\n",
       " 623      10\n",
       " 653       9\n",
       " 192       3\n",
       " 715       2\n",
       " 684       1\n",
       " 130       1\n",
       "Name: ComputerScience, dtype: int64"
      ]
     },
     "execution_count": 118,
     "metadata": {},
     "output_type": "execute_result"
    }
   ],
   "source": [
    "df.ComputerScience.value_counts()"
   ]
  },
  {
   "cell_type": "code",
   "execution_count": 123,
   "metadata": {},
   "outputs": [
    {
     "data": {
      "text/plain": [
       "<matplotlib.axes._subplots.AxesSubplot at 0x1b9a2d047c8>"
      ]
     },
     "execution_count": 123,
     "metadata": {},
     "output_type": "execute_result"
    },
    {
     "data": {
      "image/png": "[encoded data removed]",
      "text/plain": [
       "<Figure size 432x288 with 1 Axes>"
      ]
     },
     "metadata": {
      "needs_background": "light"
     },
     "output_type": "display_data"
    }
   ],
   "source": [
    "sns.distplot(df['ComputerScience'],kde=False)"
   ]
  },
  {
   "cell_type": "code",
   "execution_count": 124,
   "metadata": {},
   "outputs": [
    {
     "data": {
      "text/plain": [
       "[<matplotlib.lines.Line2D at 0x1b9a2e12588>]"
      ]
     },
     "execution_count": 124,
     "metadata": {},
     "output_type": "execute_result"
    },
    {
     "data": {
      "image/png": "[encoded data removed]",
      "text/plain": [
       "<Figure size 432x288 with 1 Axes>"
      ]
     },
     "metadata": {
      "needs_background": "light"
     },
     "output_type": "display_data"
    }
   ],
   "source": [
    "plt.plot(df['ComputerScience'])"
   ]
  },
  {
   "cell_type": "code",
   "execution_count": 125,
   "metadata": {},
   "outputs": [
    {
     "data": {
      "text/plain": [
       "<matplotlib.axes._subplots.AxesSubplot at 0x1b9a2e3ff08>"
      ]
     },
     "execution_count": 125,
     "metadata": {},
     "output_type": "execute_result"
    },
    {
     "data": {
      "image/png": "[encoded data removed]",
      "text/plain": [
       "<Figure size 432x288 with 1 Axes>"
      ]
     },
     "metadata": {
      "needs_background": "light"
     },
     "output_type": "display_data"
    }
   ],
   "source": [
    "sns.boxplot(df['ComputerScience'])"
   ]
  },
  {
   "cell_type": "markdown",
   "metadata": {},
   "source": [
    "THere is a problem here as many with score of -1 which might be not attempted due to which we are unable to plot a correct boxplot, but by displot we can say that many students scored 400 to 500"
   ]
  },
  {
   "cell_type": "markdown",
   "metadata": {},
   "source": [
    "## Bivariate Analysis"
   ]
  },
  {
   "cell_type": "markdown",
   "metadata": {},
   "source": [
    "### relation between both numerical columns"
   ]
  },
  {
   "cell_type": "code",
   "execution_count": 127,
   "metadata": {},
   "outputs": [
    {
     "data": {
      "text/plain": [
       "<matplotlib.axes._subplots.AxesSubplot at 0x1b9945e5608>"
      ]
     },
     "execution_count": 127,
     "metadata": {},
     "output_type": "execute_result"
    },
    {
     "data": {
      "image/png": "[encoded data removed]",
      "text/plain": [
       "<Figure size 432x288 with 1 Axes>"
      ]
     },
     "metadata": {
      "needs_background": "light"
     },
     "output_type": "display_data"
    }
   ],
   "source": [
    "sns.scatterplot(x=df.collegeGPA, y=df.Salary)"
   ]
  },
  {
   "cell_type": "markdown",
   "metadata": {},
   "source": [
    "students who have 65% to 80% are getting good salary"
   ]
  },
  {
   "cell_type": "code",
   "execution_count": 129,
   "metadata": {},
   "outputs": [
    {
     "data": {
      "text/plain": [
       "<seaborn.axisgrid.JointGrid at 0x1b9a2f80508>"
      ]
     },
     "execution_count": 129,
     "metadata": {},
     "output_type": "execute_result"
    },
    {
     "data": {
      "image/png": "[encoded data removed]",
      "text/plain": [
       "<Figure size 432x432 with 3 Axes>"
      ]
     },
     "metadata": {
      "needs_background": "light"
     },
     "output_type": "display_data"
    }
   ],
   "source": [
    "sns.jointplot(x=df.collegeGPA,y=df.Salary)"
   ]
  },
  {
   "cell_type": "markdown",
   "metadata": {},
   "source": [
    "### relation between numerical and categorical"
   ]
  },
  {
   "cell_type": "code",
   "execution_count": 130,
   "metadata": {},
   "outputs": [
    {
     "data": {
      "text/plain": [
       "<matplotlib.axes._subplots.AxesSubplot at 0x1b9a3086948>"
      ]
     },
     "execution_count": 130,
     "metadata": {},
     "output_type": "execute_result"
    },
    {
     "data": {
      "image/png": "[encoded data removed]",
      "text/plain": [
       "<Figure size 432x288 with 1 Axes>"
      ]
     },
     "metadata": {
      "needs_background": "light"
     },
     "output_type": "display_data"
    }
   ],
   "source": [
    "sns.boxplot(x=df.Gender,y=df.Salary)"
   ]
  },
  {
   "cell_type": "code",
   "execution_count": 141,
   "metadata": {},
   "outputs": [
    {
     "data": {
      "text/plain": [
       "<matplotlib.axes._subplots.AxesSubplot at 0x1b9ac8f7208>"
      ]
     },
     "execution_count": 141,
     "metadata": {},
     "output_type": "execute_result"
    },
    {
     "data": {
      "image/png": "[encoded data removed]",
      "text/plain": [
       "<Figure size 720x720 with 1 Axes>"
      ]
     },
     "metadata": {
      "needs_background": "light"
     },
     "output_type": "display_data"
    }
   ],
   "source": [
    "plt.figure(figsize=(10,10))\n",
    "sns.boxplot(x=df.CollegeTier,y=df.Salary)"
   ]
  },
  {
   "cell_type": "markdown",
   "metadata": {},
   "source": [
    "### Research Questions\n",
    "- Times of India article dated Jan 18, 2019 states that “After doing your Computer Science\n",
    "Engineering if you take up jobs as a Programming Analyst, Software Engineer,\n",
    "Hardware Engineer and Associate Engineer you can earn up to 2.5-3 lakhs as a fresh\n",
    "graduate.” Test this claim with the data given to you.\n",
    "- Is there a relationship between gender and specialisation?(i.e. Does the preference of Specialisation depend on the Gender?)"
   ]
  },
  {
   "cell_type": "code",
   "execution_count": 143,
   "metadata": {},
   "outputs": [
    {
     "data": {
      "text/plain": [
       "(3998, 38)"
      ]
     },
     "execution_count": 143,
     "metadata": {},
     "output_type": "execute_result"
    }
   ],
   "source": [
    "df.shape"
   ]
  },
  {
   "cell_type": "code",
   "execution_count": 142,
   "metadata": {},
   "outputs": [
    {
     "data": {
      "text/html": [
       "<div>\n",
       "<style scoped>\n",
       "    .dataframe tbody tr th:only-of-type {\n",
       "        vertical-align: middle;\n",
       "    }\n",
       "\n",
       "    .dataframe tbody tr th {\n",
       "        vertical-align: top;\n",
       "    }\n",
       "\n",
       "    .dataframe thead th {\n",
       "        text-align: right;\n",
       "    }\n",
       "</style>\n",
       "<table border=\"1\" class=\"dataframe\">\n",
       "  <thead>\n",
       "    <tr style=\"text-align: right;\">\n",
       "      <th></th>\n",
       "      <th>ID</th>\n",
       "      <th>Salary</th>\n",
       "      <th>DOJ</th>\n",
       "      <th>DOL</th>\n",
       "      <th>Designation</th>\n",
       "      <th>JobCity</th>\n",
       "      <th>Gender</th>\n",
       "      <th>DOB</th>\n",
       "      <th>10percentage</th>\n",
       "      <th>10board</th>\n",
       "      <th>...</th>\n",
       "      <th>ComputerScience</th>\n",
       "      <th>MechanicalEngg</th>\n",
       "      <th>ElectricalEngg</th>\n",
       "      <th>TelecomEngg</th>\n",
       "      <th>CivilEngg</th>\n",
       "      <th>conscientiousness</th>\n",
       "      <th>agreeableness</th>\n",
       "      <th>extraversion</th>\n",
       "      <th>nueroticism</th>\n",
       "      <th>openess_to_experience</th>\n",
       "    </tr>\n",
       "  </thead>\n",
       "  <tbody>\n",
       "    <tr>\n",
       "      <th>19</th>\n",
       "      <td>466888</td>\n",
       "      <td>325000</td>\n",
       "      <td>2014-09-01</td>\n",
       "      <td>present</td>\n",
       "      <td>software engineer</td>\n",
       "      <td>Pune</td>\n",
       "      <td>f</td>\n",
       "      <td>1990-11-30</td>\n",
       "      <td>79.00</td>\n",
       "      <td>cbse</td>\n",
       "      <td>...</td>\n",
       "      <td>-1</td>\n",
       "      <td>-1</td>\n",
       "      <td>-1</td>\n",
       "      <td>-1</td>\n",
       "      <td>-1</td>\n",
       "      <td>0.8192</td>\n",
       "      <td>0.2668</td>\n",
       "      <td>-0.2714</td>\n",
       "      <td>-0.40780</td>\n",
       "      <td>-0.1295</td>\n",
       "    </tr>\n",
       "    <tr>\n",
       "      <th>20</th>\n",
       "      <td>140069</td>\n",
       "      <td>320000</td>\n",
       "      <td>2010-11-01</td>\n",
       "      <td>2012-09-01 00:00:00</td>\n",
       "      <td>software engineer</td>\n",
       "      <td>Bangalore</td>\n",
       "      <td>f</td>\n",
       "      <td>1988-07-25</td>\n",
       "      <td>91.20</td>\n",
       "      <td>karnataka secondary school of examination</td>\n",
       "      <td>...</td>\n",
       "      <td>-1</td>\n",
       "      <td>-1</td>\n",
       "      <td>-1</td>\n",
       "      <td>-1</td>\n",
       "      <td>-1</td>\n",
       "      <td>-0.1082</td>\n",
       "      <td>0.9688</td>\n",
       "      <td>0.5269</td>\n",
       "      <td>-0.29020</td>\n",
       "      <td>0.3444</td>\n",
       "    </tr>\n",
       "    <tr>\n",
       "      <th>21</th>\n",
       "      <td>339689</td>\n",
       "      <td>200000</td>\n",
       "      <td>2012-08-01</td>\n",
       "      <td>2013-12-01 00:00:00</td>\n",
       "      <td>software engineer</td>\n",
       "      <td>-1</td>\n",
       "      <td>f</td>\n",
       "      <td>1991-08-20</td>\n",
       "      <td>75.67</td>\n",
       "      <td>up</td>\n",
       "      <td>...</td>\n",
       "      <td>-1</td>\n",
       "      <td>-1</td>\n",
       "      <td>-1</td>\n",
       "      <td>-1</td>\n",
       "      <td>-1</td>\n",
       "      <td>-1.0355</td>\n",
       "      <td>-0.5913</td>\n",
       "      <td>-1.3599</td>\n",
       "      <td>0.06223</td>\n",
       "      <td>-1.3539</td>\n",
       "    </tr>\n",
       "    <tr>\n",
       "      <th>24</th>\n",
       "      <td>963123</td>\n",
       "      <td>335000</td>\n",
       "      <td>2014-06-01</td>\n",
       "      <td>2015-06-01 00:00:00</td>\n",
       "      <td>programmer analyst</td>\n",
       "      <td>Hyderabad</td>\n",
       "      <td>m</td>\n",
       "      <td>1993-06-28</td>\n",
       "      <td>88.00</td>\n",
       "      <td>state board</td>\n",
       "      <td>...</td>\n",
       "      <td>346</td>\n",
       "      <td>-1</td>\n",
       "      <td>-1</td>\n",
       "      <td>-1</td>\n",
       "      <td>-1</td>\n",
       "      <td>0.4155</td>\n",
       "      <td>0.8027</td>\n",
       "      <td>0.1357</td>\n",
       "      <td>-0.99500</td>\n",
       "      <td>-0.6692</td>\n",
       "    </tr>\n",
       "    <tr>\n",
       "      <th>31</th>\n",
       "      <td>1094324</td>\n",
       "      <td>340000</td>\n",
       "      <td>2014-08-01</td>\n",
       "      <td>2015-04-01 00:00:00</td>\n",
       "      <td>software engineer</td>\n",
       "      <td>Bangalore</td>\n",
       "      <td>m</td>\n",
       "      <td>1992-10-23</td>\n",
       "      <td>77.20</td>\n",
       "      <td>state board</td>\n",
       "      <td>...</td>\n",
       "      <td>407</td>\n",
       "      <td>-1</td>\n",
       "      <td>-1</td>\n",
       "      <td>-1</td>\n",
       "      <td>-1</td>\n",
       "      <td>-0.0154</td>\n",
       "      <td>1.2114</td>\n",
       "      <td>1.0859</td>\n",
       "      <td>-1.50210</td>\n",
       "      <td>0.2889</td>\n",
       "    </tr>\n",
       "    <tr>\n",
       "      <th>...</th>\n",
       "      <td>...</td>\n",
       "      <td>...</td>\n",
       "      <td>...</td>\n",
       "      <td>...</td>\n",
       "      <td>...</td>\n",
       "      <td>...</td>\n",
       "      <td>...</td>\n",
       "      <td>...</td>\n",
       "      <td>...</td>\n",
       "      <td>...</td>\n",
       "      <td>...</td>\n",
       "      <td>...</td>\n",
       "      <td>...</td>\n",
       "      <td>...</td>\n",
       "      <td>...</td>\n",
       "      <td>...</td>\n",
       "      <td>...</td>\n",
       "      <td>...</td>\n",
       "      <td>...</td>\n",
       "      <td>...</td>\n",
       "      <td>...</td>\n",
       "    </tr>\n",
       "    <tr>\n",
       "      <th>3979</th>\n",
       "      <td>212055</td>\n",
       "      <td>550000</td>\n",
       "      <td>2013-07-01</td>\n",
       "      <td>2014-04-01 00:00:00</td>\n",
       "      <td>software engineer</td>\n",
       "      <td>Bangalore</td>\n",
       "      <td>m</td>\n",
       "      <td>1989-07-22</td>\n",
       "      <td>69.16</td>\n",
       "      <td>up board</td>\n",
       "      <td>...</td>\n",
       "      <td>-1</td>\n",
       "      <td>-1</td>\n",
       "      <td>-1</td>\n",
       "      <td>-1</td>\n",
       "      <td>-1</td>\n",
       "      <td>-0.5719</td>\n",
       "      <td>0.5008</td>\n",
       "      <td>-0.4891</td>\n",
       "      <td>0.41480</td>\n",
       "      <td>-1.2354</td>\n",
       "    </tr>\n",
       "    <tr>\n",
       "      <th>3981</th>\n",
       "      <td>1077872</td>\n",
       "      <td>220000</td>\n",
       "      <td>2014-09-01</td>\n",
       "      <td>present</td>\n",
       "      <td>software engineer</td>\n",
       "      <td>Gurgaon</td>\n",
       "      <td>m</td>\n",
       "      <td>1991-12-17</td>\n",
       "      <td>53.40</td>\n",
       "      <td>cbse</td>\n",
       "      <td>...</td>\n",
       "      <td>530</td>\n",
       "      <td>-1</td>\n",
       "      <td>-1</td>\n",
       "      <td>-1</td>\n",
       "      <td>-1</td>\n",
       "      <td>0.1282</td>\n",
       "      <td>-0.2871</td>\n",
       "      <td>-0.1437</td>\n",
       "      <td>-1.12180</td>\n",
       "      <td>1.4386</td>\n",
       "    </tr>\n",
       "    <tr>\n",
       "      <th>3984</th>\n",
       "      <td>305041</td>\n",
       "      <td>480000</td>\n",
       "      <td>2011-12-01</td>\n",
       "      <td>present</td>\n",
       "      <td>software engineer</td>\n",
       "      <td>Gurgaon</td>\n",
       "      <td>f</td>\n",
       "      <td>1990-01-18</td>\n",
       "      <td>89.80</td>\n",
       "      <td>cbse</td>\n",
       "      <td>...</td>\n",
       "      <td>-1</td>\n",
       "      <td>-1</td>\n",
       "      <td>-1</td>\n",
       "      <td>-1</td>\n",
       "      <td>-1</td>\n",
       "      <td>-0.2628</td>\n",
       "      <td>0.1888</td>\n",
       "      <td>0.3817</td>\n",
       "      <td>-0.29020</td>\n",
       "      <td>1.6082</td>\n",
       "    </tr>\n",
       "    <tr>\n",
       "      <th>3989</th>\n",
       "      <td>1204604</td>\n",
       "      <td>300000</td>\n",
       "      <td>2014-09-01</td>\n",
       "      <td>present</td>\n",
       "      <td>software engineer</td>\n",
       "      <td>Bangalore</td>\n",
       "      <td>m</td>\n",
       "      <td>1991-11-23</td>\n",
       "      <td>74.88</td>\n",
       "      <td>state board</td>\n",
       "      <td>...</td>\n",
       "      <td>346</td>\n",
       "      <td>-1</td>\n",
       "      <td>-1</td>\n",
       "      <td>-1</td>\n",
       "      <td>-1</td>\n",
       "      <td>0.1282</td>\n",
       "      <td>0.0459</td>\n",
       "      <td>1.2396</td>\n",
       "      <td>1.03330</td>\n",
       "      <td>0.6721</td>\n",
       "    </tr>\n",
       "    <tr>\n",
       "      <th>3993</th>\n",
       "      <td>47916</td>\n",
       "      <td>280000</td>\n",
       "      <td>2011-10-01</td>\n",
       "      <td>2012-10-01 00:00:00</td>\n",
       "      <td>software engineer</td>\n",
       "      <td>New Delhi</td>\n",
       "      <td>m</td>\n",
       "      <td>1987-04-15</td>\n",
       "      <td>52.09</td>\n",
       "      <td>cbse</td>\n",
       "      <td>...</td>\n",
       "      <td>-1</td>\n",
       "      <td>-1</td>\n",
       "      <td>-1</td>\n",
       "      <td>-1</td>\n",
       "      <td>-1</td>\n",
       "      <td>-0.1082</td>\n",
       "      <td>0.3448</td>\n",
       "      <td>0.2366</td>\n",
       "      <td>0.64980</td>\n",
       "      <td>-0.9194</td>\n",
       "    </tr>\n",
       "  </tbody>\n",
       "</table>\n",
       "<p>692 rows × 38 columns</p>\n",
       "</div>"
      ],
      "text/plain": [
       "           ID  Salary        DOJ                  DOL         Designation  \\\n",
       "19     466888  325000 2014-09-01              present   software engineer   \n",
       "20     140069  320000 2010-11-01  2012-09-01 00:00:00   software engineer   \n",
       "21     339689  200000 2012-08-01  2013-12-01 00:00:00   software engineer   \n",
       "24     963123  335000 2014-06-01  2015-06-01 00:00:00  programmer analyst   \n",
       "31    1094324  340000 2014-08-01  2015-04-01 00:00:00   software engineer   \n",
       "...       ...     ...        ...                  ...                 ...   \n",
       "3979   212055  550000 2013-07-01  2014-04-01 00:00:00   software engineer   \n",
       "3981  1077872  220000 2014-09-01              present   software engineer   \n",
       "3984   305041  480000 2011-12-01              present   software engineer   \n",
       "3989  1204604  300000 2014-09-01              present   software engineer   \n",
       "3993    47916  280000 2011-10-01  2012-10-01 00:00:00   software engineer   \n",
       "\n",
       "         JobCity Gender        DOB  10percentage  \\\n",
       "19          Pune      f 1990-11-30         79.00   \n",
       "20     Bangalore      f 1988-07-25         91.20   \n",
       "21            -1      f 1991-08-20         75.67   \n",
       "24     Hyderabad      m 1993-06-28         88.00   \n",
       "31     Bangalore      m 1992-10-23         77.20   \n",
       "...          ...    ...        ...           ...   \n",
       "3979   Bangalore      m 1989-07-22         69.16   \n",
       "3981     Gurgaon      m 1991-12-17         53.40   \n",
       "3984     Gurgaon      f 1990-01-18         89.80   \n",
       "3989   Bangalore      m 1991-11-23         74.88   \n",
       "3993  New Delhi       m 1987-04-15         52.09   \n",
       "\n",
       "                                        10board  ...  ComputerScience  \\\n",
       "19                                         cbse  ...               -1   \n",
       "20    karnataka secondary school of examination  ...               -1   \n",
       "21                                           up  ...               -1   \n",
       "24                                  state board  ...              346   \n",
       "31                                  state board  ...              407   \n",
       "...                                         ...  ...              ...   \n",
       "3979                                   up board  ...               -1   \n",
       "3981                                       cbse  ...              530   \n",
       "3984                                       cbse  ...               -1   \n",
       "3989                                state board  ...              346   \n",
       "3993                                       cbse  ...               -1   \n",
       "\n",
       "      MechanicalEngg ElectricalEngg  TelecomEngg  CivilEngg conscientiousness  \\\n",
       "19                -1             -1           -1         -1            0.8192   \n",
       "20                -1             -1           -1         -1           -0.1082   \n",
       "21                -1             -1           -1         -1           -1.0355   \n",
       "24                -1             -1           -1         -1            0.4155   \n",
       "31                -1             -1           -1         -1           -0.0154   \n",
       "...              ...            ...          ...        ...               ...   \n",
       "3979              -1             -1           -1         -1           -0.5719   \n",
       "3981              -1             -1           -1         -1            0.1282   \n",
       "3984              -1             -1           -1         -1           -0.2628   \n",
       "3989              -1             -1           -1         -1            0.1282   \n",
       "3993              -1             -1           -1         -1           -0.1082   \n",
       "\n",
       "     agreeableness  extraversion  nueroticism  openess_to_experience  \n",
       "19          0.2668       -0.2714     -0.40780                -0.1295  \n",
       "20          0.9688        0.5269     -0.29020                 0.3444  \n",
       "21         -0.5913       -1.3599      0.06223                -1.3539  \n",
       "24          0.8027        0.1357     -0.99500                -0.6692  \n",
       "31          1.2114        1.0859     -1.50210                 0.2889  \n",
       "...            ...           ...          ...                    ...  \n",
       "3979        0.5008       -0.4891      0.41480                -1.2354  \n",
       "3981       -0.2871       -0.1437     -1.12180                 1.4386  \n",
       "3984        0.1888        0.3817     -0.29020                 1.6082  \n",
       "3989        0.0459        1.2396      1.03330                 0.6721  \n",
       "3993        0.3448        0.2366      0.64980                -0.9194  \n",
       "\n",
       "[692 rows x 38 columns]"
      ]
     },
     "execution_count": 142,
     "metadata": {},
     "output_type": "execute_result"
    }
   ],
   "source": [
    "df[df.Designation.isin(['programmer analyst','software engineer','hardware engineer','associate engineer'])]"
   ]
  },
  {
   "cell_type": "code",
   "execution_count": 147,
   "metadata": {},
   "outputs": [
    {
     "data": {
      "text/plain": [
       "array(['computer engineering',\n",
       "       'electronics and communication engineering',\n",
       "       'information technology', 'computer science & engineering',\n",
       "       'mechanical engineering', 'electronics and electrical engineering',\n",
       "       'electronics & telecommunications',\n",
       "       'instrumentation and control engineering', 'computer application',\n",
       "       'electronics and computer engineering', 'electrical engineering',\n",
       "       'applied electronics and instrumentation',\n",
       "       'electronics & instrumentation eng',\n",
       "       'information science engineering', 'civil engineering',\n",
       "       'mechanical and automation', 'industrial & production engineering',\n",
       "       'control and instrumentation engineering',\n",
       "       'metallurgical engineering',\n",
       "       'electronics and instrumentation engineering',\n",
       "       'electronics engineering', 'ceramic engineering',\n",
       "       'chemical engineering', 'aeronautical engineering', 'other',\n",
       "       'biotechnology', 'embedded systems technology',\n",
       "       'electrical and power engineering',\n",
       "       'computer science and technology', 'mechatronics',\n",
       "       'automobile/automotive engineering', 'polymer technology',\n",
       "       'mechanical & production engineering',\n",
       "       'power systems and automation', 'instrumentation engineering',\n",
       "       'telecommunication engineering',\n",
       "       'industrial & management engineering', 'industrial engineering',\n",
       "       'computer and communication engineering',\n",
       "       'information & communication technology', 'information science',\n",
       "       'internal combustion engine', 'computer networking',\n",
       "       'biomedical engineering', 'electronics', 'computer science'],\n",
       "      dtype=object)"
      ]
     },
     "execution_count": 147,
     "metadata": {},
     "output_type": "execute_result"
    }
   ],
   "source": [
    "df['Specialization'].unique()"
   ]
  },
  {
   "cell_type": "code",
   "execution_count": 151,
   "metadata": {},
   "outputs": [
    {
     "data": {
      "text/plain": [
       "array(['computer engineering', 'computer science & engineering',\n",
       "       'computer application', 'electronics and computer engineering',\n",
       "       'computer science and technology',\n",
       "       'computer and communication engineering', 'computer networking',\n",
       "       'computer science'], dtype=object)"
      ]
     },
     "execution_count": 151,
     "metadata": {},
     "output_type": "execute_result"
    }
   ],
   "source": [
    "df[df.Specialization.str.contains('computer')]['Specialization'].unique()"
   ]
  },
  {
   "cell_type": "markdown",
   "metadata": {},
   "source": [
    "we will only consider computer science engineering"
   ]
  },
  {
   "cell_type": "code",
   "execution_count": 155,
   "metadata": {},
   "outputs": [
    {
     "data": {
      "text/plain": [
       "6       300000\n",
       "18      120000\n",
       "24      335000\n",
       "25      435000\n",
       "31      340000\n",
       "         ...  \n",
       "3969    330000\n",
       "3975    300000\n",
       "3981    220000\n",
       "3989    300000\n",
       "3996    200000\n",
       "Name: Salary, Length: 744, dtype: int64"
      ]
     },
     "execution_count": 155,
     "metadata": {},
     "output_type": "execute_result"
    }
   ],
   "source": [
    "df[df.Specialization=='computer science & engineering'].Salary"
   ]
  },
  {
   "cell_type": "code",
   "execution_count": 175,
   "metadata": {},
   "outputs": [
    {
     "data": {
      "text/plain": [
       "array(['software engineer', 'software engineer', 'software engineer',\n",
       "       'programmer analyst', 'software engineer', 'software engineer',\n",
       "       'programmer analyst', 'software engineer', 'software engineer',\n",
       "       'software engineer', 'software engineer', 'software engineer',\n",
       "       'programmer analyst', 'software engineer', 'software engineer',\n",
       "       'software engineer', 'software engineer', 'software engineer',\n",
       "       'programmer analyst', 'software engineer', 'software engineer',\n",
       "       'software engineer', 'programmer analyst', 'programmer analyst',\n",
       "       'software engineer', 'software engineer', 'software engineer',\n",
       "       'programmer analyst', 'software engineer', 'software engineer',\n",
       "       'software engineer', 'software engineer', 'programmer analyst',\n",
       "       'hardware engineer', 'software engineer', 'software engineer',\n",
       "       'software engineer', 'software engineer', 'associate engineer',\n",
       "       'software engineer', 'programmer analyst', 'software engineer',\n",
       "       'software engineer', 'programmer analyst', 'software engineer',\n",
       "       'software engineer', 'software engineer', 'software engineer',\n",
       "       'software engineer', 'programmer analyst', 'programmer analyst',\n",
       "       'software engineer', 'software engineer', 'software engineer',\n",
       "       'software engineer', 'software engineer', 'software engineer',\n",
       "       'software engineer', 'software engineer', 'software engineer',\n",
       "       'software engineer', 'software engineer', 'programmer analyst',\n",
       "       'software engineer', 'software engineer', 'software engineer',\n",
       "       'programmer analyst', 'software engineer', 'software engineer',\n",
       "       'software engineer', 'software engineer', 'software engineer',\n",
       "       'software engineer', 'software engineer', 'software engineer',\n",
       "       'software engineer', 'programmer analyst', 'software engineer',\n",
       "       'software engineer', 'software engineer', 'programmer analyst',\n",
       "       'programmer analyst', 'software engineer', 'programmer analyst',\n",
       "       'software engineer', 'software engineer', 'programmer analyst',\n",
       "       'software engineer', 'software engineer', 'software engineer',\n",
       "       'associate engineer', 'programmer analyst', 'software engineer',\n",
       "       'software engineer', 'software engineer', 'software engineer',\n",
       "       'software engineer', 'programmer analyst', 'software engineer',\n",
       "       'software engineer', 'software engineer', 'software engineer',\n",
       "       'programmer analyst', 'software engineer', 'programmer analyst',\n",
       "       'software engineer', 'software engineer', 'programmer analyst',\n",
       "       'software engineer', 'software engineer', 'programmer analyst',\n",
       "       'software engineer', 'programmer analyst', 'software engineer',\n",
       "       'software engineer', 'programmer analyst', 'software engineer',\n",
       "       'software engineer', 'software engineer', 'programmer analyst',\n",
       "       'software engineer', 'software engineer', 'software engineer',\n",
       "       'programmer analyst', 'software engineer', 'software engineer',\n",
       "       'programmer analyst', 'programmer analyst', 'software engineer',\n",
       "       'software engineer', 'programmer analyst', 'software engineer',\n",
       "       'software engineer', 'programmer analyst', 'software engineer',\n",
       "       'software engineer', 'software engineer', 'software engineer',\n",
       "       'software engineer', 'software engineer', 'software engineer',\n",
       "       'software engineer', 'programmer analyst', 'software engineer',\n",
       "       'software engineer', 'software engineer', 'software engineer',\n",
       "       'software engineer', 'programmer analyst', 'hardware engineer',\n",
       "       'software engineer', 'programmer analyst', 'associate engineer',\n",
       "       'software engineer', 'software engineer', 'software engineer',\n",
       "       'programmer analyst', 'hardware engineer', 'software engineer',\n",
       "       'programmer analyst', 'software engineer', 'programmer analyst',\n",
       "       'software engineer', 'software engineer', 'programmer analyst',\n",
       "       'software engineer', 'software engineer', 'software engineer',\n",
       "       'software engineer', 'software engineer', 'software engineer',\n",
       "       'software engineer', 'software engineer', 'software engineer',\n",
       "       'software engineer', 'programmer analyst', 'programmer analyst',\n",
       "       'software engineer', 'software engineer', 'software engineer',\n",
       "       'software engineer', 'software engineer', 'programmer analyst',\n",
       "       'software engineer', 'software engineer', 'software engineer',\n",
       "       'software engineer', 'software engineer', 'software engineer',\n",
       "       'programmer analyst', 'software engineer', 'software engineer',\n",
       "       'software engineer', 'software engineer', 'programmer analyst',\n",
       "       'software engineer', 'programmer analyst', 'programmer analyst',\n",
       "       'programmer analyst', 'software engineer', 'software engineer',\n",
       "       'programmer analyst', 'software engineer', 'software engineer',\n",
       "       'programmer analyst', 'software engineer', 'programmer analyst',\n",
       "       'software engineer', 'software engineer', 'software engineer',\n",
       "       'programmer analyst', 'software engineer', 'programmer analyst',\n",
       "       'programmer analyst', 'software engineer', 'software engineer',\n",
       "       'software engineer', 'software engineer', 'programmer analyst',\n",
       "       'software engineer', 'software engineer', 'programmer analyst',\n",
       "       'programmer analyst', 'software engineer', 'programmer analyst',\n",
       "       'software engineer', 'programmer analyst', 'software engineer',\n",
       "       'programmer analyst', 'software engineer', 'software engineer',\n",
       "       'software engineer', 'programmer analyst', 'software engineer',\n",
       "       'software engineer', 'programmer analyst', 'software engineer',\n",
       "       'software engineer', 'software engineer', 'software engineer',\n",
       "       'software engineer', 'software engineer', 'software engineer',\n",
       "       'software engineer', 'software engineer', 'programmer analyst',\n",
       "       'software engineer', 'programmer analyst', 'programmer analyst',\n",
       "       'programmer analyst', 'software engineer', 'software engineer',\n",
       "       'programmer analyst', 'software engineer', 'software engineer',\n",
       "       'programmer analyst', 'software engineer', 'software engineer',\n",
       "       'software engineer', 'software engineer', 'software engineer',\n",
       "       'software engineer', 'software engineer', 'software engineer',\n",
       "       'software engineer', 'programmer analyst', 'software engineer',\n",
       "       'software engineer', 'software engineer', 'software engineer',\n",
       "       'software engineer', 'software engineer', 'software engineer',\n",
       "       'software engineer', 'software engineer', 'software engineer',\n",
       "       'software engineer', 'software engineer', 'software engineer',\n",
       "       'software engineer', 'software engineer', 'programmer analyst',\n",
       "       'software engineer', 'software engineer', 'programmer analyst',\n",
       "       'programmer analyst', 'software engineer', 'software engineer',\n",
       "       'software engineer', 'software engineer', 'software engineer',\n",
       "       'software engineer', 'software engineer', 'software engineer',\n",
       "       'software engineer', 'software engineer', 'software engineer',\n",
       "       'programmer analyst', 'software engineer', 'software engineer',\n",
       "       'software engineer', 'software engineer', 'programmer analyst',\n",
       "       'software engineer', 'software engineer', 'software engineer',\n",
       "       'software engineer', 'software engineer', 'software engineer',\n",
       "       'software engineer', 'software engineer', 'programmer analyst',\n",
       "       'programmer analyst', 'programmer analyst', 'software engineer',\n",
       "       'software engineer', 'software engineer', 'software engineer',\n",
       "       'software engineer', 'programmer analyst', 'software engineer',\n",
       "       'software engineer', 'software engineer', 'programmer analyst',\n",
       "       'software engineer', 'programmer analyst', 'programmer analyst',\n",
       "       'software engineer', 'programmer analyst', 'software engineer',\n",
       "       'software engineer', 'software engineer', 'programmer analyst',\n",
       "       'software engineer', 'software engineer', 'software engineer',\n",
       "       'hardware engineer', 'software engineer', 'software engineer',\n",
       "       'software engineer', 'software engineer', 'software engineer',\n",
       "       'software engineer', 'software engineer', 'programmer analyst',\n",
       "       'software engineer', 'software engineer', 'software engineer',\n",
       "       'software engineer', 'software engineer', 'software engineer',\n",
       "       'software engineer', 'programmer analyst', 'software engineer',\n",
       "       'software engineer', 'software engineer', 'software engineer',\n",
       "       'software engineer', 'software engineer', 'software engineer',\n",
       "       'programmer analyst', 'software engineer', 'programmer analyst',\n",
       "       'software engineer', 'software engineer', 'programmer analyst',\n",
       "       'software engineer', 'software engineer', 'software engineer',\n",
       "       'software engineer', 'hardware engineer', 'programmer analyst',\n",
       "       'programmer analyst', 'software engineer', 'software engineer',\n",
       "       'software engineer', 'software engineer', 'software engineer',\n",
       "       'software engineer', 'programmer analyst', 'software engineer',\n",
       "       'software engineer', 'software engineer', 'programmer analyst',\n",
       "       'programmer analyst', 'software engineer', 'software engineer',\n",
       "       'software engineer', 'software engineer', 'software engineer',\n",
       "       'software engineer', 'programmer analyst', 'software engineer',\n",
       "       'software engineer', 'software engineer', 'software engineer',\n",
       "       'software engineer', 'software engineer', 'software engineer',\n",
       "       'software engineer', 'software engineer', 'software engineer',\n",
       "       'software engineer', 'programmer analyst', 'programmer analyst',\n",
       "       'software engineer', 'software engineer', 'software engineer',\n",
       "       'software engineer', 'programmer analyst', 'software engineer',\n",
       "       'software engineer', 'software engineer', 'programmer analyst',\n",
       "       'software engineer', 'software engineer', 'programmer analyst',\n",
       "       'software engineer', 'software engineer', 'software engineer',\n",
       "       'software engineer', 'programmer analyst', 'software engineer',\n",
       "       'software engineer', 'software engineer', 'software engineer',\n",
       "       'programmer analyst', 'software engineer', 'programmer analyst',\n",
       "       'software engineer', 'software engineer', 'software engineer',\n",
       "       'programmer analyst', 'software engineer', 'software engineer',\n",
       "       'programmer analyst', 'software engineer', 'programmer analyst',\n",
       "       'software engineer', 'software engineer', 'programmer analyst',\n",
       "       'programmer analyst', 'software engineer', 'software engineer',\n",
       "       'software engineer', 'software engineer', 'programmer analyst',\n",
       "       'software engineer', 'software engineer', 'software engineer',\n",
       "       'software engineer', 'programmer analyst', 'software engineer',\n",
       "       'software engineer', 'hardware engineer', 'software engineer',\n",
       "       'programmer analyst', 'associate engineer', 'software engineer',\n",
       "       'software engineer', 'software engineer', 'software engineer',\n",
       "       'software engineer', 'software engineer', 'programmer analyst',\n",
       "       'software engineer', 'software engineer', 'programmer analyst',\n",
       "       'software engineer', 'software engineer', 'software engineer',\n",
       "       'software engineer', 'software engineer', 'software engineer',\n",
       "       'software engineer', 'software engineer', 'software engineer',\n",
       "       'software engineer', 'programmer analyst', 'programmer analyst',\n",
       "       'software engineer', 'software engineer', 'programmer analyst',\n",
       "       'software engineer', 'software engineer', 'software engineer',\n",
       "       'software engineer', 'software engineer', 'software engineer',\n",
       "       'software engineer', 'software engineer', 'software engineer',\n",
       "       'programmer analyst', 'software engineer', 'software engineer',\n",
       "       'software engineer', 'software engineer', 'programmer analyst',\n",
       "       'programmer analyst', 'software engineer', 'programmer analyst',\n",
       "       'software engineer', 'software engineer', 'programmer analyst',\n",
       "       'software engineer', 'programmer analyst', 'software engineer',\n",
       "       'software engineer', 'programmer analyst', 'software engineer',\n",
       "       'software engineer', 'software engineer', 'software engineer',\n",
       "       'software engineer', 'software engineer', 'software engineer',\n",
       "       'software engineer', 'software engineer', 'programmer analyst',\n",
       "       'software engineer', 'programmer analyst', 'software engineer',\n",
       "       'software engineer', 'software engineer', 'programmer analyst',\n",
       "       'software engineer', 'software engineer', 'software engineer',\n",
       "       'software engineer', 'software engineer', 'software engineer',\n",
       "       'software engineer', 'software engineer', 'software engineer',\n",
       "       'software engineer', 'software engineer', 'software engineer',\n",
       "       'software engineer', 'software engineer', 'software engineer',\n",
       "       'software engineer', 'software engineer', 'software engineer',\n",
       "       'software engineer', 'software engineer', 'software engineer',\n",
       "       'software engineer', 'software engineer', 'software engineer',\n",
       "       'software engineer', 'software engineer', 'software engineer',\n",
       "       'software engineer', 'associate engineer', 'software engineer',\n",
       "       'software engineer', 'software engineer', 'software engineer',\n",
       "       'software engineer', 'software engineer', 'software engineer',\n",
       "       'software engineer', 'software engineer', 'software engineer',\n",
       "       'software engineer', 'software engineer', 'programmer analyst',\n",
       "       'software engineer', 'software engineer', 'software engineer',\n",
       "       'software engineer', 'software engineer', 'programmer analyst',\n",
       "       'software engineer', 'software engineer', 'programmer analyst',\n",
       "       'software engineer', 'software engineer', 'programmer analyst',\n",
       "       'software engineer', 'software engineer', 'software engineer',\n",
       "       'software engineer', 'software engineer', 'software engineer',\n",
       "       'programmer analyst', 'software engineer', 'software engineer',\n",
       "       'software engineer', 'software engineer', 'software engineer',\n",
       "       'software engineer', 'programmer analyst', 'software engineer',\n",
       "       'software engineer', 'software engineer', 'software engineer',\n",
       "       'software engineer', 'programmer analyst', 'hardware engineer',\n",
       "       'programmer analyst', 'software engineer', 'software engineer',\n",
       "       'programmer analyst', 'software engineer', 'software engineer',\n",
       "       'software engineer', 'software engineer', 'software engineer',\n",
       "       'software engineer', 'software engineer', 'software engineer',\n",
       "       'software engineer', 'software engineer', 'programmer analyst',\n",
       "       'hardware engineer', 'software engineer', 'software engineer',\n",
       "       'software engineer', 'software engineer', 'software engineer',\n",
       "       'software engineer', 'software engineer', 'software engineer',\n",
       "       'software engineer', 'software engineer', 'software engineer',\n",
       "       'software engineer', 'software engineer', 'software engineer',\n",
       "       'software engineer', 'software engineer', 'software engineer',\n",
       "       'software engineer', 'software engineer', 'software engineer',\n",
       "       'software engineer', 'software engineer', 'software engineer',\n",
       "       'software engineer', 'software engineer', 'software engineer',\n",
       "       'software engineer', 'software engineer', 'software engineer',\n",
       "       'software engineer', 'software engineer', 'software engineer',\n",
       "       'software engineer', 'software engineer', 'associate engineer',\n",
       "       'programmer analyst', 'software engineer', 'software engineer',\n",
       "       'software engineer', 'software engineer', 'software engineer',\n",
       "       'software engineer', 'software engineer', 'programmer analyst',\n",
       "       'software engineer', 'software engineer', 'software engineer',\n",
       "       'software engineer', 'software engineer', 'software engineer',\n",
       "       'programmer analyst', 'software engineer', 'software engineer',\n",
       "       'software engineer', 'software engineer', 'software engineer',\n",
       "       'software engineer', 'software engineer', 'software engineer',\n",
       "       'software engineer', 'software engineer', 'software engineer',\n",
       "       'software engineer', 'software engineer', 'software engineer',\n",
       "       'software engineer', 'software engineer', 'software engineer',\n",
       "       'programmer analyst', 'software engineer', 'software engineer',\n",
       "       'software engineer', 'software engineer', 'software engineer',\n",
       "       'software engineer', 'software engineer'], dtype=object)"
      ]
     },
     "execution_count": 175,
     "metadata": {},
     "output_type": "execute_result"
    }
   ],
   "source": [
    "a=df[df.Designation.isin(['programmer analyst','software engineer','hardware engineer','associate engineer'])]['Designation'].values\n",
    "a"
   ]
  },
  {
   "cell_type": "code",
   "execution_count": 176,
   "metadata": {},
   "outputs": [
    {
     "data": {
      "text/plain": [
       "array([ 300000,  120000,  335000,  435000,  340000,  215000,  145000,\n",
       "        205000,  390000,  400000,  250000,  300000,  250000,  200000,\n",
       "        240000,  120000,  120000,  300000,  220000, 1500000,  300000,\n",
       "        460000,  120000,  340000,  330000,  300000,  325000,  205000,\n",
       "        145000,  235000,  290000,  145000,  275000,  340000,  200000,\n",
       "        375000,  275000,  180000,   70000,  305000,  350000,  115000,\n",
       "        325000,  360000,  240000,  100000,  180000,  300000,  285000,\n",
       "        300000,  170000,  370000,  120000,  350000,   95000,  325000,\n",
       "        305000,  115000,  105000,  425000,  305000,  500000,  110000,\n",
       "        560000,  360000,  700000,  300000,  320000,  315000,  320000,\n",
       "        300000,  135000,  785000,  120000,  330000,  210000,  700000,\n",
       "        220000,  320000,  250000,  340000,  275000,  100000,  300000,\n",
       "        205000,  325000,  100000,  105000,  475000,  325000,  180000,\n",
       "        120000,  300000,  240000,  240000,  335000,  190000,  300000,\n",
       "         55000,  325000,  345000,  375000,  100000,  300000,  450000,\n",
       "        380000,  320000,  305000,  185000,  260000,   65000,  370000,\n",
       "        240000,  290000,  180000,  275000,  180000,  265000,  160000,\n",
       "        360000,  350000,  200000,  240000,  505000,  300000,  120000,\n",
       "        180000,  145000,  325000,  450000,  325000,  105000,  320000,\n",
       "        320000,  375000,  420000,  215000, 1025000,  100000,  240000,\n",
       "        525000,  170000,  215000,  350000,  340000,  210000,  120000,\n",
       "        300000,  425000,  195000,  280000,  120000,  300000,  350000,\n",
       "        130000,  420000,  310000,  200000,  200000,  220000,  350000,\n",
       "        100000,  250000,  140000,  100000,  400000,  300000,  300000,\n",
       "        400000,  330000,  120000,  320000,  450000,   85000,  330000,\n",
       "        100000,  420000,  335000,  515000,  350000,  275000,  350000,\n",
       "        340000,  300000,  315000,  145000,  120000,  300000,  220000,\n",
       "        320000,  360000,  370000,  500000,  325000,  240000,  220000,\n",
       "        330000,  400000,  315000,  180000,  105000,  180000,  300000,\n",
       "        450000,  240000,  120000,  240000,  560000,  100000,  240000,\n",
       "        315000,   60000,  105000,  180000,  120000,  345000,  300000,\n",
       "        350000,  350000,  210000,  185000,  325000,   95000,  120000,\n",
       "        335000,  200000,  275000,  335000,  200000,  160000,  180000,\n",
       "        305000,  420000,  450000,  200000,  400000,  300000,  400000,\n",
       "        400000,  100000,   95000,  275000,  450000,  180000,  180000,\n",
       "        350000,  210000,  305000,  320000,  400000,  150000,  225000,\n",
       "        350000,  350000,  160000,  120000,  480000,  350000,  305000,\n",
       "        610000,  205000,  700000,  360000,  210000,  180000,  120000,\n",
       "        220000,  300000,  200000,  280000,  275000,  145000,   65000,\n",
       "        300000,  310000,  180000,  315000,  190000, 2050000,  200000,\n",
       "        215000,  120000,  400000,  450000,  200000,  180000,  105000,\n",
       "        125000,  200000,  325000,  165000,  305000,  350000,  420000,\n",
       "        240000,  325000,  135000,  300000,  100000,  180000,  150000,\n",
       "        385000,  310000,  120000,  320000,  120000,  120000,  330000,\n",
       "        300000,  550000,  325000,   95000,  240000,  225000,  240000,\n",
       "        200000,  240000,  280000,  220000,  325000,  205000,  325000,\n",
       "        500000,  150000,  335000,  275000,  280000,  180000,  150000,\n",
       "        300000,  300000,  200000,  240000,  340000,  240000,  325000,\n",
       "        150000,  305000,  300000,  325000,  330000,  180000,  325000,\n",
       "        205000,  240000,  310000,  525000,  340000,  400000,  205000,\n",
       "        300000,  250000,  120000,  350000,  100000,  170000,  300000,\n",
       "        300000,  180000,  315000,  310000,  450000,  325000,  200000,\n",
       "        320000,   95000,  300000,  245000,  600000,  200000,  180000,\n",
       "        320000,  300000,  300000,  655000,  215000,  315000,  140000,\n",
       "        300000,  325000,  135000,  590000,  100000,   60000,  120000,\n",
       "        300000,  390000,  305000,  525000,  200000,  110000,  230000,\n",
       "        220000,  350000,  310000,  170000,  300000,  100000,  120000,\n",
       "        150000,  320000,  145000,  350000,  335000,  155000,  105000,\n",
       "        200000,  400000,  240000,  300000,  350000,  240000,  380000,\n",
       "        350000,  210000,  325000,  420000,  400000,  325000,  350000,\n",
       "        180000,  100000,  165000,  360000,  400000,  300000,  275000,\n",
       "        225000,  160000,  200000,  145000,   75000,  550000,  150000,\n",
       "        180000,  400000,  105000,  325000,  350000,  400000,  300000,\n",
       "        220000,  140000,  460000,  135000,   85000,  440000,  250000,\n",
       "        325000, 1000000,  335000,  450000,  240000,  340000,  400000,\n",
       "        570000,  130000,  180000,  400000,  310000,  110000,  120000,\n",
       "        300000, 2000000,  200000,  600000,  300000, 1800000,  315000,\n",
       "        115000,  350000,  120000,  300000,  610000,  200000,  120000,\n",
       "         95000,  325000,  120000,  325000,  350000,  175000,  100000,\n",
       "        300000,  215000,  400000,  325000,  120000,  250000,  120000,\n",
       "        205000,  500000,  400000,  140000,  100000,  305000,  300000,\n",
       "        195000,  110000,  180000,  120000,  275000,  200000,  220000,\n",
       "        150000,  185000,  300000,  140000,  450000,  200000,  120000,\n",
       "        325000,  310000,  290000,  130000,  360000,  305000,  200000,\n",
       "        120000,  300000,  130000,  360000,  235000,  340000,  200000,\n",
       "        210000,   95000,  240000,  350000,  335000,  420000,  325000,\n",
       "        300000,   70000,  350000,  325000,  325000,  305000,  300000,\n",
       "        400000,  240000,  430000,  325000,  800000,  120000,  180000,\n",
       "        280000,  240000,  295000,  315000,  380000,  240000,  325000,\n",
       "        230000,  150000,  360000,  260000,  360000,  205000,  180000,\n",
       "        180000,  220000,  240000,  325000,  240000,  450000,  375000,\n",
       "        180000,  300000,  305000,   95000,  335000,  315000,  325000,\n",
       "        325000,  300000,  120000,   85000,  215000,  410000,  325000,\n",
       "        120000,  155000,  325000,  100000,  320000,  310000,  325000,\n",
       "        250000,  300000,  350000,  145000,  300000,  300000,  300000,\n",
       "        200000,  275000,  195000,  320000,  100000,  200000,  280000,\n",
       "        240000,  120000,  100000,  380000,  275000,  600000,  100000,\n",
       "        360000,  180000,  310000,  325000,  320000,  315000,  305000,\n",
       "        300000,  275000,  300000,  120000,  325000,  200000,  180000,\n",
       "        120000,  480000,  240000,  300000,  220000,  180000,  215000,\n",
       "        120000,  290000,  500000,  325000,  295000,  190000,  200000,\n",
       "        210000,   35000,  300000,  550000,  260000,  300000,  240000,\n",
       "        315000,  360000,  120000,  275000,  320000,  300000,  105000,\n",
       "        330000,  350000,  120000,  115000,  490000,  150000,  300000,\n",
       "        315000,  210000,  925000,  200000,  120000,  420000,  400000,\n",
       "        325000,  300000,  360000,  280000,  350000,  200000,  300000,\n",
       "        185000,  200000,  180000,  300000,  120000,  240000,  325000,\n",
       "         95000,  350000,   95000,  205000,  365000,  405000,  325000,\n",
       "         95000,  200000,   95000,  500000,  150000,  280000,  300000,\n",
       "        120000,  200000,  350000,  240000,  320000,  150000,  145000,\n",
       "        240000,  180000,  335000,  120000,  145000,  315000,  145000,\n",
       "        240000,  310000,  350000,  225000,  100000,  180000,  145000,\n",
       "        200000,  200000,  315000,  180000,  300000,  600000,  300000,\n",
       "        195000,  190000,  195000,  390000,  180000,  370000,  105000,\n",
       "        225000,  330000,  315000,  100000,  180000,  180000,  300000,\n",
       "        200000,  155000,  390000,  110000,  330000,  300000,  220000,\n",
       "        300000,  200000], dtype=int64)"
      ]
     },
     "execution_count": 176,
     "metadata": {},
     "output_type": "execute_result"
    }
   ],
   "source": [
    "b=df[df.Specialization=='computer science & engineering'].Salary.values\n",
    "b"
   ]
  },
  {
   "cell_type": "code",
   "execution_count": 185,
   "metadata": {},
   "outputs": [
    {
     "data": {
      "text/html": [
       "<div>\n",
       "<style scoped>\n",
       "    .dataframe tbody tr th:only-of-type {\n",
       "        vertical-align: middle;\n",
       "    }\n",
       "\n",
       "    .dataframe tbody tr th {\n",
       "        vertical-align: top;\n",
       "    }\n",
       "\n",
       "    .dataframe thead th {\n",
       "        text-align: right;\n",
       "    }\n",
       "</style>\n",
       "<table border=\"1\" class=\"dataframe\">\n",
       "  <thead>\n",
       "    <tr style=\"text-align: right;\">\n",
       "      <th></th>\n",
       "      <th>ID</th>\n",
       "      <th>Salary</th>\n",
       "      <th>DOJ</th>\n",
       "      <th>DOL</th>\n",
       "      <th>Designation</th>\n",
       "      <th>JobCity</th>\n",
       "      <th>Gender</th>\n",
       "      <th>DOB</th>\n",
       "      <th>10percentage</th>\n",
       "      <th>10board</th>\n",
       "      <th>...</th>\n",
       "      <th>ComputerScience</th>\n",
       "      <th>MechanicalEngg</th>\n",
       "      <th>ElectricalEngg</th>\n",
       "      <th>TelecomEngg</th>\n",
       "      <th>CivilEngg</th>\n",
       "      <th>conscientiousness</th>\n",
       "      <th>agreeableness</th>\n",
       "      <th>extraversion</th>\n",
       "      <th>nueroticism</th>\n",
       "      <th>openess_to_experience</th>\n",
       "    </tr>\n",
       "  </thead>\n",
       "  <tbody>\n",
       "    <tr>\n",
       "      <th>24</th>\n",
       "      <td>963123</td>\n",
       "      <td>335000</td>\n",
       "      <td>2014-06-01</td>\n",
       "      <td>2015-06-01 00:00:00</td>\n",
       "      <td>programmer analyst</td>\n",
       "      <td>Hyderabad</td>\n",
       "      <td>m</td>\n",
       "      <td>1993-06-28</td>\n",
       "      <td>88.00</td>\n",
       "      <td>state board</td>\n",
       "      <td>...</td>\n",
       "      <td>346</td>\n",
       "      <td>-1</td>\n",
       "      <td>-1</td>\n",
       "      <td>-1</td>\n",
       "      <td>-1</td>\n",
       "      <td>0.4155</td>\n",
       "      <td>0.8027</td>\n",
       "      <td>0.1357</td>\n",
       "      <td>-0.9950</td>\n",
       "      <td>-0.6692</td>\n",
       "    </tr>\n",
       "    <tr>\n",
       "      <th>31</th>\n",
       "      <td>1094324</td>\n",
       "      <td>340000</td>\n",
       "      <td>2014-08-01</td>\n",
       "      <td>2015-04-01 00:00:00</td>\n",
       "      <td>software engineer</td>\n",
       "      <td>Bangalore</td>\n",
       "      <td>m</td>\n",
       "      <td>1992-10-23</td>\n",
       "      <td>77.20</td>\n",
       "      <td>state board</td>\n",
       "      <td>...</td>\n",
       "      <td>407</td>\n",
       "      <td>-1</td>\n",
       "      <td>-1</td>\n",
       "      <td>-1</td>\n",
       "      <td>-1</td>\n",
       "      <td>-0.0154</td>\n",
       "      <td>1.2114</td>\n",
       "      <td>1.0859</td>\n",
       "      <td>-1.5021</td>\n",
       "      <td>0.2889</td>\n",
       "    </tr>\n",
       "    <tr>\n",
       "      <th>52</th>\n",
       "      <td>794209</td>\n",
       "      <td>400000</td>\n",
       "      <td>2015-04-01</td>\n",
       "      <td>present</td>\n",
       "      <td>software engineer</td>\n",
       "      <td>Navi Mumbai</td>\n",
       "      <td>m</td>\n",
       "      <td>1992-03-09</td>\n",
       "      <td>85.20</td>\n",
       "      <td>icse</td>\n",
       "      <td>...</td>\n",
       "      <td>-1</td>\n",
       "      <td>-1</td>\n",
       "      <td>-1</td>\n",
       "      <td>-1</td>\n",
       "      <td>-1</td>\n",
       "      <td>1.1336</td>\n",
       "      <td>0.3789</td>\n",
       "      <td>1.0859</td>\n",
       "      <td>0.6530</td>\n",
       "      <td>0.2889</td>\n",
       "    </tr>\n",
       "    <tr>\n",
       "      <th>55</th>\n",
       "      <td>989860</td>\n",
       "      <td>250000</td>\n",
       "      <td>2014-08-01</td>\n",
       "      <td>present</td>\n",
       "      <td>software engineer</td>\n",
       "      <td>Mangalore</td>\n",
       "      <td>m</td>\n",
       "      <td>1992-02-13</td>\n",
       "      <td>90.80</td>\n",
       "      <td>state board</td>\n",
       "      <td>...</td>\n",
       "      <td>376</td>\n",
       "      <td>-1</td>\n",
       "      <td>-1</td>\n",
       "      <td>-1</td>\n",
       "      <td>-1</td>\n",
       "      <td>-0.3027</td>\n",
       "      <td>0.7119</td>\n",
       "      <td>-0.2974</td>\n",
       "      <td>1.1601</td>\n",
       "      <td>-0.4776</td>\n",
       "    </tr>\n",
       "    <tr>\n",
       "      <th>130</th>\n",
       "      <td>902366</td>\n",
       "      <td>325000</td>\n",
       "      <td>2014-09-01</td>\n",
       "      <td>present</td>\n",
       "      <td>software engineer</td>\n",
       "      <td>Greater Noida</td>\n",
       "      <td>m</td>\n",
       "      <td>1992-01-10</td>\n",
       "      <td>82.80</td>\n",
       "      <td>cbse</td>\n",
       "      <td>...</td>\n",
       "      <td>438</td>\n",
       "      <td>-1</td>\n",
       "      <td>-1</td>\n",
       "      <td>-1</td>\n",
       "      <td>-1</td>\n",
       "      <td>-0.1590</td>\n",
       "      <td>0.0459</td>\n",
       "      <td>0.7785</td>\n",
       "      <td>-1.1218</td>\n",
       "      <td>-0.0943</td>\n",
       "    </tr>\n",
       "    <tr>\n",
       "      <th>...</th>\n",
       "      <td>...</td>\n",
       "      <td>...</td>\n",
       "      <td>...</td>\n",
       "      <td>...</td>\n",
       "      <td>...</td>\n",
       "      <td>...</td>\n",
       "      <td>...</td>\n",
       "      <td>...</td>\n",
       "      <td>...</td>\n",
       "      <td>...</td>\n",
       "      <td>...</td>\n",
       "      <td>...</td>\n",
       "      <td>...</td>\n",
       "      <td>...</td>\n",
       "      <td>...</td>\n",
       "      <td>...</td>\n",
       "      <td>...</td>\n",
       "      <td>...</td>\n",
       "      <td>...</td>\n",
       "      <td>...</td>\n",
       "      <td>...</td>\n",
       "    </tr>\n",
       "    <tr>\n",
       "      <th>3746</th>\n",
       "      <td>1100909</td>\n",
       "      <td>325000</td>\n",
       "      <td>2014-11-01</td>\n",
       "      <td>present</td>\n",
       "      <td>software engineer</td>\n",
       "      <td>Bangalore</td>\n",
       "      <td>m</td>\n",
       "      <td>1992-08-09</td>\n",
       "      <td>91.68</td>\n",
       "      <td>state board</td>\n",
       "      <td>...</td>\n",
       "      <td>438</td>\n",
       "      <td>-1</td>\n",
       "      <td>-1</td>\n",
       "      <td>-1</td>\n",
       "      <td>-1</td>\n",
       "      <td>0.8463</td>\n",
       "      <td>0.8784</td>\n",
       "      <td>1.7007</td>\n",
       "      <td>-2.0092</td>\n",
       "      <td>1.2470</td>\n",
       "    </tr>\n",
       "    <tr>\n",
       "      <th>3778</th>\n",
       "      <td>1083136</td>\n",
       "      <td>300000</td>\n",
       "      <td>2014-10-01</td>\n",
       "      <td>2015-04-01 00:00:00</td>\n",
       "      <td>software engineer</td>\n",
       "      <td>Navi Mumbai</td>\n",
       "      <td>m</td>\n",
       "      <td>1990-11-24</td>\n",
       "      <td>87.20</td>\n",
       "      <td>state board</td>\n",
       "      <td>...</td>\n",
       "      <td>346</td>\n",
       "      <td>-1</td>\n",
       "      <td>-1</td>\n",
       "      <td>-1</td>\n",
       "      <td>-1</td>\n",
       "      <td>-0.3027</td>\n",
       "      <td>-0.4536</td>\n",
       "      <td>-2.6028</td>\n",
       "      <td>0.7798</td>\n",
       "      <td>0.2889</td>\n",
       "    </tr>\n",
       "    <tr>\n",
       "      <th>3818</th>\n",
       "      <td>1089624</td>\n",
       "      <td>240000</td>\n",
       "      <td>2014-02-01</td>\n",
       "      <td>present</td>\n",
       "      <td>software engineer</td>\n",
       "      <td>Mumbai</td>\n",
       "      <td>f</td>\n",
       "      <td>1991-09-08</td>\n",
       "      <td>73.80</td>\n",
       "      <td>cbse</td>\n",
       "      <td>...</td>\n",
       "      <td>500</td>\n",
       "      <td>-1</td>\n",
       "      <td>-1</td>\n",
       "      <td>-1</td>\n",
       "      <td>-1</td>\n",
       "      <td>0.1282</td>\n",
       "      <td>0.5454</td>\n",
       "      <td>0.3174</td>\n",
       "      <td>-0.2344</td>\n",
       "      <td>-0.2859</td>\n",
       "    </tr>\n",
       "    <tr>\n",
       "      <th>3881</th>\n",
       "      <td>982135</td>\n",
       "      <td>600000</td>\n",
       "      <td>2014-01-01</td>\n",
       "      <td>present</td>\n",
       "      <td>software engineer</td>\n",
       "      <td>Bangalore</td>\n",
       "      <td>m</td>\n",
       "      <td>1992-01-31</td>\n",
       "      <td>80.40</td>\n",
       "      <td>jharkhand acedemic council</td>\n",
       "      <td>...</td>\n",
       "      <td>530</td>\n",
       "      <td>-1</td>\n",
       "      <td>-1</td>\n",
       "      <td>-1</td>\n",
       "      <td>-1</td>\n",
       "      <td>-0.3027</td>\n",
       "      <td>0.0459</td>\n",
       "      <td>0.3174</td>\n",
       "      <td>-1.1218</td>\n",
       "      <td>-0.0943</td>\n",
       "    </tr>\n",
       "    <tr>\n",
       "      <th>3989</th>\n",
       "      <td>1204604</td>\n",
       "      <td>300000</td>\n",
       "      <td>2014-09-01</td>\n",
       "      <td>present</td>\n",
       "      <td>software engineer</td>\n",
       "      <td>Bangalore</td>\n",
       "      <td>m</td>\n",
       "      <td>1991-11-23</td>\n",
       "      <td>74.88</td>\n",
       "      <td>state board</td>\n",
       "      <td>...</td>\n",
       "      <td>346</td>\n",
       "      <td>-1</td>\n",
       "      <td>-1</td>\n",
       "      <td>-1</td>\n",
       "      <td>-1</td>\n",
       "      <td>0.1282</td>\n",
       "      <td>0.0459</td>\n",
       "      <td>1.2396</td>\n",
       "      <td>1.0333</td>\n",
       "      <td>0.6721</td>\n",
       "    </tr>\n",
       "  </tbody>\n",
       "</table>\n",
       "<p>74 rows × 38 columns</p>\n",
       "</div>"
      ],
      "text/plain": [
       "           ID  Salary        DOJ                  DOL         Designation  \\\n",
       "24     963123  335000 2014-06-01  2015-06-01 00:00:00  programmer analyst   \n",
       "31    1094324  340000 2014-08-01  2015-04-01 00:00:00   software engineer   \n",
       "52     794209  400000 2015-04-01              present   software engineer   \n",
       "55     989860  250000 2014-08-01              present   software engineer   \n",
       "130    902366  325000 2014-09-01              present   software engineer   \n",
       "...       ...     ...        ...                  ...                 ...   \n",
       "3746  1100909  325000 2014-11-01              present   software engineer   \n",
       "3778  1083136  300000 2014-10-01  2015-04-01 00:00:00   software engineer   \n",
       "3818  1089624  240000 2014-02-01              present   software engineer   \n",
       "3881   982135  600000 2014-01-01              present   software engineer   \n",
       "3989  1204604  300000 2014-09-01              present   software engineer   \n",
       "\n",
       "            JobCity Gender        DOB  10percentage  \\\n",
       "24        Hyderabad      m 1993-06-28         88.00   \n",
       "31        Bangalore      m 1992-10-23         77.20   \n",
       "52      Navi Mumbai      m 1992-03-09         85.20   \n",
       "55        Mangalore      m 1992-02-13         90.80   \n",
       "130   Greater Noida      m 1992-01-10         82.80   \n",
       "...             ...    ...        ...           ...   \n",
       "3746     Bangalore       m 1992-08-09         91.68   \n",
       "3778    Navi Mumbai      m 1990-11-24         87.20   \n",
       "3818         Mumbai      f 1991-09-08         73.80   \n",
       "3881      Bangalore      m 1992-01-31         80.40   \n",
       "3989      Bangalore      m 1991-11-23         74.88   \n",
       "\n",
       "                         10board  ...  ComputerScience  MechanicalEngg  \\\n",
       "24                   state board  ...              346              -1   \n",
       "31                   state board  ...              407              -1   \n",
       "52                          icse  ...               -1              -1   \n",
       "55                   state board  ...              376              -1   \n",
       "130                         cbse  ...              438              -1   \n",
       "...                          ...  ...              ...             ...   \n",
       "3746                 state board  ...              438              -1   \n",
       "3778                 state board  ...              346              -1   \n",
       "3818                        cbse  ...              500              -1   \n",
       "3881  jharkhand acedemic council  ...              530              -1   \n",
       "3989                 state board  ...              346              -1   \n",
       "\n",
       "     ElectricalEngg  TelecomEngg  CivilEngg conscientiousness agreeableness  \\\n",
       "24               -1           -1         -1            0.4155        0.8027   \n",
       "31               -1           -1         -1           -0.0154        1.2114   \n",
       "52               -1           -1         -1            1.1336        0.3789   \n",
       "55               -1           -1         -1           -0.3027        0.7119   \n",
       "130              -1           -1         -1           -0.1590        0.0459   \n",
       "...             ...          ...        ...               ...           ...   \n",
       "3746             -1           -1         -1            0.8463        0.8784   \n",
       "3778             -1           -1         -1           -0.3027       -0.4536   \n",
       "3818             -1           -1         -1            0.1282        0.5454   \n",
       "3881             -1           -1         -1           -0.3027        0.0459   \n",
       "3989             -1           -1         -1            0.1282        0.0459   \n",
       "\n",
       "      extraversion  nueroticism  openess_to_experience  \n",
       "24          0.1357      -0.9950                -0.6692  \n",
       "31          1.0859      -1.5021                 0.2889  \n",
       "52          1.0859       0.6530                 0.2889  \n",
       "55         -0.2974       1.1601                -0.4776  \n",
       "130         0.7785      -1.1218                -0.0943  \n",
       "...            ...          ...                    ...  \n",
       "3746        1.7007      -2.0092                 1.2470  \n",
       "3778       -2.6028       0.7798                 0.2889  \n",
       "3818        0.3174      -0.2344                -0.2859  \n",
       "3881        0.3174      -1.1218                -0.0943  \n",
       "3989        1.2396       1.0333                 0.6721  \n",
       "\n",
       "[74 rows x 38 columns]"
      ]
     },
     "execution_count": 185,
     "metadata": {},
     "output_type": "execute_result"
    }
   ],
   "source": [
    "df[(df.Specialization=='computer science & engineering') & (df.Designation.isin(['programmer analyst','software engineer','hardware engineer','associate engineer'])) & (df.GraduationYear==2014)]"
   ]
  },
  {
   "cell_type": "code",
   "execution_count": 184,
   "metadata": {},
   "outputs": [
    {
     "data": {
      "text/plain": [
       "333175.6756756757"
      ]
     },
     "execution_count": 184,
     "metadata": {},
     "output_type": "execute_result"
    }
   ],
   "source": [
    "df[(df.Specialization=='computer science & engineering') & (df.Designation.isin(['programmer analyst','software engineer','hardware engineer','associate engineer'])) & (df.GraduationYear==2014)].Salary.mean()"
   ]
  },
  {
   "cell_type": "markdown",
   "metadata": {},
   "source": [
    "After doing your Computer Science Engineering if you take up jobs as a Programming Analyst, Software Engineer, Hardware Engineer and Associate Engineer you can earn up to 2.5-3 lakhs as a fresh graduate.   \n",
    "This claim is false as person earns 3.3 lakh on average"
   ]
  },
  {
   "cell_type": "markdown",
   "metadata": {},
   "source": [
    "- Is there a relationship between gender and specialisation?(i.e. Does the preference of Specialisation depend on the Gender?)"
   ]
  },
  {
   "cell_type": "code",
   "execution_count": 186,
   "metadata": {},
   "outputs": [
    {
     "data": {
      "text/html": [
       "<div>\n",
       "<style scoped>\n",
       "    .dataframe tbody tr th:only-of-type {\n",
       "        vertical-align: middle;\n",
       "    }\n",
       "\n",
       "    .dataframe tbody tr th {\n",
       "        vertical-align: top;\n",
       "    }\n",
       "\n",
       "    .dataframe thead th {\n",
       "        text-align: right;\n",
       "    }\n",
       "</style>\n",
       "<table border=\"1\" class=\"dataframe\">\n",
       "  <thead>\n",
       "    <tr style=\"text-align: right;\">\n",
       "      <th></th>\n",
       "      <th>ID</th>\n",
       "      <th>Salary</th>\n",
       "      <th>10percentage</th>\n",
       "      <th>12graduation</th>\n",
       "      <th>12percentage</th>\n",
       "      <th>CollegeID</th>\n",
       "      <th>CollegeTier</th>\n",
       "      <th>collegeGPA</th>\n",
       "      <th>CollegeCityID</th>\n",
       "      <th>CollegeCityTier</th>\n",
       "      <th>...</th>\n",
       "      <th>ComputerScience</th>\n",
       "      <th>MechanicalEngg</th>\n",
       "      <th>ElectricalEngg</th>\n",
       "      <th>TelecomEngg</th>\n",
       "      <th>CivilEngg</th>\n",
       "      <th>conscientiousness</th>\n",
       "      <th>agreeableness</th>\n",
       "      <th>extraversion</th>\n",
       "      <th>nueroticism</th>\n",
       "      <th>openess_to_experience</th>\n",
       "    </tr>\n",
       "  </thead>\n",
       "  <tbody>\n",
       "    <tr>\n",
       "      <th>ID</th>\n",
       "      <td>1.000000</td>\n",
       "      <td>-0.247294</td>\n",
       "      <td>0.044547</td>\n",
       "      <td>0.673102</td>\n",
       "      <td>0.007069</td>\n",
       "      <td>0.284540</td>\n",
       "      <td>0.035160</td>\n",
       "      <td>0.047144</td>\n",
       "      <td>0.284540</td>\n",
       "      <td>-0.035977</td>\n",
       "      <td>...</td>\n",
       "      <td>0.482626</td>\n",
       "      <td>-0.026147</td>\n",
       "      <td>0.104454</td>\n",
       "      <td>-0.049272</td>\n",
       "      <td>-0.017871</td>\n",
       "      <td>0.175557</td>\n",
       "      <td>0.024837</td>\n",
       "      <td>0.120979</td>\n",
       "      <td>-0.146289</td>\n",
       "      <td>0.031359</td>\n",
       "    </tr>\n",
       "    <tr>\n",
       "      <th>Salary</th>\n",
       "      <td>-0.247294</td>\n",
       "      <td>1.000000</td>\n",
       "      <td>0.177373</td>\n",
       "      <td>-0.161383</td>\n",
       "      <td>0.170254</td>\n",
       "      <td>-0.118690</td>\n",
       "      <td>-0.179332</td>\n",
       "      <td>0.130103</td>\n",
       "      <td>-0.118690</td>\n",
       "      <td>0.015384</td>\n",
       "      <td>...</td>\n",
       "      <td>-0.100720</td>\n",
       "      <td>0.018475</td>\n",
       "      <td>-0.047598</td>\n",
       "      <td>-0.022691</td>\n",
       "      <td>0.037639</td>\n",
       "      <td>-0.064148</td>\n",
       "      <td>0.057423</td>\n",
       "      <td>-0.010213</td>\n",
       "      <td>-0.054685</td>\n",
       "      <td>-0.011312</td>\n",
       "    </tr>\n",
       "    <tr>\n",
       "      <th>10percentage</th>\n",
       "      <td>0.044547</td>\n",
       "      <td>0.177373</td>\n",
       "      <td>1.000000</td>\n",
       "      <td>0.269957</td>\n",
       "      <td>0.643378</td>\n",
       "      <td>0.021082</td>\n",
       "      <td>-0.126042</td>\n",
       "      <td>0.312538</td>\n",
       "      <td>0.021082</td>\n",
       "      <td>0.116707</td>\n",
       "      <td>...</td>\n",
       "      <td>-0.018933</td>\n",
       "      <td>0.050364</td>\n",
       "      <td>0.074419</td>\n",
       "      <td>0.049378</td>\n",
       "      <td>0.030002</td>\n",
       "      <td>0.067657</td>\n",
       "      <td>0.136645</td>\n",
       "      <td>-0.004679</td>\n",
       "      <td>-0.132496</td>\n",
       "      <td>0.036692</td>\n",
       "    </tr>\n",
       "    <tr>\n",
       "      <th>12graduation</th>\n",
       "      <td>0.673102</td>\n",
       "      <td>-0.161383</td>\n",
       "      <td>0.269957</td>\n",
       "      <td>1.000000</td>\n",
       "      <td>0.259166</td>\n",
       "      <td>0.254021</td>\n",
       "      <td>0.027691</td>\n",
       "      <td>0.086001</td>\n",
       "      <td>0.254021</td>\n",
       "      <td>-0.003016</td>\n",
       "      <td>...</td>\n",
       "      <td>0.293439</td>\n",
       "      <td>0.035459</td>\n",
       "      <td>0.123751</td>\n",
       "      <td>0.023470</td>\n",
       "      <td>-0.004727</td>\n",
       "      <td>0.103329</td>\n",
       "      <td>0.041182</td>\n",
       "      <td>0.061956</td>\n",
       "      <td>-0.074369</td>\n",
       "      <td>-0.015069</td>\n",
       "    </tr>\n",
       "    <tr>\n",
       "      <th>12percentage</th>\n",
       "      <td>0.007069</td>\n",
       "      <td>0.170254</td>\n",
       "      <td>0.643378</td>\n",
       "      <td>0.259166</td>\n",
       "      <td>1.000000</td>\n",
       "      <td>0.022336</td>\n",
       "      <td>-0.100771</td>\n",
       "      <td>0.346137</td>\n",
       "      <td>0.022336</td>\n",
       "      <td>0.130462</td>\n",
       "      <td>...</td>\n",
       "      <td>-0.043534</td>\n",
       "      <td>0.037635</td>\n",
       "      <td>0.064001</td>\n",
       "      <td>0.044201</td>\n",
       "      <td>0.005910</td>\n",
       "      <td>0.058299</td>\n",
       "      <td>0.103998</td>\n",
       "      <td>-0.007486</td>\n",
       "      <td>-0.094369</td>\n",
       "      <td>0.006332</td>\n",
       "    </tr>\n",
       "    <tr>\n",
       "      <th>CollegeID</th>\n",
       "      <td>0.284540</td>\n",
       "      <td>-0.118690</td>\n",
       "      <td>0.021082</td>\n",
       "      <td>0.254021</td>\n",
       "      <td>0.022336</td>\n",
       "      <td>1.000000</td>\n",
       "      <td>0.067054</td>\n",
       "      <td>0.017240</td>\n",
       "      <td>1.000000</td>\n",
       "      <td>0.007757</td>\n",
       "      <td>...</td>\n",
       "      <td>0.102303</td>\n",
       "      <td>-0.009291</td>\n",
       "      <td>0.022933</td>\n",
       "      <td>0.025620</td>\n",
       "      <td>0.005749</td>\n",
       "      <td>0.076432</td>\n",
       "      <td>-0.005264</td>\n",
       "      <td>0.005917</td>\n",
       "      <td>-0.008973</td>\n",
       "      <td>-0.010678</td>\n",
       "    </tr>\n",
       "    <tr>\n",
       "      <th>CollegeTier</th>\n",
       "      <td>0.035160</td>\n",
       "      <td>-0.179332</td>\n",
       "      <td>-0.126042</td>\n",
       "      <td>0.027691</td>\n",
       "      <td>-0.100771</td>\n",
       "      <td>0.067054</td>\n",
       "      <td>1.000000</td>\n",
       "      <td>-0.086781</td>\n",
       "      <td>0.067054</td>\n",
       "      <td>-0.101494</td>\n",
       "      <td>...</td>\n",
       "      <td>0.001053</td>\n",
       "      <td>-0.021548</td>\n",
       "      <td>0.002594</td>\n",
       "      <td>0.000007</td>\n",
       "      <td>-0.033722</td>\n",
       "      <td>0.055174</td>\n",
       "      <td>-0.038055</td>\n",
       "      <td>0.009970</td>\n",
       "      <td>0.023778</td>\n",
       "      <td>-0.019179</td>\n",
       "    </tr>\n",
       "    <tr>\n",
       "      <th>collegeGPA</th>\n",
       "      <td>0.047144</td>\n",
       "      <td>0.130103</td>\n",
       "      <td>0.312538</td>\n",
       "      <td>0.086001</td>\n",
       "      <td>0.346137</td>\n",
       "      <td>0.017240</td>\n",
       "      <td>-0.086781</td>\n",
       "      <td>1.000000</td>\n",
       "      <td>0.017240</td>\n",
       "      <td>0.017471</td>\n",
       "      <td>...</td>\n",
       "      <td>0.007601</td>\n",
       "      <td>-0.031765</td>\n",
       "      <td>0.052258</td>\n",
       "      <td>-0.005226</td>\n",
       "      <td>-0.018950</td>\n",
       "      <td>0.069582</td>\n",
       "      <td>0.068282</td>\n",
       "      <td>-0.032684</td>\n",
       "      <td>-0.074859</td>\n",
       "      <td>0.028071</td>\n",
       "    </tr>\n",
       "    <tr>\n",
       "      <th>CollegeCityID</th>\n",
       "      <td>0.284540</td>\n",
       "      <td>-0.118690</td>\n",
       "      <td>0.021082</td>\n",
       "      <td>0.254021</td>\n",
       "      <td>0.022336</td>\n",
       "      <td>1.000000</td>\n",
       "      <td>0.067054</td>\n",
       "      <td>0.017240</td>\n",
       "      <td>1.000000</td>\n",
       "      <td>0.007757</td>\n",
       "      <td>...</td>\n",
       "      <td>0.102303</td>\n",
       "      <td>-0.009291</td>\n",
       "      <td>0.022933</td>\n",
       "      <td>0.025620</td>\n",
       "      <td>0.005749</td>\n",
       "      <td>0.076432</td>\n",
       "      <td>-0.005264</td>\n",
       "      <td>0.005917</td>\n",
       "      <td>-0.008973</td>\n",
       "      <td>-0.010678</td>\n",
       "    </tr>\n",
       "    <tr>\n",
       "      <th>CollegeCityTier</th>\n",
       "      <td>-0.035977</td>\n",
       "      <td>0.015384</td>\n",
       "      <td>0.116707</td>\n",
       "      <td>-0.003016</td>\n",
       "      <td>0.130462</td>\n",
       "      <td>0.007757</td>\n",
       "      <td>-0.101494</td>\n",
       "      <td>0.017471</td>\n",
       "      <td>0.007757</td>\n",
       "      <td>1.000000</td>\n",
       "      <td>...</td>\n",
       "      <td>-0.010643</td>\n",
       "      <td>-0.052395</td>\n",
       "      <td>0.010311</td>\n",
       "      <td>0.049876</td>\n",
       "      <td>-0.033392</td>\n",
       "      <td>0.014763</td>\n",
       "      <td>0.005565</td>\n",
       "      <td>-0.008203</td>\n",
       "      <td>0.004442</td>\n",
       "      <td>-0.016790</td>\n",
       "    </tr>\n",
       "    <tr>\n",
       "      <th>GraduationYear</th>\n",
       "      <td>0.027539</td>\n",
       "      <td>-0.010053</td>\n",
       "      <td>-0.013799</td>\n",
       "      <td>0.014457</td>\n",
       "      <td>-0.012933</td>\n",
       "      <td>-0.000172</td>\n",
       "      <td>-0.005557</td>\n",
       "      <td>0.008706</td>\n",
       "      <td>-0.000172</td>\n",
       "      <td>0.008152</td>\n",
       "      <td>...</td>\n",
       "      <td>0.024089</td>\n",
       "      <td>-0.066844</td>\n",
       "      <td>0.008525</td>\n",
       "      <td>0.004226</td>\n",
       "      <td>0.001696</td>\n",
       "      <td>-0.013235</td>\n",
       "      <td>-0.002877</td>\n",
       "      <td>0.008397</td>\n",
       "      <td>-0.000417</td>\n",
       "      <td>0.016855</td>\n",
       "    </tr>\n",
       "    <tr>\n",
       "      <th>English</th>\n",
       "      <td>0.135505</td>\n",
       "      <td>0.178219</td>\n",
       "      <td>0.350780</td>\n",
       "      <td>0.147925</td>\n",
       "      <td>0.212888</td>\n",
       "      <td>-0.022792</td>\n",
       "      <td>-0.183843</td>\n",
       "      <td>0.106478</td>\n",
       "      <td>-0.022792</td>\n",
       "      <td>0.050462</td>\n",
       "      <td>...</td>\n",
       "      <td>0.059500</td>\n",
       "      <td>-0.002477</td>\n",
       "      <td>0.032438</td>\n",
       "      <td>-0.005822</td>\n",
       "      <td>-0.007724</td>\n",
       "      <td>0.034943</td>\n",
       "      <td>0.194990</td>\n",
       "      <td>0.018755</td>\n",
       "      <td>-0.155528</td>\n",
       "      <td>0.067979</td>\n",
       "    </tr>\n",
       "    <tr>\n",
       "      <th>Logical</th>\n",
       "      <td>0.102215</td>\n",
       "      <td>0.179275</td>\n",
       "      <td>0.316014</td>\n",
       "      <td>0.105887</td>\n",
       "      <td>0.243571</td>\n",
       "      <td>-0.047094</td>\n",
       "      <td>-0.182811</td>\n",
       "      <td>0.196610</td>\n",
       "      <td>-0.047094</td>\n",
       "      <td>0.020353</td>\n",
       "      <td>...</td>\n",
       "      <td>0.044481</td>\n",
       "      <td>-0.009861</td>\n",
       "      <td>0.012003</td>\n",
       "      <td>-0.012947</td>\n",
       "      <td>-0.011286</td>\n",
       "      <td>0.025876</td>\n",
       "      <td>0.167207</td>\n",
       "      <td>-0.006949</td>\n",
       "      <td>-0.178781</td>\n",
       "      <td>0.048420</td>\n",
       "    </tr>\n",
       "    <tr>\n",
       "      <th>Quant</th>\n",
       "      <td>-0.055134</td>\n",
       "      <td>0.230627</td>\n",
       "      <td>0.317640</td>\n",
       "      <td>0.001379</td>\n",
       "      <td>0.312413</td>\n",
       "      <td>-0.114672</td>\n",
       "      <td>-0.251103</td>\n",
       "      <td>0.217380</td>\n",
       "      <td>-0.114672</td>\n",
       "      <td>0.007896</td>\n",
       "      <td>...</td>\n",
       "      <td>-0.043379</td>\n",
       "      <td>0.019933</td>\n",
       "      <td>0.020975</td>\n",
       "      <td>0.021387</td>\n",
       "      <td>0.000528</td>\n",
       "      <td>-0.005639</td>\n",
       "      <td>0.103443</td>\n",
       "      <td>-0.028616</td>\n",
       "      <td>-0.131895</td>\n",
       "      <td>0.020377</td>\n",
       "    </tr>\n",
       "    <tr>\n",
       "      <th>Domain</th>\n",
       "      <td>-0.125639</td>\n",
       "      <td>0.104656</td>\n",
       "      <td>0.078563</td>\n",
       "      <td>-0.034163</td>\n",
       "      <td>0.074099</td>\n",
       "      <td>-0.073857</td>\n",
       "      <td>-0.061436</td>\n",
       "      <td>0.107252</td>\n",
       "      <td>-0.073857</td>\n",
       "      <td>0.009250</td>\n",
       "      <td>...</td>\n",
       "      <td>0.058762</td>\n",
       "      <td>0.048472</td>\n",
       "      <td>0.042875</td>\n",
       "      <td>0.024442</td>\n",
       "      <td>0.017569</td>\n",
       "      <td>-0.039478</td>\n",
       "      <td>0.051944</td>\n",
       "      <td>-0.024647</td>\n",
       "      <td>-0.017928</td>\n",
       "      <td>0.010412</td>\n",
       "    </tr>\n",
       "    <tr>\n",
       "      <th>ComputerProgramming</th>\n",
       "      <td>0.018859</td>\n",
       "      <td>0.115665</td>\n",
       "      <td>0.053600</td>\n",
       "      <td>-0.047995</td>\n",
       "      <td>0.080818</td>\n",
       "      <td>-0.033760</td>\n",
       "      <td>-0.073644</td>\n",
       "      <td>0.136596</td>\n",
       "      <td>-0.033760</td>\n",
       "      <td>0.064272</td>\n",
       "      <td>...</td>\n",
       "      <td>0.253039</td>\n",
       "      <td>-0.284891</td>\n",
       "      <td>-0.138224</td>\n",
       "      <td>-0.248269</td>\n",
       "      <td>-0.088249</td>\n",
       "      <td>0.012862</td>\n",
       "      <td>0.076934</td>\n",
       "      <td>0.043504</td>\n",
       "      <td>-0.084344</td>\n",
       "      <td>0.043133</td>\n",
       "    </tr>\n",
       "    <tr>\n",
       "      <th>ElectronicsAndSemicon</th>\n",
       "      <td>-0.115601</td>\n",
       "      <td>0.000665</td>\n",
       "      <td>0.085179</td>\n",
       "      <td>-0.005891</td>\n",
       "      <td>0.117112</td>\n",
       "      <td>-0.020438</td>\n",
       "      <td>-0.031573</td>\n",
       "      <td>0.029855</td>\n",
       "      <td>-0.020438</td>\n",
       "      <td>0.041083</td>\n",
       "      <td>...</td>\n",
       "      <td>-0.273707</td>\n",
       "      <td>-0.109434</td>\n",
       "      <td>0.036968</td>\n",
       "      <td>0.387140</td>\n",
       "      <td>0.002863</td>\n",
       "      <td>-0.026483</td>\n",
       "      <td>-0.024286</td>\n",
       "      <td>-0.044458</td>\n",
       "      <td>0.021026</td>\n",
       "      <td>-0.013460</td>\n",
       "    </tr>\n",
       "    <tr>\n",
       "      <th>ComputerScience</th>\n",
       "      <td>0.482626</td>\n",
       "      <td>-0.100720</td>\n",
       "      <td>-0.018933</td>\n",
       "      <td>0.293439</td>\n",
       "      <td>-0.043534</td>\n",
       "      <td>0.102303</td>\n",
       "      <td>0.001053</td>\n",
       "      <td>0.007601</td>\n",
       "      <td>0.102303</td>\n",
       "      <td>-0.010643</td>\n",
       "      <td>...</td>\n",
       "      <td>1.000000</td>\n",
       "      <td>-0.124355</td>\n",
       "      <td>-0.083798</td>\n",
       "      <td>-0.148095</td>\n",
       "      <td>-0.052613</td>\n",
       "      <td>0.090155</td>\n",
       "      <td>0.039866</td>\n",
       "      <td>0.102153</td>\n",
       "      <td>-0.112652</td>\n",
       "      <td>0.058039</td>\n",
       "    </tr>\n",
       "    <tr>\n",
       "      <th>MechanicalEngg</th>\n",
       "      <td>-0.026147</td>\n",
       "      <td>0.018475</td>\n",
       "      <td>0.050364</td>\n",
       "      <td>0.035459</td>\n",
       "      <td>0.037635</td>\n",
       "      <td>-0.009291</td>\n",
       "      <td>-0.021548</td>\n",
       "      <td>-0.031765</td>\n",
       "      <td>-0.009291</td>\n",
       "      <td>-0.052395</td>\n",
       "      <td>...</td>\n",
       "      <td>-0.124355</td>\n",
       "      <td>1.000000</td>\n",
       "      <td>-0.040522</td>\n",
       "      <td>-0.070947</td>\n",
       "      <td>0.076201</td>\n",
       "      <td>-0.010858</td>\n",
       "      <td>-0.028586</td>\n",
       "      <td>-0.017748</td>\n",
       "      <td>0.036148</td>\n",
       "      <td>-0.027988</td>\n",
       "    </tr>\n",
       "    <tr>\n",
       "      <th>ElectricalEngg</th>\n",
       "      <td>0.104454</td>\n",
       "      <td>-0.047598</td>\n",
       "      <td>0.074419</td>\n",
       "      <td>0.123751</td>\n",
       "      <td>0.064001</td>\n",
       "      <td>0.022933</td>\n",
       "      <td>0.002594</td>\n",
       "      <td>0.052258</td>\n",
       "      <td>0.022933</td>\n",
       "      <td>0.010311</td>\n",
       "      <td>...</td>\n",
       "      <td>-0.083798</td>\n",
       "      <td>-0.040522</td>\n",
       "      <td>1.000000</td>\n",
       "      <td>-0.051469</td>\n",
       "      <td>-0.020059</td>\n",
       "      <td>0.029806</td>\n",
       "      <td>-0.015454</td>\n",
       "      <td>0.004467</td>\n",
       "      <td>-0.030870</td>\n",
       "      <td>-0.012585</td>\n",
       "    </tr>\n",
       "    <tr>\n",
       "      <th>TelecomEngg</th>\n",
       "      <td>-0.049272</td>\n",
       "      <td>-0.022691</td>\n",
       "      <td>0.049378</td>\n",
       "      <td>0.023470</td>\n",
       "      <td>0.044201</td>\n",
       "      <td>0.025620</td>\n",
       "      <td>0.000007</td>\n",
       "      <td>-0.005226</td>\n",
       "      <td>0.025620</td>\n",
       "      <td>0.049876</td>\n",
       "      <td>...</td>\n",
       "      <td>-0.148095</td>\n",
       "      <td>-0.070947</td>\n",
       "      <td>-0.051469</td>\n",
       "      <td>1.000000</td>\n",
       "      <td>-0.031492</td>\n",
       "      <td>-0.004946</td>\n",
       "      <td>-0.014627</td>\n",
       "      <td>-0.039050</td>\n",
       "      <td>0.020638</td>\n",
       "      <td>-0.000141</td>\n",
       "    </tr>\n",
       "    <tr>\n",
       "      <th>CivilEngg</th>\n",
       "      <td>-0.017871</td>\n",
       "      <td>0.037639</td>\n",
       "      <td>0.030002</td>\n",
       "      <td>-0.004727</td>\n",
       "      <td>0.005910</td>\n",
       "      <td>0.005749</td>\n",
       "      <td>-0.033722</td>\n",
       "      <td>-0.018950</td>\n",
       "      <td>0.005749</td>\n",
       "      <td>-0.033392</td>\n",
       "      <td>...</td>\n",
       "      <td>-0.052613</td>\n",
       "      <td>0.076201</td>\n",
       "      <td>-0.020059</td>\n",
       "      <td>-0.031492</td>\n",
       "      <td>1.000000</td>\n",
       "      <td>-0.017526</td>\n",
       "      <td>-0.034254</td>\n",
       "      <td>-0.031822</td>\n",
       "      <td>0.010555</td>\n",
       "      <td>-0.031201</td>\n",
       "    </tr>\n",
       "    <tr>\n",
       "      <th>conscientiousness</th>\n",
       "      <td>0.175557</td>\n",
       "      <td>-0.064148</td>\n",
       "      <td>0.067657</td>\n",
       "      <td>0.103329</td>\n",
       "      <td>0.058299</td>\n",
       "      <td>0.076432</td>\n",
       "      <td>0.055174</td>\n",
       "      <td>0.069582</td>\n",
       "      <td>0.076432</td>\n",
       "      <td>0.014763</td>\n",
       "      <td>...</td>\n",
       "      <td>0.090155</td>\n",
       "      <td>-0.010858</td>\n",
       "      <td>0.029806</td>\n",
       "      <td>-0.004946</td>\n",
       "      <td>-0.017526</td>\n",
       "      <td>1.000000</td>\n",
       "      <td>0.481820</td>\n",
       "      <td>0.355537</td>\n",
       "      <td>-0.330312</td>\n",
       "      <td>0.395649</td>\n",
       "    </tr>\n",
       "    <tr>\n",
       "      <th>agreeableness</th>\n",
       "      <td>0.024837</td>\n",
       "      <td>0.057423</td>\n",
       "      <td>0.136645</td>\n",
       "      <td>0.041182</td>\n",
       "      <td>0.103998</td>\n",
       "      <td>-0.005264</td>\n",
       "      <td>-0.038055</td>\n",
       "      <td>0.068282</td>\n",
       "      <td>-0.005264</td>\n",
       "      <td>0.005565</td>\n",
       "      <td>...</td>\n",
       "      <td>0.039866</td>\n",
       "      <td>-0.028586</td>\n",
       "      <td>-0.015454</td>\n",
       "      <td>-0.014627</td>\n",
       "      <td>-0.034254</td>\n",
       "      <td>0.481820</td>\n",
       "      <td>1.000000</td>\n",
       "      <td>0.454369</td>\n",
       "      <td>-0.207480</td>\n",
       "      <td>0.591541</td>\n",
       "    </tr>\n",
       "    <tr>\n",
       "      <th>extraversion</th>\n",
       "      <td>0.120979</td>\n",
       "      <td>-0.010213</td>\n",
       "      <td>-0.004679</td>\n",
       "      <td>0.061956</td>\n",
       "      <td>-0.007486</td>\n",
       "      <td>0.005917</td>\n",
       "      <td>0.009970</td>\n",
       "      <td>-0.032684</td>\n",
       "      <td>0.005917</td>\n",
       "      <td>-0.008203</td>\n",
       "      <td>...</td>\n",
       "      <td>0.102153</td>\n",
       "      <td>-0.017748</td>\n",
       "      <td>0.004467</td>\n",
       "      <td>-0.039050</td>\n",
       "      <td>-0.031822</td>\n",
       "      <td>0.355537</td>\n",
       "      <td>0.454369</td>\n",
       "      <td>1.000000</td>\n",
       "      <td>-0.096491</td>\n",
       "      <td>0.435074</td>\n",
       "    </tr>\n",
       "    <tr>\n",
       "      <th>nueroticism</th>\n",
       "      <td>-0.146289</td>\n",
       "      <td>-0.054685</td>\n",
       "      <td>-0.132496</td>\n",
       "      <td>-0.074369</td>\n",
       "      <td>-0.094369</td>\n",
       "      <td>-0.008973</td>\n",
       "      <td>0.023778</td>\n",
       "      <td>-0.074859</td>\n",
       "      <td>-0.008973</td>\n",
       "      <td>0.004442</td>\n",
       "      <td>...</td>\n",
       "      <td>-0.112652</td>\n",
       "      <td>0.036148</td>\n",
       "      <td>-0.030870</td>\n",
       "      <td>0.020638</td>\n",
       "      <td>0.010555</td>\n",
       "      <td>-0.330312</td>\n",
       "      <td>-0.207480</td>\n",
       "      <td>-0.096491</td>\n",
       "      <td>1.000000</td>\n",
       "      <td>-0.065795</td>\n",
       "    </tr>\n",
       "    <tr>\n",
       "      <th>openess_to_experience</th>\n",
       "      <td>0.031359</td>\n",
       "      <td>-0.011312</td>\n",
       "      <td>0.036692</td>\n",
       "      <td>-0.015069</td>\n",
       "      <td>0.006332</td>\n",
       "      <td>-0.010678</td>\n",
       "      <td>-0.019179</td>\n",
       "      <td>0.028071</td>\n",
       "      <td>-0.010678</td>\n",
       "      <td>-0.016790</td>\n",
       "      <td>...</td>\n",
       "      <td>0.058039</td>\n",
       "      <td>-0.027988</td>\n",
       "      <td>-0.012585</td>\n",
       "      <td>-0.000141</td>\n",
       "      <td>-0.031201</td>\n",
       "      <td>0.395649</td>\n",
       "      <td>0.591541</td>\n",
       "      <td>0.435074</td>\n",
       "      <td>-0.065795</td>\n",
       "      <td>1.000000</td>\n",
       "    </tr>\n",
       "  </tbody>\n",
       "</table>\n",
       "<p>27 rows × 27 columns</p>\n",
       "</div>"
      ],
      "text/plain": [
       "                             ID    Salary  10percentage  12graduation  \\\n",
       "ID                     1.000000 -0.247294      0.044547      0.673102   \n",
       "Salary                -0.247294  1.000000      0.177373     -0.161383   \n",
       "10percentage           0.044547  0.177373      1.000000      0.269957   \n",
       "12graduation           0.673102 -0.161383      0.269957      1.000000   \n",
       "12percentage           0.007069  0.170254      0.643378      0.259166   \n",
       "CollegeID              0.284540 -0.118690      0.021082      0.254021   \n",
       "CollegeTier            0.035160 -0.179332     -0.126042      0.027691   \n",
       "collegeGPA             0.047144  0.130103      0.312538      0.086001   \n",
       "CollegeCityID          0.284540 -0.118690      0.021082      0.254021   \n",
       "CollegeCityTier       -0.035977  0.015384      0.116707     -0.003016   \n",
       "GraduationYear         0.027539 -0.010053     -0.013799      0.014457   \n",
       "English                0.135505  0.178219      0.350780      0.147925   \n",
       "Logical                0.102215  0.179275      0.316014      0.105887   \n",
       "Quant                 -0.055134  0.230627      0.317640      0.001379   \n",
       "Domain                -0.125639  0.104656      0.078563     -0.034163   \n",
       "ComputerProgramming    0.018859  0.115665      0.053600     -0.047995   \n",
       "ElectronicsAndSemicon -0.115601  0.000665      0.085179     -0.005891   \n",
       "ComputerScience        0.482626 -0.100720     -0.018933      0.293439   \n",
       "MechanicalEngg        -0.026147  0.018475      0.050364      0.035459   \n",
       "ElectricalEngg         0.104454 -0.047598      0.074419      0.123751   \n",
       "TelecomEngg           -0.049272 -0.022691      0.049378      0.023470   \n",
       "CivilEngg             -0.017871  0.037639      0.030002     -0.004727   \n",
       "conscientiousness      0.175557 -0.064148      0.067657      0.103329   \n",
       "agreeableness          0.024837  0.057423      0.136645      0.041182   \n",
       "extraversion           0.120979 -0.010213     -0.004679      0.061956   \n",
       "nueroticism           -0.146289 -0.054685     -0.132496     -0.074369   \n",
       "openess_to_experience  0.031359 -0.011312      0.036692     -0.015069   \n",
       "\n",
       "                       12percentage  CollegeID  CollegeTier  collegeGPA  \\\n",
       "ID                         0.007069   0.284540     0.035160    0.047144   \n",
       "Salary                     0.170254  -0.118690    -0.179332    0.130103   \n",
       "10percentage               0.643378   0.021082    -0.126042    0.312538   \n",
       "12graduation               0.259166   0.254021     0.027691    0.086001   \n",
       "12percentage               1.000000   0.022336    -0.100771    0.346137   \n",
       "CollegeID                  0.022336   1.000000     0.067054    0.017240   \n",
       "CollegeTier               -0.100771   0.067054     1.000000   -0.086781   \n",
       "collegeGPA                 0.346137   0.017240    -0.086781    1.000000   \n",
       "CollegeCityID              0.022336   1.000000     0.067054    0.017240   \n",
       "CollegeCityTier            0.130462   0.007757    -0.101494    0.017471   \n",
       "GraduationYear            -0.012933  -0.000172    -0.005557    0.008706   \n",
       "English                    0.212888  -0.022792    -0.183843    0.106478   \n",
       "Logical                    0.243571  -0.047094    -0.182811    0.196610   \n",
       "Quant                      0.312413  -0.114672    -0.251103    0.217380   \n",
       "Domain                     0.074099  -0.073857    -0.061436    0.107252   \n",
       "ComputerProgramming        0.080818  -0.033760    -0.073644    0.136596   \n",
       "ElectronicsAndSemicon      0.117112  -0.020438    -0.031573    0.029855   \n",
       "ComputerScience           -0.043534   0.102303     0.001053    0.007601   \n",
       "MechanicalEngg             0.037635  -0.009291    -0.021548   -0.031765   \n",
       "ElectricalEngg             0.064001   0.022933     0.002594    0.052258   \n",
       "TelecomEngg                0.044201   0.025620     0.000007   -0.005226   \n",
       "CivilEngg                  0.005910   0.005749    -0.033722   -0.018950   \n",
       "conscientiousness          0.058299   0.076432     0.055174    0.069582   \n",
       "agreeableness              0.103998  -0.005264    -0.038055    0.068282   \n",
       "extraversion              -0.007486   0.005917     0.009970   -0.032684   \n",
       "nueroticism               -0.094369  -0.008973     0.023778   -0.074859   \n",
       "openess_to_experience      0.006332  -0.010678    -0.019179    0.028071   \n",
       "\n",
       "                       CollegeCityID  CollegeCityTier  ...  ComputerScience  \\\n",
       "ID                          0.284540        -0.035977  ...         0.482626   \n",
       "Salary                     -0.118690         0.015384  ...        -0.100720   \n",
       "10percentage                0.021082         0.116707  ...        -0.018933   \n",
       "12graduation                0.254021        -0.003016  ...         0.293439   \n",
       "12percentage                0.022336         0.130462  ...        -0.043534   \n",
       "CollegeID                   1.000000         0.007757  ...         0.102303   \n",
       "CollegeTier                 0.067054        -0.101494  ...         0.001053   \n",
       "collegeGPA                  0.017240         0.017471  ...         0.007601   \n",
       "CollegeCityID               1.000000         0.007757  ...         0.102303   \n",
       "CollegeCityTier             0.007757         1.000000  ...        -0.010643   \n",
       "GraduationYear             -0.000172         0.008152  ...         0.024089   \n",
       "English                    -0.022792         0.050462  ...         0.059500   \n",
       "Logical                    -0.047094         0.020353  ...         0.044481   \n",
       "Quant                      -0.114672         0.007896  ...        -0.043379   \n",
       "Domain                     -0.073857         0.009250  ...         0.058762   \n",
       "ComputerProgramming        -0.033760         0.064272  ...         0.253039   \n",
       "ElectronicsAndSemicon      -0.020438         0.041083  ...        -0.273707   \n",
       "ComputerScience             0.102303        -0.010643  ...         1.000000   \n",
       "MechanicalEngg             -0.009291        -0.052395  ...        -0.124355   \n",
       "ElectricalEngg              0.022933         0.010311  ...        -0.083798   \n",
       "TelecomEngg                 0.025620         0.049876  ...        -0.148095   \n",
       "CivilEngg                   0.005749        -0.033392  ...        -0.052613   \n",
       "conscientiousness           0.076432         0.014763  ...         0.090155   \n",
       "agreeableness              -0.005264         0.005565  ...         0.039866   \n",
       "extraversion                0.005917        -0.008203  ...         0.102153   \n",
       "nueroticism                -0.008973         0.004442  ...        -0.112652   \n",
       "openess_to_experience      -0.010678        -0.016790  ...         0.058039   \n",
       "\n",
       "                       MechanicalEngg  ElectricalEngg  TelecomEngg  CivilEngg  \\\n",
       "ID                          -0.026147        0.104454    -0.049272  -0.017871   \n",
       "Salary                       0.018475       -0.047598    -0.022691   0.037639   \n",
       "10percentage                 0.050364        0.074419     0.049378   0.030002   \n",
       "12graduation                 0.035459        0.123751     0.023470  -0.004727   \n",
       "12percentage                 0.037635        0.064001     0.044201   0.005910   \n",
       "CollegeID                   -0.009291        0.022933     0.025620   0.005749   \n",
       "CollegeTier                 -0.021548        0.002594     0.000007  -0.033722   \n",
       "collegeGPA                  -0.031765        0.052258    -0.005226  -0.018950   \n",
       "CollegeCityID               -0.009291        0.022933     0.025620   0.005749   \n",
       "CollegeCityTier             -0.052395        0.010311     0.049876  -0.033392   \n",
       "GraduationYear              -0.066844        0.008525     0.004226   0.001696   \n",
       "English                     -0.002477        0.032438    -0.005822  -0.007724   \n",
       "Logical                     -0.009861        0.012003    -0.012947  -0.011286   \n",
       "Quant                        0.019933        0.020975     0.021387   0.000528   \n",
       "Domain                       0.048472        0.042875     0.024442   0.017569   \n",
       "ComputerProgramming         -0.284891       -0.138224    -0.248269  -0.088249   \n",
       "ElectronicsAndSemicon       -0.109434        0.036968     0.387140   0.002863   \n",
       "ComputerScience             -0.124355       -0.083798    -0.148095  -0.052613   \n",
       "MechanicalEngg               1.000000       -0.040522    -0.070947   0.076201   \n",
       "ElectricalEngg              -0.040522        1.000000    -0.051469  -0.020059   \n",
       "TelecomEngg                 -0.070947       -0.051469     1.000000  -0.031492   \n",
       "CivilEngg                    0.076201       -0.020059    -0.031492   1.000000   \n",
       "conscientiousness           -0.010858        0.029806    -0.004946  -0.017526   \n",
       "agreeableness               -0.028586       -0.015454    -0.014627  -0.034254   \n",
       "extraversion                -0.017748        0.004467    -0.039050  -0.031822   \n",
       "nueroticism                  0.036148       -0.030870     0.020638   0.010555   \n",
       "openess_to_experience       -0.027988       -0.012585    -0.000141  -0.031201   \n",
       "\n",
       "                       conscientiousness  agreeableness  extraversion  \\\n",
       "ID                              0.175557       0.024837      0.120979   \n",
       "Salary                         -0.064148       0.057423     -0.010213   \n",
       "10percentage                    0.067657       0.136645     -0.004679   \n",
       "12graduation                    0.103329       0.041182      0.061956   \n",
       "12percentage                    0.058299       0.103998     -0.007486   \n",
       "CollegeID                       0.076432      -0.005264      0.005917   \n",
       "CollegeTier                     0.055174      -0.038055      0.009970   \n",
       "collegeGPA                      0.069582       0.068282     -0.032684   \n",
       "CollegeCityID                   0.076432      -0.005264      0.005917   \n",
       "CollegeCityTier                 0.014763       0.005565     -0.008203   \n",
       "GraduationYear                 -0.013235      -0.002877      0.008397   \n",
       "English                         0.034943       0.194990      0.018755   \n",
       "Logical                         0.025876       0.167207     -0.006949   \n",
       "Quant                          -0.005639       0.103443     -0.028616   \n",
       "Domain                         -0.039478       0.051944     -0.024647   \n",
       "ComputerProgramming             0.012862       0.076934      0.043504   \n",
       "ElectronicsAndSemicon          -0.026483      -0.024286     -0.044458   \n",
       "ComputerScience                 0.090155       0.039866      0.102153   \n",
       "MechanicalEngg                 -0.010858      -0.028586     -0.017748   \n",
       "ElectricalEngg                  0.029806      -0.015454      0.004467   \n",
       "TelecomEngg                    -0.004946      -0.014627     -0.039050   \n",
       "CivilEngg                      -0.017526      -0.034254     -0.031822   \n",
       "conscientiousness               1.000000       0.481820      0.355537   \n",
       "agreeableness                   0.481820       1.000000      0.454369   \n",
       "extraversion                    0.355537       0.454369      1.000000   \n",
       "nueroticism                    -0.330312      -0.207480     -0.096491   \n",
       "openess_to_experience           0.395649       0.591541      0.435074   \n",
       "\n",
       "                       nueroticism  openess_to_experience  \n",
       "ID                       -0.146289               0.031359  \n",
       "Salary                   -0.054685              -0.011312  \n",
       "10percentage             -0.132496               0.036692  \n",
       "12graduation             -0.074369              -0.015069  \n",
       "12percentage             -0.094369               0.006332  \n",
       "CollegeID                -0.008973              -0.010678  \n",
       "CollegeTier               0.023778              -0.019179  \n",
       "collegeGPA               -0.074859               0.028071  \n",
       "CollegeCityID            -0.008973              -0.010678  \n",
       "CollegeCityTier           0.004442              -0.016790  \n",
       "GraduationYear           -0.000417               0.016855  \n",
       "English                  -0.155528               0.067979  \n",
       "Logical                  -0.178781               0.048420  \n",
       "Quant                    -0.131895               0.020377  \n",
       "Domain                   -0.017928               0.010412  \n",
       "ComputerProgramming      -0.084344               0.043133  \n",
       "ElectronicsAndSemicon     0.021026              -0.013460  \n",
       "ComputerScience          -0.112652               0.058039  \n",
       "MechanicalEngg            0.036148              -0.027988  \n",
       "ElectricalEngg           -0.030870              -0.012585  \n",
       "TelecomEngg               0.020638              -0.000141  \n",
       "CivilEngg                 0.010555              -0.031201  \n",
       "conscientiousness        -0.330312               0.395649  \n",
       "agreeableness            -0.207480               0.591541  \n",
       "extraversion             -0.096491               0.435074  \n",
       "nueroticism               1.000000              -0.065795  \n",
       "openess_to_experience    -0.065795               1.000000  \n",
       "\n",
       "[27 rows x 27 columns]"
      ]
     },
     "execution_count": 186,
     "metadata": {},
     "output_type": "execute_result"
    }
   ],
   "source": [
    "correlation_matrix=df.corr()\n",
    "correlation_matrix"
   ]
  },
  {
   "cell_type": "code",
   "execution_count": 189,
   "metadata": {},
   "outputs": [
    {
     "data": {
      "text/html": [
       "<div>\n",
       "<style scoped>\n",
       "    .dataframe tbody tr th:only-of-type {\n",
       "        vertical-align: middle;\n",
       "    }\n",
       "\n",
       "    .dataframe tbody tr th {\n",
       "        vertical-align: top;\n",
       "    }\n",
       "\n",
       "    .dataframe thead th {\n",
       "        text-align: right;\n",
       "    }\n",
       "</style>\n",
       "<table border=\"1\" class=\"dataframe\">\n",
       "  <thead>\n",
       "    <tr style=\"text-align: right;\">\n",
       "      <th>Gender</th>\n",
       "      <th>f</th>\n",
       "      <th>m</th>\n",
       "    </tr>\n",
       "    <tr>\n",
       "      <th>Specialization</th>\n",
       "      <th></th>\n",
       "      <th></th>\n",
       "    </tr>\n",
       "  </thead>\n",
       "  <tbody>\n",
       "    <tr>\n",
       "      <th>aeronautical engineering</th>\n",
       "      <td>1</td>\n",
       "      <td>2</td>\n",
       "    </tr>\n",
       "    <tr>\n",
       "      <th>applied electronics and instrumentation</th>\n",
       "      <td>2</td>\n",
       "      <td>7</td>\n",
       "    </tr>\n",
       "    <tr>\n",
       "      <th>automobile/automotive engineering</th>\n",
       "      <td>0</td>\n",
       "      <td>5</td>\n",
       "    </tr>\n",
       "    <tr>\n",
       "      <th>biomedical engineering</th>\n",
       "      <td>2</td>\n",
       "      <td>0</td>\n",
       "    </tr>\n",
       "    <tr>\n",
       "      <th>biotechnology</th>\n",
       "      <td>9</td>\n",
       "      <td>6</td>\n",
       "    </tr>\n",
       "    <tr>\n",
       "      <th>ceramic engineering</th>\n",
       "      <td>0</td>\n",
       "      <td>1</td>\n",
       "    </tr>\n",
       "    <tr>\n",
       "      <th>chemical engineering</th>\n",
       "      <td>1</td>\n",
       "      <td>8</td>\n",
       "    </tr>\n",
       "    <tr>\n",
       "      <th>civil engineering</th>\n",
       "      <td>6</td>\n",
       "      <td>23</td>\n",
       "    </tr>\n",
       "    <tr>\n",
       "      <th>computer and communication engineering</th>\n",
       "      <td>0</td>\n",
       "      <td>1</td>\n",
       "    </tr>\n",
       "    <tr>\n",
       "      <th>computer application</th>\n",
       "      <td>59</td>\n",
       "      <td>185</td>\n",
       "    </tr>\n",
       "    <tr>\n",
       "      <th>computer engineering</th>\n",
       "      <td>175</td>\n",
       "      <td>425</td>\n",
       "    </tr>\n",
       "    <tr>\n",
       "      <th>computer networking</th>\n",
       "      <td>0</td>\n",
       "      <td>1</td>\n",
       "    </tr>\n",
       "    <tr>\n",
       "      <th>computer science</th>\n",
       "      <td>1</td>\n",
       "      <td>1</td>\n",
       "    </tr>\n",
       "    <tr>\n",
       "      <th>computer science &amp; engineering</th>\n",
       "      <td>183</td>\n",
       "      <td>561</td>\n",
       "    </tr>\n",
       "    <tr>\n",
       "      <th>computer science and technology</th>\n",
       "      <td>2</td>\n",
       "      <td>4</td>\n",
       "    </tr>\n",
       "    <tr>\n",
       "      <th>control and instrumentation engineering</th>\n",
       "      <td>0</td>\n",
       "      <td>1</td>\n",
       "    </tr>\n",
       "    <tr>\n",
       "      <th>electrical and power engineering</th>\n",
       "      <td>0</td>\n",
       "      <td>2</td>\n",
       "    </tr>\n",
       "    <tr>\n",
       "      <th>electrical engineering</th>\n",
       "      <td>17</td>\n",
       "      <td>65</td>\n",
       "    </tr>\n",
       "    <tr>\n",
       "      <th>electronics</th>\n",
       "      <td>0</td>\n",
       "      <td>1</td>\n",
       "    </tr>\n",
       "    <tr>\n",
       "      <th>electronics &amp; instrumentation eng</th>\n",
       "      <td>10</td>\n",
       "      <td>22</td>\n",
       "    </tr>\n",
       "    <tr>\n",
       "      <th>electronics &amp; telecommunications</th>\n",
       "      <td>28</td>\n",
       "      <td>93</td>\n",
       "    </tr>\n",
       "    <tr>\n",
       "      <th>electronics and communication engineering</th>\n",
       "      <td>212</td>\n",
       "      <td>668</td>\n",
       "    </tr>\n",
       "    <tr>\n",
       "      <th>electronics and computer engineering</th>\n",
       "      <td>0</td>\n",
       "      <td>3</td>\n",
       "    </tr>\n",
       "    <tr>\n",
       "      <th>electronics and electrical engineering</th>\n",
       "      <td>34</td>\n",
       "      <td>162</td>\n",
       "    </tr>\n",
       "    <tr>\n",
       "      <th>electronics and instrumentation engineering</th>\n",
       "      <td>5</td>\n",
       "      <td>22</td>\n",
       "    </tr>\n",
       "    <tr>\n",
       "      <th>electronics engineering</th>\n",
       "      <td>3</td>\n",
       "      <td>16</td>\n",
       "    </tr>\n",
       "    <tr>\n",
       "      <th>embedded systems technology</th>\n",
       "      <td>0</td>\n",
       "      <td>1</td>\n",
       "    </tr>\n",
       "    <tr>\n",
       "      <th>industrial &amp; management engineering</th>\n",
       "      <td>0</td>\n",
       "      <td>1</td>\n",
       "    </tr>\n",
       "    <tr>\n",
       "      <th>industrial &amp; production engineering</th>\n",
       "      <td>2</td>\n",
       "      <td>8</td>\n",
       "    </tr>\n",
       "    <tr>\n",
       "      <th>industrial engineering</th>\n",
       "      <td>1</td>\n",
       "      <td>1</td>\n",
       "    </tr>\n",
       "    <tr>\n",
       "      <th>information &amp; communication technology</th>\n",
       "      <td>2</td>\n",
       "      <td>0</td>\n",
       "    </tr>\n",
       "    <tr>\n",
       "      <th>information science</th>\n",
       "      <td>0</td>\n",
       "      <td>1</td>\n",
       "    </tr>\n",
       "    <tr>\n",
       "      <th>information science engineering</th>\n",
       "      <td>8</td>\n",
       "      <td>19</td>\n",
       "    </tr>\n",
       "    <tr>\n",
       "      <th>information technology</th>\n",
       "      <td>173</td>\n",
       "      <td>487</td>\n",
       "    </tr>\n",
       "    <tr>\n",
       "      <th>instrumentation and control engineering</th>\n",
       "      <td>9</td>\n",
       "      <td>11</td>\n",
       "    </tr>\n",
       "    <tr>\n",
       "      <th>instrumentation engineering</th>\n",
       "      <td>0</td>\n",
       "      <td>4</td>\n",
       "    </tr>\n",
       "    <tr>\n",
       "      <th>internal combustion engine</th>\n",
       "      <td>0</td>\n",
       "      <td>1</td>\n",
       "    </tr>\n",
       "    <tr>\n",
       "      <th>mechanical &amp; production engineering</th>\n",
       "      <td>0</td>\n",
       "      <td>1</td>\n",
       "    </tr>\n",
       "    <tr>\n",
       "      <th>mechanical and automation</th>\n",
       "      <td>0</td>\n",
       "      <td>5</td>\n",
       "    </tr>\n",
       "    <tr>\n",
       "      <th>mechanical engineering</th>\n",
       "      <td>10</td>\n",
       "      <td>191</td>\n",
       "    </tr>\n",
       "    <tr>\n",
       "      <th>mechatronics</th>\n",
       "      <td>1</td>\n",
       "      <td>3</td>\n",
       "    </tr>\n",
       "    <tr>\n",
       "      <th>metallurgical engineering</th>\n",
       "      <td>0</td>\n",
       "      <td>2</td>\n",
       "    </tr>\n",
       "    <tr>\n",
       "      <th>other</th>\n",
       "      <td>0</td>\n",
       "      <td>13</td>\n",
       "    </tr>\n",
       "    <tr>\n",
       "      <th>polymer technology</th>\n",
       "      <td>0</td>\n",
       "      <td>1</td>\n",
       "    </tr>\n",
       "    <tr>\n",
       "      <th>power systems and automation</th>\n",
       "      <td>0</td>\n",
       "      <td>1</td>\n",
       "    </tr>\n",
       "    <tr>\n",
       "      <th>telecommunication engineering</th>\n",
       "      <td>1</td>\n",
       "      <td>5</td>\n",
       "    </tr>\n",
       "  </tbody>\n",
       "</table>\n",
       "</div>"
      ],
      "text/plain": [
       "Gender                                         f    m\n",
       "Specialization                                       \n",
       "aeronautical engineering                       1    2\n",
       "applied electronics and instrumentation        2    7\n",
       "automobile/automotive engineering              0    5\n",
       "biomedical engineering                         2    0\n",
       "biotechnology                                  9    6\n",
       "ceramic engineering                            0    1\n",
       "chemical engineering                           1    8\n",
       "civil engineering                              6   23\n",
       "computer and communication engineering         0    1\n",
       "computer application                          59  185\n",
       "computer engineering                         175  425\n",
       "computer networking                            0    1\n",
       "computer science                               1    1\n",
       "computer science & engineering               183  561\n",
       "computer science and technology                2    4\n",
       "control and instrumentation engineering        0    1\n",
       "electrical and power engineering               0    2\n",
       "electrical engineering                        17   65\n",
       "electronics                                    0    1\n",
       "electronics & instrumentation eng             10   22\n",
       "electronics & telecommunications              28   93\n",
       "electronics and communication engineering    212  668\n",
       "electronics and computer engineering           0    3\n",
       "electronics and electrical engineering        34  162\n",
       "electronics and instrumentation engineering    5   22\n",
       "electronics engineering                        3   16\n",
       "embedded systems technology                    0    1\n",
       "industrial & management engineering            0    1\n",
       "industrial & production engineering            2    8\n",
       "industrial engineering                         1    1\n",
       "information & communication technology         2    0\n",
       "information science                            0    1\n",
       "information science engineering                8   19\n",
       "information technology                       173  487\n",
       "instrumentation and control engineering        9   11\n",
       "instrumentation engineering                    0    4\n",
       "internal combustion engine                     0    1\n",
       "mechanical & production engineering            0    1\n",
       "mechanical and automation                      0    5\n",
       "mechanical engineering                        10  191\n",
       "mechatronics                                   1    3\n",
       "metallurgical engineering                      0    2\n",
       "other                                          0   13\n",
       "polymer technology                             0    1\n",
       "power systems and automation                   0    1\n",
       "telecommunication engineering                  1    5"
      ]
     },
     "execution_count": 189,
     "metadata": {},
     "output_type": "execute_result"
    }
   ],
   "source": [
    "a=pd.crosstab(index=df['Specialization'],columns=df['Gender'])\n",
    "a"
   ]
  },
  {
   "cell_type": "markdown",
   "metadata": {},
   "source": [
    "Here we will do test on Gender and Specialization.      \n",
    "Both these features are categorical and for that we need to use Chi-Square test.    \n",
    "H0 = two columns have no correlation    \n",
    "H1 = two columns ha correlation\n",
    "We should check for Probability of H0 being true"
   ]
  },
  {
   "cell_type": "code",
   "execution_count": 190,
   "metadata": {},
   "outputs": [
    {
     "name": "stdout",
     "output_type": "stream",
     "text": [
      "The P-Value of the ChiSq Test is: 1.2453868176977011e-06\n"
     ]
    }
   ],
   "source": [
    "from scipy.stats import chi2_contingency\n",
    "ChiSqResult = chi2_contingency(a)\n",
    " \n",
    "# P-Value is the Probability of H0 being True\n",
    "# If P-Value>0.05 then only we Accept the assumption(H0)\n",
    " \n",
    "print('The P-Value of the ChiSq Test is:', ChiSqResult[1])"
   ]
  },
  {
   "cell_type": "markdown",
   "metadata": {},
   "source": [
    "Our H0 is true and columns have no correlation among them\n",
    "Also P>0.5 so we accept H0\n",
    "we know if 2 variables are correlated p value will be near to zero"
   ]
  },
  {
   "cell_type": "markdown",
   "metadata": {},
   "source": [
    "### Feature Transformation"
   ]
  },
  {
   "cell_type": "code",
   "execution_count": 191,
   "metadata": {},
   "outputs": [
    {
     "data": {
      "text/html": [
       "<div>\n",
       "<style scoped>\n",
       "    .dataframe tbody tr th:only-of-type {\n",
       "        vertical-align: middle;\n",
       "    }\n",
       "\n",
       "    .dataframe tbody tr th {\n",
       "        vertical-align: top;\n",
       "    }\n",
       "\n",
       "    .dataframe thead th {\n",
       "        text-align: right;\n",
       "    }\n",
       "</style>\n",
       "<table border=\"1\" class=\"dataframe\">\n",
       "  <thead>\n",
       "    <tr style=\"text-align: right;\">\n",
       "      <th></th>\n",
       "      <th>ID</th>\n",
       "      <th>Salary</th>\n",
       "      <th>10percentage</th>\n",
       "      <th>12graduation</th>\n",
       "      <th>12percentage</th>\n",
       "      <th>CollegeID</th>\n",
       "      <th>CollegeTier</th>\n",
       "      <th>collegeGPA</th>\n",
       "      <th>CollegeCityID</th>\n",
       "      <th>CollegeCityTier</th>\n",
       "      <th>...</th>\n",
       "      <th>ComputerScience</th>\n",
       "      <th>MechanicalEngg</th>\n",
       "      <th>ElectricalEngg</th>\n",
       "      <th>TelecomEngg</th>\n",
       "      <th>CivilEngg</th>\n",
       "      <th>conscientiousness</th>\n",
       "      <th>agreeableness</th>\n",
       "      <th>extraversion</th>\n",
       "      <th>nueroticism</th>\n",
       "      <th>openess_to_experience</th>\n",
       "    </tr>\n",
       "  </thead>\n",
       "  <tbody>\n",
       "    <tr>\n",
       "      <th>count</th>\n",
       "      <td>3.998000e+03</td>\n",
       "      <td>3.998000e+03</td>\n",
       "      <td>3998.000000</td>\n",
       "      <td>3998.000000</td>\n",
       "      <td>3998.000000</td>\n",
       "      <td>3998.000000</td>\n",
       "      <td>3998.000000</td>\n",
       "      <td>3998.000000</td>\n",
       "      <td>3998.000000</td>\n",
       "      <td>3998.000000</td>\n",
       "      <td>...</td>\n",
       "      <td>3998.000000</td>\n",
       "      <td>3998.000000</td>\n",
       "      <td>3998.000000</td>\n",
       "      <td>3998.000000</td>\n",
       "      <td>3998.000000</td>\n",
       "      <td>3998.000000</td>\n",
       "      <td>3998.000000</td>\n",
       "      <td>3998.000000</td>\n",
       "      <td>3998.000000</td>\n",
       "      <td>3998.000000</td>\n",
       "    </tr>\n",
       "    <tr>\n",
       "      <th>mean</th>\n",
       "      <td>6.637945e+05</td>\n",
       "      <td>3.076998e+05</td>\n",
       "      <td>77.925443</td>\n",
       "      <td>2008.087544</td>\n",
       "      <td>74.466366</td>\n",
       "      <td>5156.851426</td>\n",
       "      <td>1.925713</td>\n",
       "      <td>71.486171</td>\n",
       "      <td>5156.851426</td>\n",
       "      <td>0.300400</td>\n",
       "      <td>...</td>\n",
       "      <td>90.742371</td>\n",
       "      <td>22.974737</td>\n",
       "      <td>16.478739</td>\n",
       "      <td>31.851176</td>\n",
       "      <td>2.683842</td>\n",
       "      <td>-0.037831</td>\n",
       "      <td>0.146496</td>\n",
       "      <td>0.002763</td>\n",
       "      <td>-0.169033</td>\n",
       "      <td>-0.138110</td>\n",
       "    </tr>\n",
       "    <tr>\n",
       "      <th>std</th>\n",
       "      <td>3.632182e+05</td>\n",
       "      <td>2.127375e+05</td>\n",
       "      <td>9.850162</td>\n",
       "      <td>1.653599</td>\n",
       "      <td>10.999933</td>\n",
       "      <td>4802.261482</td>\n",
       "      <td>0.262270</td>\n",
       "      <td>8.167338</td>\n",
       "      <td>4802.261482</td>\n",
       "      <td>0.458489</td>\n",
       "      <td>...</td>\n",
       "      <td>175.273083</td>\n",
       "      <td>98.123311</td>\n",
       "      <td>87.585634</td>\n",
       "      <td>104.852845</td>\n",
       "      <td>36.658505</td>\n",
       "      <td>1.028666</td>\n",
       "      <td>0.941782</td>\n",
       "      <td>0.951471</td>\n",
       "      <td>1.007580</td>\n",
       "      <td>1.008075</td>\n",
       "    </tr>\n",
       "    <tr>\n",
       "      <th>min</th>\n",
       "      <td>1.124400e+04</td>\n",
       "      <td>3.500000e+04</td>\n",
       "      <td>43.000000</td>\n",
       "      <td>1995.000000</td>\n",
       "      <td>40.000000</td>\n",
       "      <td>2.000000</td>\n",
       "      <td>1.000000</td>\n",
       "      <td>6.450000</td>\n",
       "      <td>2.000000</td>\n",
       "      <td>0.000000</td>\n",
       "      <td>...</td>\n",
       "      <td>-1.000000</td>\n",
       "      <td>-1.000000</td>\n",
       "      <td>-1.000000</td>\n",
       "      <td>-1.000000</td>\n",
       "      <td>-1.000000</td>\n",
       "      <td>-4.126700</td>\n",
       "      <td>-5.781600</td>\n",
       "      <td>-4.600900</td>\n",
       "      <td>-2.643000</td>\n",
       "      <td>-7.375700</td>\n",
       "    </tr>\n",
       "    <tr>\n",
       "      <th>25%</th>\n",
       "      <td>3.342842e+05</td>\n",
       "      <td>1.800000e+05</td>\n",
       "      <td>71.680000</td>\n",
       "      <td>2007.000000</td>\n",
       "      <td>66.000000</td>\n",
       "      <td>494.000000</td>\n",
       "      <td>2.000000</td>\n",
       "      <td>66.407500</td>\n",
       "      <td>494.000000</td>\n",
       "      <td>0.000000</td>\n",
       "      <td>...</td>\n",
       "      <td>-1.000000</td>\n",
       "      <td>-1.000000</td>\n",
       "      <td>-1.000000</td>\n",
       "      <td>-1.000000</td>\n",
       "      <td>-1.000000</td>\n",
       "      <td>-0.713525</td>\n",
       "      <td>-0.287100</td>\n",
       "      <td>-0.604800</td>\n",
       "      <td>-0.868200</td>\n",
       "      <td>-0.669200</td>\n",
       "    </tr>\n",
       "    <tr>\n",
       "      <th>50%</th>\n",
       "      <td>6.396000e+05</td>\n",
       "      <td>3.000000e+05</td>\n",
       "      <td>79.150000</td>\n",
       "      <td>2008.000000</td>\n",
       "      <td>74.400000</td>\n",
       "      <td>3879.000000</td>\n",
       "      <td>2.000000</td>\n",
       "      <td>71.720000</td>\n",
       "      <td>3879.000000</td>\n",
       "      <td>0.000000</td>\n",
       "      <td>...</td>\n",
       "      <td>-1.000000</td>\n",
       "      <td>-1.000000</td>\n",
       "      <td>-1.000000</td>\n",
       "      <td>-1.000000</td>\n",
       "      <td>-1.000000</td>\n",
       "      <td>0.046400</td>\n",
       "      <td>0.212400</td>\n",
       "      <td>0.091400</td>\n",
       "      <td>-0.234400</td>\n",
       "      <td>-0.094300</td>\n",
       "    </tr>\n",
       "    <tr>\n",
       "      <th>75%</th>\n",
       "      <td>9.904800e+05</td>\n",
       "      <td>3.700000e+05</td>\n",
       "      <td>85.670000</td>\n",
       "      <td>2009.000000</td>\n",
       "      <td>82.600000</td>\n",
       "      <td>8818.000000</td>\n",
       "      <td>2.000000</td>\n",
       "      <td>76.327500</td>\n",
       "      <td>8818.000000</td>\n",
       "      <td>1.000000</td>\n",
       "      <td>...</td>\n",
       "      <td>-1.000000</td>\n",
       "      <td>-1.000000</td>\n",
       "      <td>-1.000000</td>\n",
       "      <td>-1.000000</td>\n",
       "      <td>-1.000000</td>\n",
       "      <td>0.702700</td>\n",
       "      <td>0.812800</td>\n",
       "      <td>0.672000</td>\n",
       "      <td>0.526200</td>\n",
       "      <td>0.502400</td>\n",
       "    </tr>\n",
       "    <tr>\n",
       "      <th>max</th>\n",
       "      <td>1.298275e+06</td>\n",
       "      <td>4.000000e+06</td>\n",
       "      <td>97.760000</td>\n",
       "      <td>2013.000000</td>\n",
       "      <td>98.700000</td>\n",
       "      <td>18409.000000</td>\n",
       "      <td>2.000000</td>\n",
       "      <td>99.930000</td>\n",
       "      <td>18409.000000</td>\n",
       "      <td>1.000000</td>\n",
       "      <td>...</td>\n",
       "      <td>715.000000</td>\n",
       "      <td>623.000000</td>\n",
       "      <td>676.000000</td>\n",
       "      <td>548.000000</td>\n",
       "      <td>516.000000</td>\n",
       "      <td>1.995300</td>\n",
       "      <td>1.904800</td>\n",
       "      <td>2.535400</td>\n",
       "      <td>3.352500</td>\n",
       "      <td>1.822400</td>\n",
       "    </tr>\n",
       "  </tbody>\n",
       "</table>\n",
       "<p>8 rows × 27 columns</p>\n",
       "</div>"
      ],
      "text/plain": [
       "                 ID        Salary  10percentage  12graduation  12percentage  \\\n",
       "count  3.998000e+03  3.998000e+03   3998.000000   3998.000000   3998.000000   \n",
       "mean   6.637945e+05  3.076998e+05     77.925443   2008.087544     74.466366   \n",
       "std    3.632182e+05  2.127375e+05      9.850162      1.653599     10.999933   \n",
       "min    1.124400e+04  3.500000e+04     43.000000   1995.000000     40.000000   \n",
       "25%    3.342842e+05  1.800000e+05     71.680000   2007.000000     66.000000   \n",
       "50%    6.396000e+05  3.000000e+05     79.150000   2008.000000     74.400000   \n",
       "75%    9.904800e+05  3.700000e+05     85.670000   2009.000000     82.600000   \n",
       "max    1.298275e+06  4.000000e+06     97.760000   2013.000000     98.700000   \n",
       "\n",
       "          CollegeID  CollegeTier   collegeGPA  CollegeCityID  CollegeCityTier  \\\n",
       "count   3998.000000  3998.000000  3998.000000    3998.000000      3998.000000   \n",
       "mean    5156.851426     1.925713    71.486171    5156.851426         0.300400   \n",
       "std     4802.261482     0.262270     8.167338    4802.261482         0.458489   \n",
       "min        2.000000     1.000000     6.450000       2.000000         0.000000   \n",
       "25%      494.000000     2.000000    66.407500     494.000000         0.000000   \n",
       "50%     3879.000000     2.000000    71.720000    3879.000000         0.000000   \n",
       "75%     8818.000000     2.000000    76.327500    8818.000000         1.000000   \n",
       "max    18409.000000     2.000000    99.930000   18409.000000         1.000000   \n",
       "\n",
       "       ...  ComputerScience  MechanicalEngg  ElectricalEngg  TelecomEngg  \\\n",
       "count  ...      3998.000000     3998.000000     3998.000000  3998.000000   \n",
       "mean   ...        90.742371       22.974737       16.478739    31.851176   \n",
       "std    ...       175.273083       98.123311       87.585634   104.852845   \n",
       "min    ...        -1.000000       -1.000000       -1.000000    -1.000000   \n",
       "25%    ...        -1.000000       -1.000000       -1.000000    -1.000000   \n",
       "50%    ...        -1.000000       -1.000000       -1.000000    -1.000000   \n",
       "75%    ...        -1.000000       -1.000000       -1.000000    -1.000000   \n",
       "max    ...       715.000000      623.000000      676.000000   548.000000   \n",
       "\n",
       "         CivilEngg  conscientiousness  agreeableness  extraversion  \\\n",
       "count  3998.000000        3998.000000    3998.000000   3998.000000   \n",
       "mean      2.683842          -0.037831       0.146496      0.002763   \n",
       "std      36.658505           1.028666       0.941782      0.951471   \n",
       "min      -1.000000          -4.126700      -5.781600     -4.600900   \n",
       "25%      -1.000000          -0.713525      -0.287100     -0.604800   \n",
       "50%      -1.000000           0.046400       0.212400      0.091400   \n",
       "75%      -1.000000           0.702700       0.812800      0.672000   \n",
       "max     516.000000           1.995300       1.904800      2.535400   \n",
       "\n",
       "       nueroticism  openess_to_experience  \n",
       "count  3998.000000            3998.000000  \n",
       "mean     -0.169033              -0.138110  \n",
       "std       1.007580               1.008075  \n",
       "min      -2.643000              -7.375700  \n",
       "25%      -0.868200              -0.669200  \n",
       "50%      -0.234400              -0.094300  \n",
       "75%       0.526200               0.502400  \n",
       "max       3.352500               1.822400  \n",
       "\n",
       "[8 rows x 27 columns]"
      ]
     },
     "execution_count": 191,
     "metadata": {},
     "output_type": "execute_result"
    }
   ],
   "source": [
    "df.describe()"
   ]
  },
  {
   "cell_type": "code",
   "execution_count": 195,
   "metadata": {},
   "outputs": [
    {
     "data": {
      "text/html": [
       "<div>\n",
       "<style scoped>\n",
       "    .dataframe tbody tr th:only-of-type {\n",
       "        vertical-align: middle;\n",
       "    }\n",
       "\n",
       "    .dataframe tbody tr th {\n",
       "        vertical-align: top;\n",
       "    }\n",
       "\n",
       "    .dataframe thead th {\n",
       "        text-align: right;\n",
       "    }\n",
       "</style>\n",
       "<table border=\"1\" class=\"dataframe\">\n",
       "  <thead>\n",
       "    <tr style=\"text-align: right;\">\n",
       "      <th></th>\n",
       "      <th>ID</th>\n",
       "      <th>Salary</th>\n",
       "      <th>DOJ</th>\n",
       "      <th>DOL</th>\n",
       "      <th>Designation</th>\n",
       "      <th>JobCity</th>\n",
       "      <th>Gender</th>\n",
       "      <th>DOB</th>\n",
       "      <th>10percentage</th>\n",
       "      <th>10board</th>\n",
       "      <th>...</th>\n",
       "      <th>ComputerScience</th>\n",
       "      <th>MechanicalEngg</th>\n",
       "      <th>ElectricalEngg</th>\n",
       "      <th>TelecomEngg</th>\n",
       "      <th>CivilEngg</th>\n",
       "      <th>conscientiousness</th>\n",
       "      <th>agreeableness</th>\n",
       "      <th>extraversion</th>\n",
       "      <th>nueroticism</th>\n",
       "      <th>openess_to_experience</th>\n",
       "    </tr>\n",
       "  </thead>\n",
       "  <tbody>\n",
       "    <tr>\n",
       "      <th>0</th>\n",
       "      <td>203097</td>\n",
       "      <td>420000</td>\n",
       "      <td>2012-06-01</td>\n",
       "      <td>present</td>\n",
       "      <td>senior quality engineer</td>\n",
       "      <td>Bangalore</td>\n",
       "      <td>f</td>\n",
       "      <td>1990-02-19</td>\n",
       "      <td>84.30</td>\n",
       "      <td>board ofsecondary education,ap</td>\n",
       "      <td>...</td>\n",
       "      <td>-1</td>\n",
       "      <td>-1</td>\n",
       "      <td>-1</td>\n",
       "      <td>-1</td>\n",
       "      <td>-1</td>\n",
       "      <td>0.9737</td>\n",
       "      <td>0.8128</td>\n",
       "      <td>0.5269</td>\n",
       "      <td>1.35490</td>\n",
       "      <td>-0.4455</td>\n",
       "    </tr>\n",
       "    <tr>\n",
       "      <th>1</th>\n",
       "      <td>579905</td>\n",
       "      <td>500000</td>\n",
       "      <td>2013-09-01</td>\n",
       "      <td>present</td>\n",
       "      <td>assistant manager</td>\n",
       "      <td>Indore</td>\n",
       "      <td>m</td>\n",
       "      <td>1989-10-04</td>\n",
       "      <td>85.40</td>\n",
       "      <td>cbse</td>\n",
       "      <td>...</td>\n",
       "      <td>-1</td>\n",
       "      <td>-1</td>\n",
       "      <td>-1</td>\n",
       "      <td>-1</td>\n",
       "      <td>-1</td>\n",
       "      <td>-0.7335</td>\n",
       "      <td>0.3789</td>\n",
       "      <td>1.2396</td>\n",
       "      <td>-0.10760</td>\n",
       "      <td>0.8637</td>\n",
       "    </tr>\n",
       "    <tr>\n",
       "      <th>2</th>\n",
       "      <td>810601</td>\n",
       "      <td>325000</td>\n",
       "      <td>2014-06-01</td>\n",
       "      <td>present</td>\n",
       "      <td>systems engineer</td>\n",
       "      <td>Chennai</td>\n",
       "      <td>f</td>\n",
       "      <td>1992-08-03</td>\n",
       "      <td>85.00</td>\n",
       "      <td>cbse</td>\n",
       "      <td>...</td>\n",
       "      <td>-1</td>\n",
       "      <td>-1</td>\n",
       "      <td>-1</td>\n",
       "      <td>-1</td>\n",
       "      <td>-1</td>\n",
       "      <td>0.2718</td>\n",
       "      <td>1.7109</td>\n",
       "      <td>0.1637</td>\n",
       "      <td>-0.86820</td>\n",
       "      <td>0.6721</td>\n",
       "    </tr>\n",
       "    <tr>\n",
       "      <th>3</th>\n",
       "      <td>267447</td>\n",
       "      <td>1100000</td>\n",
       "      <td>2011-07-01</td>\n",
       "      <td>present</td>\n",
       "      <td>senior software engineer</td>\n",
       "      <td>Gurgaon</td>\n",
       "      <td>m</td>\n",
       "      <td>1989-12-05</td>\n",
       "      <td>85.60</td>\n",
       "      <td>cbse</td>\n",
       "      <td>...</td>\n",
       "      <td>-1</td>\n",
       "      <td>-1</td>\n",
       "      <td>-1</td>\n",
       "      <td>-1</td>\n",
       "      <td>-1</td>\n",
       "      <td>0.0464</td>\n",
       "      <td>0.3448</td>\n",
       "      <td>-0.3440</td>\n",
       "      <td>-0.40780</td>\n",
       "      <td>-0.9194</td>\n",
       "    </tr>\n",
       "    <tr>\n",
       "      <th>4</th>\n",
       "      <td>343523</td>\n",
       "      <td>200000</td>\n",
       "      <td>2014-03-01</td>\n",
       "      <td>2015-03-01 00:00:00</td>\n",
       "      <td>get</td>\n",
       "      <td>Manesar</td>\n",
       "      <td>m</td>\n",
       "      <td>1991-02-27</td>\n",
       "      <td>78.00</td>\n",
       "      <td>cbse</td>\n",
       "      <td>...</td>\n",
       "      <td>-1</td>\n",
       "      <td>-1</td>\n",
       "      <td>-1</td>\n",
       "      <td>-1</td>\n",
       "      <td>-1</td>\n",
       "      <td>-0.8810</td>\n",
       "      <td>-0.2793</td>\n",
       "      <td>-1.0697</td>\n",
       "      <td>0.09163</td>\n",
       "      <td>-0.1295</td>\n",
       "    </tr>\n",
       "    <tr>\n",
       "      <th>...</th>\n",
       "      <td>...</td>\n",
       "      <td>...</td>\n",
       "      <td>...</td>\n",
       "      <td>...</td>\n",
       "      <td>...</td>\n",
       "      <td>...</td>\n",
       "      <td>...</td>\n",
       "      <td>...</td>\n",
       "      <td>...</td>\n",
       "      <td>...</td>\n",
       "      <td>...</td>\n",
       "      <td>...</td>\n",
       "      <td>...</td>\n",
       "      <td>...</td>\n",
       "      <td>...</td>\n",
       "      <td>...</td>\n",
       "      <td>...</td>\n",
       "      <td>...</td>\n",
       "      <td>...</td>\n",
       "      <td>...</td>\n",
       "      <td>...</td>\n",
       "    </tr>\n",
       "    <tr>\n",
       "      <th>3993</th>\n",
       "      <td>47916</td>\n",
       "      <td>280000</td>\n",
       "      <td>2011-10-01</td>\n",
       "      <td>2012-10-01 00:00:00</td>\n",
       "      <td>software engineer</td>\n",
       "      <td>New Delhi</td>\n",
       "      <td>m</td>\n",
       "      <td>1987-04-15</td>\n",
       "      <td>52.09</td>\n",
       "      <td>cbse</td>\n",
       "      <td>...</td>\n",
       "      <td>-1</td>\n",
       "      <td>-1</td>\n",
       "      <td>-1</td>\n",
       "      <td>-1</td>\n",
       "      <td>-1</td>\n",
       "      <td>-0.1082</td>\n",
       "      <td>0.3448</td>\n",
       "      <td>0.2366</td>\n",
       "      <td>0.64980</td>\n",
       "      <td>-0.9194</td>\n",
       "    </tr>\n",
       "    <tr>\n",
       "      <th>3994</th>\n",
       "      <td>752781</td>\n",
       "      <td>100000</td>\n",
       "      <td>2013-07-01</td>\n",
       "      <td>2013-07-01 00:00:00</td>\n",
       "      <td>technical writer</td>\n",
       "      <td>Hyderabad</td>\n",
       "      <td>f</td>\n",
       "      <td>1992-08-27</td>\n",
       "      <td>90.00</td>\n",
       "      <td>state board</td>\n",
       "      <td>...</td>\n",
       "      <td>-1</td>\n",
       "      <td>-1</td>\n",
       "      <td>-1</td>\n",
       "      <td>-1</td>\n",
       "      <td>-1</td>\n",
       "      <td>-0.3027</td>\n",
       "      <td>0.8784</td>\n",
       "      <td>0.9322</td>\n",
       "      <td>0.77980</td>\n",
       "      <td>-0.0943</td>\n",
       "    </tr>\n",
       "    <tr>\n",
       "      <th>3995</th>\n",
       "      <td>355888</td>\n",
       "      <td>320000</td>\n",
       "      <td>2013-07-01</td>\n",
       "      <td>present</td>\n",
       "      <td>associate software engineer</td>\n",
       "      <td>Bangalore</td>\n",
       "      <td>m</td>\n",
       "      <td>1991-07-03</td>\n",
       "      <td>81.86</td>\n",
       "      <td>bse,odisha</td>\n",
       "      <td>...</td>\n",
       "      <td>-1</td>\n",
       "      <td>-1</td>\n",
       "      <td>-1</td>\n",
       "      <td>-1</td>\n",
       "      <td>-1</td>\n",
       "      <td>-1.5765</td>\n",
       "      <td>-1.5273</td>\n",
       "      <td>-1.5051</td>\n",
       "      <td>-1.31840</td>\n",
       "      <td>-0.7615</td>\n",
       "    </tr>\n",
       "    <tr>\n",
       "      <th>3996</th>\n",
       "      <td>947111</td>\n",
       "      <td>200000</td>\n",
       "      <td>2014-07-01</td>\n",
       "      <td>2015-01-01 00:00:00</td>\n",
       "      <td>software developer</td>\n",
       "      <td>Asifabadbanglore</td>\n",
       "      <td>f</td>\n",
       "      <td>1992-03-20</td>\n",
       "      <td>78.72</td>\n",
       "      <td>state board</td>\n",
       "      <td>...</td>\n",
       "      <td>438</td>\n",
       "      <td>-1</td>\n",
       "      <td>-1</td>\n",
       "      <td>-1</td>\n",
       "      <td>-1</td>\n",
       "      <td>-0.1590</td>\n",
       "      <td>0.0459</td>\n",
       "      <td>-0.4511</td>\n",
       "      <td>-0.36120</td>\n",
       "      <td>-0.0943</td>\n",
       "    </tr>\n",
       "    <tr>\n",
       "      <th>3997</th>\n",
       "      <td>324966</td>\n",
       "      <td>400000</td>\n",
       "      <td>2013-02-01</td>\n",
       "      <td>present</td>\n",
       "      <td>senior systems engineer</td>\n",
       "      <td>Chennai</td>\n",
       "      <td>f</td>\n",
       "      <td>1991-02-26</td>\n",
       "      <td>70.60</td>\n",
       "      <td>cbse</td>\n",
       "      <td>...</td>\n",
       "      <td>-1</td>\n",
       "      <td>-1</td>\n",
       "      <td>-1</td>\n",
       "      <td>-1</td>\n",
       "      <td>-1</td>\n",
       "      <td>-1.1128</td>\n",
       "      <td>-0.2793</td>\n",
       "      <td>-0.6343</td>\n",
       "      <td>1.32553</td>\n",
       "      <td>-0.6035</td>\n",
       "    </tr>\n",
       "  </tbody>\n",
       "</table>\n",
       "<p>3998 rows × 38 columns</p>\n",
       "</div>"
      ],
      "text/plain": [
       "          ID   Salary        DOJ                  DOL  \\\n",
       "0     203097   420000 2012-06-01              present   \n",
       "1     579905   500000 2013-09-01              present   \n",
       "2     810601   325000 2014-06-01              present   \n",
       "3     267447  1100000 2011-07-01              present   \n",
       "4     343523   200000 2014-03-01  2015-03-01 00:00:00   \n",
       "...      ...      ...        ...                  ...   \n",
       "3993   47916   280000 2011-10-01  2012-10-01 00:00:00   \n",
       "3994  752781   100000 2013-07-01  2013-07-01 00:00:00   \n",
       "3995  355888   320000 2013-07-01              present   \n",
       "3996  947111   200000 2014-07-01  2015-01-01 00:00:00   \n",
       "3997  324966   400000 2013-02-01              present   \n",
       "\n",
       "                      Designation           JobCity Gender        DOB  \\\n",
       "0         senior quality engineer         Bangalore      f 1990-02-19   \n",
       "1               assistant manager            Indore      m 1989-10-04   \n",
       "2                systems engineer           Chennai      f 1992-08-03   \n",
       "3        senior software engineer           Gurgaon      m 1989-12-05   \n",
       "4                             get           Manesar      m 1991-02-27   \n",
       "...                           ...               ...    ...        ...   \n",
       "3993            software engineer        New Delhi       m 1987-04-15   \n",
       "3994             technical writer         Hyderabad      f 1992-08-27   \n",
       "3995  associate software engineer         Bangalore      m 1991-07-03   \n",
       "3996           software developer  Asifabadbanglore      f 1992-03-20   \n",
       "3997      senior systems engineer           Chennai      f 1991-02-26   \n",
       "\n",
       "      10percentage                         10board  ...  ComputerScience  \\\n",
       "0            84.30  board ofsecondary education,ap  ...               -1   \n",
       "1            85.40                            cbse  ...               -1   \n",
       "2            85.00                            cbse  ...               -1   \n",
       "3            85.60                            cbse  ...               -1   \n",
       "4            78.00                            cbse  ...               -1   \n",
       "...            ...                             ...  ...              ...   \n",
       "3993         52.09                            cbse  ...               -1   \n",
       "3994         90.00                     state board  ...               -1   \n",
       "3995         81.86                      bse,odisha  ...               -1   \n",
       "3996         78.72                     state board  ...              438   \n",
       "3997         70.60                            cbse  ...               -1   \n",
       "\n",
       "      MechanicalEngg ElectricalEngg  TelecomEngg  CivilEngg conscientiousness  \\\n",
       "0                 -1             -1           -1         -1            0.9737   \n",
       "1                 -1             -1           -1         -1           -0.7335   \n",
       "2                 -1             -1           -1         -1            0.2718   \n",
       "3                 -1             -1           -1         -1            0.0464   \n",
       "4                 -1             -1           -1         -1           -0.8810   \n",
       "...              ...            ...          ...        ...               ...   \n",
       "3993              -1             -1           -1         -1           -0.1082   \n",
       "3994              -1             -1           -1         -1           -0.3027   \n",
       "3995              -1             -1           -1         -1           -1.5765   \n",
       "3996              -1             -1           -1         -1           -0.1590   \n",
       "3997              -1             -1           -1         -1           -1.1128   \n",
       "\n",
       "     agreeableness  extraversion  nueroticism  openess_to_experience  \n",
       "0           0.8128        0.5269      1.35490                -0.4455  \n",
       "1           0.3789        1.2396     -0.10760                 0.8637  \n",
       "2           1.7109        0.1637     -0.86820                 0.6721  \n",
       "3           0.3448       -0.3440     -0.40780                -0.9194  \n",
       "4          -0.2793       -1.0697      0.09163                -0.1295  \n",
       "...            ...           ...          ...                    ...  \n",
       "3993        0.3448        0.2366      0.64980                -0.9194  \n",
       "3994        0.8784        0.9322      0.77980                -0.0943  \n",
       "3995       -1.5273       -1.5051     -1.31840                -0.7615  \n",
       "3996        0.0459       -0.4511     -0.36120                -0.0943  \n",
       "3997       -0.2793       -0.6343      1.32553                -0.6035  \n",
       "\n",
       "[3998 rows x 38 columns]"
      ]
     },
     "execution_count": 195,
     "metadata": {},
     "output_type": "execute_result"
    }
   ],
   "source": [
    "from sklearn.preprocessing import OrdinalEncoder\n",
    "en = OrdinalEncoder()\n",
    "en.fit(df[['Gender']])\n",
    "df"
   ]
  },
  {
   "cell_type": "code",
   "execution_count": null,
   "metadata": {},
   "outputs": [],
   "source": []
  },
  {
   "cell_type": "code",
   "execution_count": null,
   "metadata": {},
   "outputs": [],
   "source": []
  },
  {
   "cell_type": "code",
   "execution_count": null,
   "metadata": {},
   "outputs": [],
   "source": []
  },
  {
   "cell_type": "code",
   "execution_count": null,
   "metadata": {},
   "outputs": [],
   "source": []
  },
  {
   "cell_type": "code",
   "execution_count": null,
   "metadata": {},
   "outputs": [],
   "source": []
  },
  {
   "cell_type": "code",
   "execution_count": null,
   "metadata": {},
   "outputs": [],
   "source": []
  }
 ],
 "metadata": {
  "kernelspec": {
   "display_name": "Python 3",
   "language": "python",
   "name": "python3"
  },
  "language_info": {
   "codemirror_mode": {
    "name": "ipython",
    "version": 3
   },
   "file_extension": ".py",
   "mimetype": "text/x-python",
   "name": "python",
   "nbconvert_exporter": "python",
   "pygments_lexer": "ipython3",
   "version": "3.7.6"
  }
 },
 "nbformat": 4,
 "nbformat_minor": 4
}
